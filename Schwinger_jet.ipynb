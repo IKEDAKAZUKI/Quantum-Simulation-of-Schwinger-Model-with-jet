{
 "cells": [
  {
   "cell_type": "code",
   "execution_count": 1,
   "metadata": {},
   "outputs": [],
   "source": [
    "import numpy as np\n",
    "import matplotlib.pyplot as plt\n",
    "import scipy\n",
    "import scipy.integrate as integrate\n",
    "from scipy.integrate import quad\n",
    "import scipy.special as special\n",
    "from scipy.linalg import expm\n",
    "from scipy.linalg import logm\n",
    "from scipy.optimize import curve_fit\n",
    "import seaborn as sns\n",
    "import pandas as pd\n",
    "#from lmfit import Model\n",
    "from scipy.integrate import odeint\n",
    "from numpy import array, dot, pi\n",
    "from scipy.integrate import complex_ode\n",
    "from scipy import integrate\n",
    "from tqdm import tqdm\n",
    "from scipy.sparse.linalg import eigsh "
   ]
  },
  {
   "cell_type": "code",
   "execution_count": 2,
   "metadata": {},
   "outputs": [],
   "source": [
    "def X(i,L):\n",
    "    op=np.array([[0,1],[1,0]])\n",
    "    if 1 < i  and i<L:\n",
    "        Op_i=np.kron(np.kron(np.eye(2**(i-1)),op),np.eye(2**(L-i)))\n",
    "    if i==1:\n",
    "        Op_i=np.kron(op,np.eye(2**(L-1)))\n",
    "    if i==L:\n",
    "        Op_i=np.kron(np.eye(2**(L-1)),op)\n",
    "        \n",
    "    return Op_i\n",
    "\n",
    "def Z(i,L):\n",
    "    op=np.array([[1,0],[0,-1]])\n",
    "    if 1 < i  and i<L:\n",
    "        Zi=np.kron(np.kron(np.eye(2**(i-1)),op),np.eye(2**(L-i)))\n",
    "    if i==1:\n",
    "        Zi=np.kron(op,np.eye(2**(L-1)))\n",
    "    if i==L:\n",
    "        Zi=np.kron(np.eye(2**(L-1)),op)\n",
    "    return Zi\n",
    "\n",
    "def Y(i,L):\n",
    "    op=np.array([[0,-1j],[1j,0]])\n",
    "    if 1 < i  and i<L:\n",
    "        Yi=np.kron(np.kron(np.eye(2**(i-1)),op),np.eye(2**(L-i)))\n",
    "    if i==1:\n",
    "        Yi=np.kron(op,np.eye(2**(L-1)))\n",
    "    if i==L:\n",
    "        Yi=np.kron(np.eye(2**(L-1)),op)\n",
    "    return Yi"
   ]
  },
  {
   "cell_type": "markdown",
   "metadata": {},
   "source": [
    "Link opertor"
   ]
  },
  {
   "cell_type": "code",
   "execution_count": 3,
   "metadata": {},
   "outputs": [],
   "source": [
    "def V(Lam):\n",
    "    U1=np.zeros([2*Lam,2*Lam])\n",
    "    U1[0,2*Lam-1]=1\n",
    "    \n",
    "    for i in range(2*Lam-1):\n",
    "        U1[i+1,i]=1\n",
    "        \n",
    "    return U1\n",
    "\n",
    "\n",
    "def V_dag(Lam):\n",
    "    U1=np.zeros([2*Lam,2*Lam])\n",
    "    U1[2*Lam-1,0]=1\n",
    "    \n",
    "    for i in range(2*Lam-1):\n",
    "        U1[i,i+1]=1\n",
    "    \n",
    "    return U1"
   ]
  },
  {
   "cell_type": "code",
   "execution_count": 4,
   "metadata": {},
   "outputs": [],
   "source": [
    "def U(i,Lam,L):\n",
    "    op=V(Lam)\n",
    "    if 1 < i  and i<L:\n",
    "        op_i=np.kron(np.kron(np.eye((2*Lam)**(i-1)),op),np.eye((2*Lam)**(L-i)))\n",
    "    if i==1:\n",
    "        op_i=np.kron(op,np.eye((2*Lam)**(L-1)))\n",
    "    if i==L:\n",
    "        op_i=np.kron(np.eye((2*Lam)**(L-1)),op)\n",
    "        \n",
    "    return op_i\n",
    "\n",
    "def U_dag(i,Lam,L):\n",
    "    op=V_dag(Lam)\n",
    "    if 1 < i  and i<L:\n",
    "        op_i=np.kron(np.kron(np.eye((2*Lam)**(i-1)),op),np.eye((2*Lam)**(L-i)))\n",
    "    if i==1:\n",
    "        op_i=np.kron(op,np.eye((2*Lam)**(L-1)))\n",
    "    if i==L:\n",
    "        op_i=np.kron(np.eye((2*Lam)**(L-1)),op)\n",
    "        \n",
    "    return op_i"
   ]
  },
  {
   "cell_type": "code",
   "execution_count": null,
   "metadata": {},
   "outputs": [],
   "source": []
  },
  {
   "cell_type": "code",
   "execution_count": 5,
   "metadata": {},
   "outputs": [],
   "source": [
    "def E(Lam):\n",
    "    U1=np.zeros([2*Lam,2*Lam])\n",
    "    for i in range(2*Lam):\n",
    "        U1[i,i]=-Lam+i\n",
    "        \n",
    "    return U1"
   ]
  },
  {
   "cell_type": "code",
   "execution_count": 6,
   "metadata": {},
   "outputs": [
    {
     "data": {
      "text/plain": [
       "array([[0., 0., 0., 0., 0., 0., 0., 0.],\n",
       "       [0., 0., 0., 0., 0., 0., 0., 0.],\n",
       "       [0., 0., 0., 0., 0., 0., 0., 0.],\n",
       "       [0., 0., 0., 0., 0., 0., 0., 0.],\n",
       "       [0., 0., 0., 0., 0., 0., 0., 0.],\n",
       "       [0., 0., 0., 0., 0., 0., 0., 0.],\n",
       "       [0., 0., 0., 0., 0., 0., 0., 0.],\n",
       "       [8., 0., 0., 0., 0., 0., 0., 0.]])"
      ]
     },
     "execution_count": 6,
     "metadata": {},
     "output_type": "execute_result"
    }
   ],
   "source": [
    "E(4).dot(V_dag(4))-V_dag(4).dot(E(4))+V_dag(4)"
   ]
  },
  {
   "cell_type": "code",
   "execution_count": null,
   "metadata": {},
   "outputs": [],
   "source": []
  },
  {
   "cell_type": "code",
   "execution_count": 7,
   "metadata": {},
   "outputs": [],
   "source": [
    "def E2(i,Lam,L):\n",
    "    X=E(Lam).dot(E(Lam))\n",
    "    if 1 < i  and i<L:\n",
    "        Xi=np.kron(np.kron(np.eye((2*Lam)**(i-1)),X),np.eye((2*Lam)**(L-i)))\n",
    "    if i==1:\n",
    "        Xi=np.kron(X,np.eye((2*Lam)**(L-1)))\n",
    "    if i==L:\n",
    "        Xi=np.kron(np.eye((2*Lam)**(L-1)),X)\n",
    "        \n",
    "    return Xi"
   ]
  },
  {
   "cell_type": "code",
   "execution_count": 8,
   "metadata": {},
   "outputs": [],
   "source": [
    "def Ham_XX(Lam,L):\n",
    "    H=np.kron((U(L,Lam,L)+U_dag(L,Lam,L)), X(L,L).dot(X(1,L)))\n",
    "    for i in range(1,L):\n",
    "        H+=np.kron((U(i,Lam,L)+U_dag(i,Lam,L)), X(i,L).dot(X(i+1,L)))\n",
    "        \n",
    "    return 0.25*H"
   ]
  },
  {
   "cell_type": "code",
   "execution_count": null,
   "metadata": {},
   "outputs": [],
   "source": []
  },
  {
   "cell_type": "code",
   "execution_count": 9,
   "metadata": {},
   "outputs": [],
   "source": [
    "def Ham_YY(Lam,L):\n",
    "    H=np.kron((U(L,Lam,L)+U_dag(L,Lam,L)), Y(L,L).dot(Y(1,L)))\n",
    "    for i in range(1,L):\n",
    "        H+=np.kron((U(i,Lam,L)+U_dag(i,Lam,L)), Y(i,L).dot(Y(i+1,L)))\n",
    "        \n",
    "    return 0.25*H"
   ]
  },
  {
   "cell_type": "code",
   "execution_count": 10,
   "metadata": {},
   "outputs": [],
   "source": [
    "def Ham_XY(Lam,L):\n",
    "    H=np.kron((U(L,Lam,L)-U_dag(L,Lam,L)), X(L,L).dot(Y(1,L)))\n",
    "    for i in range(1,L):\n",
    "        H+=np.kron((U(i,Lam,L)-U_dag(i,Lam,L)), X(i,L).dot(Y(i+1,L)))\n",
    "        \n",
    "    return 0.25j*H"
   ]
  },
  {
   "cell_type": "code",
   "execution_count": 11,
   "metadata": {},
   "outputs": [],
   "source": [
    "def Ham_YX(Lam,L):\n",
    "    H=np.kron((U(L,Lam,L)-U_dag(L,Lam,L)), Y(L,L).dot(X(1,L)))\n",
    "    for i in range(1,L):\n",
    "        H+=np.kron((U(i,Lam,L)-U_dag(i,Lam,L)), Y(i,L).dot(X(i+1,L)))\n",
    "        \n",
    "    return -0.25j*H"
   ]
  },
  {
   "cell_type": "code",
   "execution_count": 12,
   "metadata": {},
   "outputs": [],
   "source": [
    "def Ham_Z(m, Lam,L):\n",
    "    H=np.kron(np.eye((2*Lam)**L) , Z(L,L))\n",
    "    for i in range(1,L):\n",
    "        H+=np.kron(np.eye((2*Lam)**L) , Z(i,L))\n",
    "        \n",
    "    return 0.5*m*H"
   ]
  },
  {
   "cell_type": "code",
   "execution_count": 13,
   "metadata": {},
   "outputs": [],
   "source": [
    "def Ham_E(g, Lam,L):\n",
    "    H=np.kron( E2(L,Lam,L) , np.eye(2**L))\n",
    "    for i in range(1,L):\n",
    "        H+=np.kron( E2(i,Lam,L) , np.eye(2**L))\n",
    "        \n",
    "    return (0.5*g**2)*H"
   ]
  },
  {
   "cell_type": "code",
   "execution_count": 14,
   "metadata": {},
   "outputs": [
    {
     "data": {
      "text/plain": [
       "array([[7.5+0.j, 0. +0.j, 0. +0.j, ..., 0. +0.j, 0. +0.j, 0. +0.j],\n",
       "       [0. +0.j, 6.5+0.j, 0. +0.j, ..., 0. +0.j, 0. +0.j, 0. +0.j],\n",
       "       [0. +0.j, 0. +0.j, 6.5+0.j, ..., 0. +0.j, 0. +0.j, 0. +0.j],\n",
       "       ...,\n",
       "       [0. +0.j, 0. +0.j, 0. +0.j, ..., 1. +0.j, 0. +0.j, 0. +0.j],\n",
       "       [0. +0.j, 0. +0.j, 0. +0.j, ..., 0. +0.j, 1. +0.j, 0. +0.j],\n",
       "       [0. +0.j, 0. +0.j, 0. +0.j, ..., 0. +0.j, 0. +0.j, 0. +0.j]])"
      ]
     },
     "execution_count": 14,
     "metadata": {},
     "output_type": "execute_result"
    }
   ],
   "source": [
    "Ham_XX(2,3)+Ham_XY(2,3)+Ham_YX(2,3)+Ham_XX(2,3)+Ham_Z(1,2,3)+Ham_E(1,2,3)"
   ]
  },
  {
   "cell_type": "code",
   "execution_count": 15,
   "metadata": {},
   "outputs": [],
   "source": [
    "def Ham_0(m,g, Lam,L):\n",
    "    return Ham_XX(Lam,L)+Ham_XY(Lam,L)+Ham_YX(Lam,L)+Ham_XX(Lam,L)+Ham_Z(m,Lam,L)+Ham_E(g,Lam,L)\n",
    "    "
   ]
  },
  {
   "cell_type": "code",
   "execution_count": 43,
   "metadata": {},
   "outputs": [],
   "source": [
    "from scipy import sparse\n",
    "from scipy.sparse import csr_matrix\n",
    "def ext(t,Lam,L,k):\n",
    "    OP=np.eye((2*Lam)**L)\n",
    "    #OP=sparse.csr_matrix(np.eye((2*Lam)**L))\n",
    "    \n",
    "    if t> 1:\n",
    "        OP=OP.dot(dot(U(1,Lam,L), U(L,Lam,L) ))\n",
    "        \n",
    "    if t>2:\n",
    "        OP=OP.dot(dot(np.linalg.matrix_power(U(2,Lam,L), 2), np.linalg.matrix_power(U(L-1,Lam,L), 2)))\n",
    "        \n",
    "    if t>3:\n",
    "        OP=OP.dot(dot(np.linalg.matrix_power(U(3,Lam,L), 3), np.linalg.matrix_power(U(L-2,Lam,L), 3)))\n",
    "        \n",
    "    if t>4:\n",
    "        OP=OP.dot(dot(np.linalg.matrix_power(U(4,Lam,L), 4), np.linalg.matrix_power(U(L-3,Lam,L), 4)))\n",
    "\n",
    "    if t>5:\n",
    "        OP=OP.dot(dot(np.linalg.matrix_power(U(5,Lam,L), 5), np.linalg.matrix_power(U(L-4,Lam,L), 5)))\n",
    "        \n",
    "    if t>6:\n",
    "        OP=OP.dot(dot(np.linalg.matrix_power(U(6,Lam,L), 6), np.linalg.matrix_power(U(L-5,Lam,L), 6)))\n",
    "            \n",
    "    OP=np.kron(OP,np.eye(2**L))\n",
    "    \n",
    "    for i in range(k):\n",
    "        OP=scipy.linalg.sqrtm(OP)\n",
    "    \n",
    "    return OP"
   ]
  },
  {
   "cell_type": "code",
   "execution_count": 17,
   "metadata": {},
   "outputs": [
    {
     "data": {
      "text/plain": [
       "<2x2 sparse matrix of type '<class 'numpy.float64'>'\n",
       "\twith 2 stored elements in Compressed Sparse Row format>"
      ]
     },
     "execution_count": 17,
     "metadata": {},
     "output_type": "execute_result"
    }
   ],
   "source": [
    "sparse.csr_matrix(np.eye(2))"
   ]
  },
  {
   "cell_type": "code",
   "execution_count": 19,
   "metadata": {},
   "outputs": [
    {
     "data": {
      "text/plain": [
       "array([[1., 0., 0., ..., 0., 0., 0.],\n",
       "       [0., 1., 0., ..., 0., 0., 0.],\n",
       "       [0., 0., 1., ..., 0., 0., 0.],\n",
       "       ...,\n",
       "       [0., 0., 0., ..., 1., 0., 0.],\n",
       "       [0., 0., 0., ..., 0., 1., 0.],\n",
       "       [0., 0., 0., ..., 0., 0., 1.]])"
      ]
     },
     "execution_count": 19,
     "metadata": {},
     "output_type": "execute_result"
    }
   ],
   "source": [
    "ext(1,2,4,2)"
   ]
  },
  {
   "cell_type": "code",
   "execution_count": 44,
   "metadata": {},
   "outputs": [],
   "source": [
    "def evolv_XX(t,Lam,L,k):\n",
    "    return expm(-1j*(t/k)*Ham_XX(Lam,L))\n",
    "\n",
    "def evolv_XY(t,Lam,L,k):\n",
    "    return expm(-1j*(t/k)*Ham_XY(Lam,L))\n",
    "\n",
    "def evolv_YX(t,Lam,L,k):\n",
    "    return expm(-1j*(t/k)*Ham_YX(Lam,L))\n",
    "\n",
    "def evolv_YY(t,Lam,L,k):\n",
    "    return expm(-1j*(t/k)*Ham_YY(Lam,L))\n",
    "\n",
    "def evolv_Z(t,m, Lam,L,k):\n",
    "    return expm(-1j*(t/k)*Ham_Z(m,Lam,L))\n",
    "\n",
    "def evolv_E(t,g, Lam,L,k):\n",
    "    return expm(-1j*(t/k)*Ham_E(g, Lam,L))"
   ]
  },
  {
   "cell_type": "code",
   "execution_count": 45,
   "metadata": {},
   "outputs": [],
   "source": [
    "def evolv(t,m,g,Lam,L,k):\n",
    "    M=evolv_XX(t,Lam,L,k).dot(evolv_XY(t,Lam,L,k))\n",
    "    M=M.dot(evolv_YX(t,Lam,L,k))\n",
    "    M=M.dot(evolv_YY(t,Lam,L,k))\n",
    "    M=M.dot(evolv_Z(t,m,Lam,L,k))\n",
    "    M=M.dot(evolv_E(t,g,Lam,L,k))\n",
    "    M=M.dot(ext(t,Lam,L,k))\n",
    "    \n",
    "    return np.linalg.matrix_power(M, k)\n",
    "    "
   ]
  },
  {
   "cell_type": "code",
   "execution_count": 22,
   "metadata": {},
   "outputs": [
    {
     "data": {
      "text/plain": [
       "array([[ 1.29239189e-01-2.13928246e-01j,  1.76118964e-16-4.84892172e-16j,\n",
       "         3.80654678e-17-3.64272629e-16j, ...,\n",
       "        -1.83794919e-16-3.77117200e-16j, -4.31987753e-16-1.82071029e-16j,\n",
       "         1.53144593e-16+2.13057284e-16j],\n",
       "       [-3.13576841e-17-5.12198010e-16j,  1.05070203e-01-5.15413552e-02j,\n",
       "         1.94561140e-16-1.83751263e-16j, ...,\n",
       "        -3.93697201e-16+6.07229104e-16j,  1.55698180e-17+5.17595803e-16j,\n",
       "        -3.70945881e-16+2.06050769e-16j],\n",
       "       [-2.17996182e-16+3.86696206e-16j,  3.98229579e-16-4.67000850e-16j,\n",
       "         1.05070203e-01-5.15413552e-02j, ...,\n",
       "        -1.70993237e-16-1.60946387e-16j, -2.68139524e-16+1.55605649e-16j,\n",
       "        -1.72721769e-16+7.34376211e-17j],\n",
       "       ...,\n",
       "       [ 3.68801741e-16-5.40461124e-16j,  1.27024285e-16-4.12264212e-17j,\n",
       "        -6.75282658e-16-4.47666560e-16j, ...,\n",
       "         1.10549402e-01+1.93040792e-01j,  1.52125418e-16-3.70378180e-16j,\n",
       "        -2.69540555e-16+9.08014787e-18j],\n",
       "       [-7.47552952e-17-3.55798979e-16j, -2.32759943e-16+3.86932009e-16j,\n",
       "        -4.47166771e-16+5.46635387e-16j, ...,\n",
       "        -6.34175868e-17-9.80803337e-18j,  1.10549402e-01+1.93040792e-01j,\n",
       "        -7.91655871e-16+8.36975334e-16j],\n",
       "       [-2.83664458e-16+3.30954115e-16j,  4.47145899e-16+4.08472890e-16j,\n",
       "         6.59905961e-16+3.04637322e-16j, ...,\n",
       "         2.71196787e-16-1.45532958e-16j, -2.94657787e-16-6.78035413e-17j,\n",
       "         4.12321196e-01-2.42821454e-01j]])"
      ]
     },
     "execution_count": 22,
     "metadata": {},
     "output_type": "execute_result"
    }
   ],
   "source": [
    "evolv(4.3,1,1,2,4,3)"
   ]
  },
  {
   "cell_type": "code",
   "execution_count": 46,
   "metadata": {},
   "outputs": [],
   "source": [
    "def Ene(t,m,g,Lam,L,k):\n",
    "    eig_val, eig_vec=eigsh(Ham_0(m,g, Lam,L), k=1, which=\"SA\")\n",
    "    idx = eig_val.argsort()[::1]\n",
    "    eig_val_sorted = eig_val[idx]\n",
    "    eig_vec_sorted =np.transpose(eig_vec[:,idx])\n",
    "    \n",
    "    u=eig_vec_sorted[0]#/float(np.sqrt(np.dot(np.conjugate(eig_vec_sorted[0]),eig_vec_sorted[0])))\n",
    "    \n",
    "    #return np.dot(np.conjugate(eig_vec_sorted[0]),np.dot(commn, eig_vec_sorted[0]))\n",
    "    \n",
    "    \n",
    "    return np.dot(np.conjugate(u),np.dot(evolv(t,m,g,Lam,L,k), u))\n",
    "    "
   ]
  },
  {
   "cell_type": "code",
   "execution_count": 21,
   "metadata": {},
   "outputs": [
    {
     "name": "stderr",
     "output_type": "stream",
     "text": [
      "100%|██████████| 24/24 [1:37:31<00:00, 243.82s/it]\n"
     ]
    }
   ],
   "source": [
    "x=[0.2*s for s in range(24)]\n",
    "y=[Ene(0.2*s,1,1,2,4,3) for s in tqdm(range(24))]"
   ]
  },
  {
   "cell_type": "code",
   "execution_count": 49,
   "metadata": {},
   "outputs": [
    {
     "name": "stderr",
     "output_type": "stream",
     "text": [
      "\n",
      "  0%|          | 0/96 [00:00<?, ?it/s]\u001b[A\n",
      "  1%|          | 1/96 [01:48<2:51:21, 108.23s/it]\u001b[A\n",
      "  2%|▏         | 2/96 [03:54<2:57:59, 113.61s/it]\u001b[A\n",
      "  3%|▎         | 3/96 [06:00<3:01:48, 117.29s/it]\u001b[A\n",
      "  4%|▍         | 4/96 [08:05<3:03:40, 119.79s/it]\u001b[A\n",
      "  5%|▌         | 5/96 [10:11<3:04:07, 121.40s/it]\u001b[A\n",
      "  6%|▋         | 6/96 [12:16<3:04:06, 122.74s/it]\u001b[A\n",
      "  7%|▋         | 7/96 [14:33<3:08:15, 126.91s/it]\u001b[A\n",
      "  8%|▊         | 8/96 [16:51<3:10:47, 130.08s/it]\u001b[A\n",
      "  9%|▉         | 9/96 [19:07<3:11:34, 132.12s/it]\u001b[A\n",
      " 10%|█         | 10/96 [21:24<3:11:19, 133.49s/it]\u001b[A\n",
      " 11%|█▏        | 11/96 [23:41<3:10:39, 134.58s/it]\u001b[A\n",
      " 12%|█▎        | 12/96 [25:59<3:09:34, 135.41s/it]\u001b[A\n",
      " 14%|█▎        | 13/96 [28:16<3:08:11, 136.05s/it]\u001b[A\n",
      " 15%|█▍        | 14/96 [30:33<3:06:08, 136.20s/it]\u001b[A\n",
      " 16%|█▌        | 15/96 [32:50<3:04:29, 136.66s/it]\u001b[A\n",
      " 17%|█▋        | 16/96 [35:07<3:02:11, 136.65s/it]\u001b[A\n",
      " 18%|█▊        | 17/96 [37:25<3:00:18, 136.95s/it]\u001b[A\n",
      " 19%|█▉        | 18/96 [39:41<2:57:50, 136.81s/it]\u001b[A\n",
      " 20%|█▉        | 19/96 [41:58<2:55:39, 136.88s/it]\u001b[A\n",
      " 21%|██        | 20/96 [44:16<2:53:32, 137.01s/it]\u001b[A\n",
      " 22%|██▏       | 21/96 [46:43<2:55:11, 140.16s/it]\u001b[A\n",
      " 23%|██▎       | 22/96 [50:27<3:24:00, 165.41s/it]\u001b[A\n",
      " 24%|██▍       | 23/96 [54:14<3:43:43, 183.88s/it]\u001b[A\n",
      " 25%|██▌       | 24/96 [57:59<3:55:21, 196.13s/it]\u001b[A\n",
      " 26%|██▌       | 25/96 [1:01:44<4:02:28, 204.91s/it]\u001b[A\n",
      " 27%|██▋       | 26/96 [1:05:28<4:05:41, 210.59s/it]\u001b[A\n",
      " 28%|██▊       | 27/96 [1:09:16<4:08:10, 215.80s/it]\u001b[A\n",
      " 29%|██▉       | 28/96 [1:13:01<4:07:44, 218.59s/it]\u001b[A\n",
      " 30%|███       | 29/96 [1:16:46<4:06:00, 220.30s/it]\u001b[A\n",
      " 31%|███▏      | 30/96 [1:20:30<4:03:31, 221.39s/it]\u001b[A\n",
      " 32%|███▏      | 31/96 [1:24:14<4:00:53, 222.36s/it]\u001b[A\n",
      " 33%|███▎      | 32/96 [1:27:59<3:58:05, 223.21s/it]\u001b[A\n",
      " 34%|███▍      | 33/96 [1:31:43<3:54:31, 223.36s/it]\u001b[A\n",
      " 35%|███▌      | 34/96 [1:35:26<3:50:46, 223.34s/it]\u001b[A\n",
      " 36%|███▋      | 35/96 [1:39:10<3:47:04, 223.35s/it]\u001b[A\n",
      " 38%|███▊      | 36/96 [1:42:53<3:43:24, 223.42s/it]\u001b[A\n",
      " 39%|███▊      | 37/96 [1:46:36<3:39:21, 223.07s/it]\u001b[A\n",
      " 40%|███▉      | 38/96 [1:50:18<3:35:33, 222.99s/it]\u001b[A\n",
      " 41%|████      | 39/96 [1:54:02<3:32:02, 223.20s/it]\u001b[A\n",
      " 42%|████▏     | 40/96 [1:57:44<3:28:03, 222.92s/it]\u001b[A\n",
      " 43%|████▎     | 41/96 [2:01:28<3:24:24, 223.00s/it]\u001b[A\n",
      " 44%|████▍     | 42/96 [2:05:09<3:20:22, 222.65s/it]\u001b[A\n",
      " 45%|████▍     | 43/96 [2:09:07<3:20:38, 227.14s/it]\u001b[A\n",
      " 46%|████▌     | 44/96 [2:13:06<3:19:50, 230.59s/it]\u001b[A\n",
      " 47%|████▋     | 45/96 [2:17:03<3:17:40, 232.57s/it]\u001b[A\n",
      " 48%|████▊     | 46/96 [2:21:00<3:14:52, 233.86s/it]\u001b[A\n",
      " 49%|████▉     | 47/96 [2:24:57<3:11:53, 234.98s/it]\u001b[A\n",
      " 50%|█████     | 48/96 [2:28:55<3:08:35, 235.74s/it]\u001b[A\n",
      " 51%|█████     | 49/96 [2:32:52<3:05:06, 236.31s/it]\u001b[A\n",
      " 52%|█████▏    | 50/96 [2:36:50<3:01:21, 236.56s/it]\u001b[A\n",
      " 53%|█████▎    | 51/96 [2:40:47<2:57:33, 236.75s/it]\u001b[A\n",
      " 54%|█████▍    | 52/96 [2:44:44<2:53:46, 236.96s/it]\u001b[A\n",
      " 55%|█████▌    | 53/96 [2:48:42<2:49:56, 237.12s/it]\u001b[A\n",
      " 56%|█████▋    | 54/96 [2:52:40<2:46:11, 237.41s/it]\u001b[A\n",
      " 57%|█████▋    | 55/96 [2:56:37<2:42:16, 237.48s/it]\u001b[A\n",
      " 58%|█████▊    | 56/96 [3:00:35<2:38:22, 237.56s/it]\u001b[A\n",
      " 59%|█████▉    | 57/96 [3:04:36<2:35:04, 238.59s/it]\u001b[A\n",
      " 60%|██████    | 58/96 [3:08:33<2:30:45, 238.04s/it]\u001b[A\n",
      " 61%|██████▏   | 59/96 [3:12:30<2:26:40, 237.84s/it]\u001b[A\n",
      " 62%|██████▎   | 60/96 [3:16:28<2:22:35, 237.66s/it]\u001b[A\n",
      " 64%|██████▎   | 61/96 [3:20:24<2:18:28, 237.37s/it]\u001b[A\n",
      " 65%|██████▍   | 62/96 [3:24:24<2:14:59, 238.21s/it]\u001b[A\n",
      " 66%|██████▌   | 63/96 [3:28:25<2:11:19, 238.77s/it]\u001b[A\n",
      " 67%|██████▋   | 64/96 [3:32:25<2:07:33, 239.16s/it]\u001b[A\n",
      " 68%|██████▊   | 65/96 [3:36:24<2:03:40, 239.36s/it]\u001b[A\n",
      " 69%|██████▉   | 66/96 [3:40:24<1:59:46, 239.56s/it]\u001b[A\n",
      " 70%|██████▉   | 67/96 [3:44:25<1:55:54, 239.81s/it]\u001b[A\n",
      " 71%|███████   | 68/96 [3:48:25<1:51:59, 239.99s/it]\u001b[A\n",
      " 72%|███████▏  | 69/96 [3:52:25<1:47:56, 239.86s/it]\u001b[A\n",
      " 73%|███████▎  | 70/96 [3:56:25<1:43:59, 239.99s/it]\u001b[A\n",
      " 74%|███████▍  | 71/96 [4:00:25<1:40:00, 240.00s/it]\u001b[A\n",
      " 75%|███████▌  | 72/96 [4:04:25<1:36:01, 240.08s/it]\u001b[A\n",
      " 76%|███████▌  | 73/96 [4:08:26<1:32:02, 240.11s/it]\u001b[A\n",
      " 77%|███████▋  | 74/96 [4:12:25<1:27:58, 239.93s/it]\u001b[A\n",
      " 78%|███████▊  | 75/96 [4:16:25<1:23:57, 239.88s/it]\u001b[A\n",
      " 79%|███████▉  | 76/96 [4:20:25<1:20:00, 240.01s/it]\u001b[A\n",
      " 80%|████████  | 77/96 [4:24:26<1:16:05, 240.30s/it]\u001b[A\n",
      " 81%|████████▏ | 78/96 [4:28:26<1:12:01, 240.06s/it]\u001b[A\n",
      " 82%|████████▏ | 79/96 [4:32:24<1:07:54, 239.69s/it]\u001b[A\n",
      " 83%|████████▎ | 80/96 [4:36:24<1:03:55, 239.74s/it]\u001b[A\n",
      " 84%|████████▍ | 81/96 [4:40:25<1:00:00, 240.06s/it]\u001b[A\n",
      " 85%|████████▌ | 82/96 [4:44:25<55:59, 239.99s/it]  \u001b[A\n",
      " 86%|████████▋ | 83/96 [4:48:24<51:57, 239.77s/it]\u001b[A\n",
      " 88%|████████▊ | 84/96 [4:52:25<47:59, 239.97s/it]\u001b[A\n",
      " 89%|████████▊ | 85/96 [4:56:24<43:57, 239.81s/it]\u001b[A\n",
      " 90%|████████▉ | 86/96 [5:00:24<39:57, 239.72s/it]\u001b[A\n",
      " 91%|█████████ | 87/96 [5:04:35<36:29, 243.28s/it]\u001b[A\n",
      " 92%|█████████▏| 88/96 [5:08:48<32:48, 246.07s/it]\u001b[A\n",
      " 93%|█████████▎| 89/96 [5:13:00<28:54, 247.82s/it]\u001b[A\n",
      " 94%|█████████▍| 90/96 [5:17:12<24:54, 249.12s/it]\u001b[A\n",
      " 95%|█████████▍| 91/96 [5:21:25<20:51, 250.20s/it]\u001b[A\n",
      " 96%|█████████▌| 92/96 [5:25:38<16:45, 251.30s/it]\u001b[A\n",
      " 97%|█████████▋| 93/96 [5:29:53<12:36, 252.30s/it]\u001b[A\n",
      " 98%|█████████▊| 94/96 [5:34:07<08:25, 252.77s/it]\u001b[A\n",
      " 99%|█████████▉| 95/96 [5:38:20<04:12, 252.75s/it]\u001b[A\n",
      "100%|██████████| 96/96 [5:42:31<00:00, 214.08s/it]\u001b[A\n"
     ]
    }
   ],
   "source": [
    "x2=[0.05*s for s in range(96)]\n",
    "y2=[Ene(0.05*s,1,1,1,6,3) for s in tqdm(range(96))]"
   ]
  },
  {
   "cell_type": "code",
   "execution_count": 50,
   "metadata": {},
   "outputs": [
    {
     "name": "stderr",
     "output_type": "stream",
     "text": [
      "/opt/anaconda3/lib/python3.7/site-packages/numpy/core/_asarray.py:85: ComplexWarning: Casting complex values to real discards the imaginary part\n",
      "  return array(a, dtype, copy=False, order=order)\n"
     ]
    },
    {
     "data": {
      "image/png": "[encoded data removed]",
      "text/plain": [
       "<Figure size 432x288 with 1 Axes>"
      ]
     },
     "metadata": {
      "needs_background": "light"
     },
     "output_type": "display_data"
    }
   ],
   "source": [
    "plt.plot(x1,y1,label=\"$\\Lambda=1,N=4$\")\n",
    "plt.plot(x,y, label=\"$\\Lambda=2, N=4$\")\n",
    "plt.plot(x2,y2,label=\"$\\Lambda=1,N=6$\")\n",
    "plt.xlabel(\"$t$\")\n",
    "plt.title(r'$\\langle\\psi_{in}|e^{-itH}|\\psi_{in}\\rangle$')\n",
    "plt.legend()\n",
    "plt.savefig(\"Amplitude.pdf\")"
   ]
  },
  {
   "cell_type": "code",
   "execution_count": 52,
   "metadata": {},
   "outputs": [],
   "source": [
    "def j0(t,n):\n",
    "    j=0\n",
    "    if t==n:\n",
    "        j=1\n",
    "        \n",
    "    return j"
   ]
  },
  {
   "cell_type": "code",
   "execution_count": 84,
   "metadata": {},
   "outputs": [],
   "source": [
    "def Q(n,t,g,Lam,L):\n",
    "    IZZ=np.kron(np.eye((2*Lam)**L), Z(n,L)) \n",
    "    II=np.kron(np.eye((2*Lam)**L), np.eye(2**L)) \n",
    "    \n",
    "    return 0.5*IZZ+(0.5*(-1)**n)*II-(j0(t,n)/g)*II"
   ]
  },
  {
   "cell_type": "code",
   "execution_count": 87,
   "metadata": {},
   "outputs": [
    {
     "data": {
      "text/plain": [
       "array([[1., 0., 0., ..., 0., 0., 0.],\n",
       "       [0., 0., 0., ..., 0., 0., 0.],\n",
       "       [0., 0., 1., ..., 0., 0., 0.],\n",
       "       ...,\n",
       "       [0., 0., 0., ..., 0., 0., 0.],\n",
       "       [0., 0., 0., ..., 0., 1., 0.],\n",
       "       [0., 0., 0., ..., 0., 0., 0.]])"
      ]
     },
     "execution_count": 87,
     "metadata": {},
     "output_type": "execute_result"
    }
   ],
   "source": [
    "Q(4,0,1,1,4)"
   ]
  },
  {
   "cell_type": "code",
   "execution_count": 88,
   "metadata": {},
   "outputs": [],
   "source": [
    "def Electric(t,n,m,g,Lam,L,k):\n",
    "    eig_val, eig_vec=eigsh(Ham_0(m,g, Lam,L), k=1, which=\"SA\")\n",
    "    idx = eig_val.argsort()[::1]\n",
    "    eig_val_sorted = eig_val[idx]\n",
    "    eig_vec_sorted =np.transpose(eig_vec[:,idx])\n",
    "    \n",
    "    u=eig_vec_sorted[0]#/float(np.sqrt(np.dot(np.conjugate(eig_vec_sorted[0]),eig_vec_sorted[0])))\n",
    "    \n",
    "    #return np.dot(np.conjugate(eig_vec_sorted[0]),np.dot(commn, eig_vec_sorted[0]))\n",
    "    \n",
    "    psi=np.dot(evolv(t,m,g,Lam,L,k), u)\n",
    "    \n",
    "    return ((-1)**n)*np.dot(np.conjugate(psi),dot(Q(n,t,g,Lam,L),psi))"
   ]
  },
  {
   "cell_type": "code",
   "execution_count": 89,
   "metadata": {},
   "outputs": [],
   "source": [
    "def Electric_tot(t,m,g,Lam,L,k):\n",
    "    EE=Electric(t,L,m,g,Lam,L,k)\n",
    "    for n in range(1,L):\n",
    "        EE+=Electric(t,n,m,g,Lam,L,k)\n",
    "    \n",
    "    return EE"
   ]
  },
  {
   "cell_type": "code",
   "execution_count": null,
   "metadata": {},
   "outputs": [],
   "source": []
  },
  {
   "cell_type": "code",
   "execution_count": 90,
   "metadata": {},
   "outputs": [
    {
     "name": "stderr",
     "output_type": "stream",
     "text": [
      "\n",
      "\n",
      "  0%|          | 0/24 [00:00<?, ?it/s]\u001b[A\u001b[A\n",
      "\n",
      "  4%|▍         | 1/24 [00:00<00:15,  1.51it/s]\u001b[A\u001b[A\n",
      "\n",
      "  8%|▊         | 2/24 [00:01<00:14,  1.47it/s]\u001b[A\u001b[A\n",
      "\n",
      " 12%|█▎        | 3/24 [00:02<00:14,  1.45it/s]\u001b[A\u001b[A\n",
      "\n",
      " 17%|█▋        | 4/24 [00:02<00:13,  1.45it/s]\u001b[A\u001b[A\n",
      "\n",
      " 21%|██        | 5/24 [00:03<00:13,  1.46it/s]\u001b[A\u001b[A\n",
      "\n",
      " 25%|██▌       | 6/24 [00:04<00:12,  1.40it/s]\u001b[A\u001b[A\n",
      "\n",
      " 29%|██▉       | 7/24 [00:05<00:14,  1.20it/s]\u001b[A\u001b[A\n",
      "\n",
      " 33%|███▎      | 8/24 [00:06<00:14,  1.13it/s]\u001b[A\u001b[A\n",
      "\n",
      " 38%|███▊      | 9/24 [00:07<00:13,  1.08it/s]\u001b[A\u001b[A\n",
      "\n",
      " 42%|████▏     | 10/24 [00:08<00:13,  1.04it/s]\u001b[A\u001b[A\n",
      "\n",
      " 46%|████▌     | 11/24 [00:09<00:13,  1.00s/it]\u001b[A\u001b[A\n",
      "\n",
      " 50%|█████     | 12/24 [00:10<00:12,  1.07s/it]\u001b[A\u001b[A\n",
      "\n",
      " 54%|█████▍    | 13/24 [00:11<00:11,  1.07s/it]\u001b[A\u001b[A\n",
      "\n",
      " 58%|█████▊    | 14/24 [00:12<00:10,  1.08s/it]\u001b[A\u001b[A\n",
      "\n",
      " 62%|██████▎   | 15/24 [00:13<00:09,  1.08s/it]\u001b[A\u001b[A\n",
      "\n",
      " 67%|██████▋   | 16/24 [00:15<00:08,  1.09s/it]\u001b[A\u001b[A\n",
      "\n",
      " 71%|███████   | 17/24 [00:16<00:07,  1.11s/it]\u001b[A\u001b[A\n",
      "\n",
      " 75%|███████▌  | 18/24 [00:17<00:06,  1.11s/it]\u001b[A\u001b[A\n",
      "\n",
      " 79%|███████▉  | 19/24 [00:18<00:05,  1.12s/it]\u001b[A\u001b[A\n",
      "\n",
      " 83%|████████▎ | 20/24 [00:19<00:04,  1.15s/it]\u001b[A\u001b[A\n",
      "\n",
      " 88%|████████▊ | 21/24 [00:20<00:03,  1.17s/it]\u001b[A\u001b[A\n",
      "\n",
      " 92%|█████████▏| 22/24 [00:22<00:02,  1.17s/it]\u001b[A\u001b[A\n",
      "\n",
      " 96%|█████████▌| 23/24 [00:23<00:01,  1.16s/it]\u001b[A\u001b[A\n",
      "\n",
      "100%|██████████| 24/24 [00:24<00:00,  1.02s/it]\u001b[A\u001b[A\n"
     ]
    }
   ],
   "source": [
    "x_E=[0.2*s for s in range(24)]\n",
    "y_E=[Electric_tot(0.2*s,1,1,1,4,3) for s in tqdm(range(24))]"
   ]
  },
  {
   "cell_type": "code",
   "execution_count": 99,
   "metadata": {},
   "outputs": [
    {
     "name": "stderr",
     "output_type": "stream",
     "text": [
      "/opt/anaconda3/lib/python3.7/site-packages/numpy/core/_asarray.py:85: ComplexWarning: Casting complex values to real discards the imaginary part\n",
      "  return array(a, dtype, copy=False, order=order)\n",
      "No handles with labels found to put in legend.\n"
     ]
    },
    {
     "data": {
      "image/png": "[encoded data removed]",
      "text/plain": [
       "<Figure size 432x288 with 1 Axes>"
      ]
     },
     "metadata": {
      "needs_background": "light"
     },
     "output_type": "display_data"
    }
   ],
   "source": [
    "plt.plot(x_E,y_E)\n",
    "plt.xlabel(\"$t$\")\n",
    "\n",
    "plt.title(r'Particle Number Density')\n",
    "plt.legend()\n",
    "plt.savefig(\"ParticleNumberDensity.pdf\")"
   ]
  },
  {
   "cell_type": "code",
   "execution_count": null,
   "metadata": {},
   "outputs": [],
   "source": []
  }
 ],
 "metadata": {
  "kernelspec": {
   "display_name": "Python 3",
   "language": "python",
   "name": "python3"
  },
  "language_info": {
   "codemirror_mode": {
    "name": "ipython",
    "version": 3
   },
   "file_extension": ".py",
   "mimetype": "text/x-python",
   "name": "python",
   "nbconvert_exporter": "python",
   "pygments_lexer": "ipython3",
   "version": "3.7.7"
  }
 },
 "nbformat": 4,
 "nbformat_minor": 4
}
