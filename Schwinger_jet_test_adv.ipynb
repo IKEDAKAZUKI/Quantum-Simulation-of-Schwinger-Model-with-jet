{
 "cells": [
  {
   "cell_type": "code",
   "execution_count": 1,
   "metadata": {},
   "outputs": [],
   "source": [
    "import numpy as np\n",
    "import matplotlib.pyplot as plt\n",
    "import scipy\n",
    "import scipy.integrate as integrate\n",
    "from scipy.integrate import quad\n",
    "import scipy.special as special\n",
    "from scipy.linalg import expm\n",
    "from scipy.linalg import logm\n",
    "from scipy.optimize import curve_fit\n",
    "import seaborn as sns\n",
    "import pandas as pd\n",
    "#from lmfit import Model\n",
    "from scipy.integrate import odeint\n",
    "from numpy import array, dot, pi\n",
    "from scipy.integrate import complex_ode\n",
    "from scipy import integrate\n",
    "from tqdm import tqdm\n",
    "from scipy.sparse.linalg import eigsh \n",
    "\n",
    "#from operators_cupy import *\n",
    "from operators_csc import *\n",
    "\n",
    "import time\n"
   ]
  },
  {
   "cell_type": "code",
   "execution_count": null,
   "metadata": {},
   "outputs": [],
   "source": []
  },
  {
   "cell_type": "code",
   "execution_count": null,
   "metadata": {},
   "outputs": [],
   "source": []
  },
  {
   "cell_type": "code",
   "execution_count": 2,
   "metadata": {},
   "outputs": [],
   "source": [
    "m = 1\n",
    "g = 1\n",
    "Lam = 2\n",
    "L = 4\n",
    "k = 10"
   ]
  },
  {
   "cell_type": "code",
   "execution_count": null,
   "metadata": {},
   "outputs": [],
   "source": []
  },
  {
   "cell_type": "code",
   "execution_count": null,
   "metadata": {},
   "outputs": [],
   "source": []
  },
  {
   "cell_type": "code",
   "execution_count": null,
   "metadata": {
    "tags": []
   },
   "outputs": [],
   "source": []
  },
  {
   "cell_type": "code",
   "execution_count": null,
   "metadata": {},
   "outputs": [],
   "source": []
  },
  {
   "cell_type": "code",
   "execution_count": null,
   "metadata": {},
   "outputs": [],
   "source": []
  },
  {
   "cell_type": "code",
   "execution_count": null,
   "metadata": {},
   "outputs": [],
   "source": []
  },
  {
   "cell_type": "code",
   "execution_count": 3,
   "metadata": {
    "scrolled": true,
    "tags": []
   },
   "outputs": [
    {
     "name": "stderr",
     "output_type": "stream",
     "text": [
      "/global/homes/k/kwangmin/.conda/envs/cuquantum/lib/python3.7/site-packages/scipy/sparse/_index.py:82: SparseEfficiencyWarning: Changing the sparsity structure of a csr_matrix is expensive. lil_matrix is more efficient.\n",
      "  self._set_intXint(row, col, x.flat[0])\n"
     ]
    },
    {
     "name": "stdout",
     "output_type": "stream",
     "text": [
      "0-th iteration running time: 2.5339865684509277 seconds.\n",
      "1-th iteration running time: 2.522507905960083 seconds.\n",
      "2-th iteration running time: 2.484928846359253 seconds.\n",
      "3-th iteration running time: 2.6599509716033936 seconds.\n",
      "4-th iteration running time: 2.6090457439422607 seconds.\n",
      "5-th iteration running time: 2.447176694869995 seconds.\n",
      "6-th iteration running time: 2.438239336013794 seconds.\n",
      "7-th iteration running time: 2.4314961433410645 seconds.\n",
      "8-th iteration running time: 2.393832206726074 seconds.\n",
      "9-th iteration running time: 2.4377150535583496 seconds.\n",
      "10-th iteration running time: 2.3546905517578125 seconds.\n",
      "11-th iteration running time: 2.3414275646209717 seconds.\n",
      "12-th iteration running time: 2.412257194519043 seconds.\n",
      "13-th iteration running time: 2.4146783351898193 seconds.\n",
      "14-th iteration running time: 2.4130260944366455 seconds.\n",
      "15-th iteration running time: 2.476483106613159 seconds.\n",
      "16-th iteration running time: 2.523353099822998 seconds.\n",
      "17-th iteration running time: 2.612353563308716 seconds.\n",
      "18-th iteration running time: 2.496142625808716 seconds.\n",
      "19-th iteration running time: 2.4098758697509766 seconds.\n",
      "20-th iteration running time: 2.4571709632873535 seconds.\n",
      "21-th iteration running time: 2.628676176071167 seconds.\n",
      "22-th iteration running time: 2.4747817516326904 seconds.\n",
      "23-th iteration running time: 2.374789237976074 seconds.\n",
      "24-th iteration running time: 2.392733097076416 seconds.\n",
      "25-th iteration running time: 2.4458653926849365 seconds.\n",
      "26-th iteration running time: 2.4168667793273926 seconds.\n",
      "27-th iteration running time: 2.3596277236938477 seconds.\n",
      "28-th iteration running time: 2.2837412357330322 seconds.\n",
      "29-th iteration running time: 2.269540309906006 seconds.\n",
      "30-th iteration running time: 2.304154634475708 seconds.\n",
      "31-th iteration running time: 2.312291383743286 seconds.\n",
      "32-th iteration running time: 2.430137872695923 seconds.\n",
      "33-th iteration running time: 2.32474946975708 seconds.\n",
      "34-th iteration running time: 2.3770012855529785 seconds.\n",
      "35-th iteration running time: 2.4794483184814453 seconds.\n",
      "36-th iteration running time: 2.4990694522857666 seconds.\n",
      "37-th iteration running time: 2.5614962577819824 seconds.\n",
      "38-th iteration running time: 2.522678852081299 seconds.\n",
      "39-th iteration running time: 2.4448421001434326 seconds.\n",
      "40-th iteration running time: 2.4689791202545166 seconds.\n",
      "41-th iteration running time: 2.4618968963623047 seconds.\n",
      "42-th iteration running time: 2.430551052093506 seconds.\n",
      "43-th iteration running time: 2.4331557750701904 seconds.\n",
      "44-th iteration running time: 2.405181884765625 seconds.\n",
      "45-th iteration running time: 2.462078094482422 seconds.\n",
      "46-th iteration running time: 2.431236743927002 seconds.\n",
      "47-th iteration running time: 2.536306142807007 seconds.\n",
      "48-th iteration running time: 2.4336671829223633 seconds.\n",
      "49-th iteration running time: 2.4457807540893555 seconds.\n",
      "50-th iteration running time: 2.478877067565918 seconds.\n",
      "51-th iteration running time: 2.459507703781128 seconds.\n",
      "52-th iteration running time: 2.4339914321899414 seconds.\n",
      "53-th iteration running time: 2.385784387588501 seconds.\n",
      "54-th iteration running time: 2.30987286567688 seconds.\n",
      "55-th iteration running time: 2.3513388633728027 seconds.\n",
      "56-th iteration running time: 2.374494791030884 seconds.\n",
      "57-th iteration running time: 2.4282023906707764 seconds.\n",
      "58-th iteration running time: 2.4497430324554443 seconds.\n",
      "59-th iteration running time: 2.4451446533203125 seconds.\n",
      "Total running time: 146.4095652103424 seconds.\n",
      "[(1.000000000000001+0j), (0.9342327610475955+0.3566619731142029j), (0.7456011641912104+0.6663765803781856j), (0.4589676056560042+0.888397139135748j), (0.11209580261760252+0.9935550934085544j), (-0.2493448826757157+0.9681010508746373j), (-0.5778150613409784+0.8155015457336271j), (-0.8301787407875622+0.5559565148644956j), (-0.9733824544786915+0.22370615827779688j), (-0.9887891842821191-0.1375104243615012j), (-0.8670195401724996-0.49356216489871074j), (-0.6460307591198795-0.759559903082539j), (-0.3332850599459443-0.9389959617446063j), (0.022491324527572742-0.9952658984567768j), (0.37463855651946854-0.9212952019507682j), (0.677125807965451-0.7270764304090608j), (0.890577142063514-0.4382850655407424j), (0.9873907493813818-0.09284627170445153j), (0.9552849000064192+0.2640822185615416j), (0.798816683431361+0.5860409196838962j), (0.5386903538037859+0.8313284920035519j), (0.20896433944306925+0.9683964010687287j), (-0.14745926501932355+0.9798791499750952j), (-0.484457791560479+0.8647470261766397j), (-0.7586798278657064+0.6383196638643038j), (-0.9351224509331151+0.3301612553396302j), (-0.9915742793346144-0.01984573366409198j), (-0.9213617982052009-0.36671820786083464j), (-0.7340646376094997-0.6661907448471801j), (-0.4541337742905832-0.8803758670872712j), (-0.11761913893065792-0.9825394744176391j), (0.23254586753385714-0.9603903880970972j), (0.5520767778514691-0.8174843966069718j), (0.8009669390269268-0.5725925678858792j), (0.9484930540345954-0.2571474911654888j), (0.9769709583148813+0.08887501210326215j), (0.8838071582271222+0.42208842825378934j), (0.681618094555897+0.7011741466748449j), (0.3964394645898186+0.8920081860359128j), (0.0642894048380806+0.9717981624438536j), (-0.2734488644189896+0.9317323353680593j), (-0.5752219480026313+0.7778419142944131j), (-0.8044184746562357+0.5300096319396411j), (-0.933766034739324+0.219291405666754j), (-0.9484868234351191-0.11607605024002055j), (-0.847855211272031-0.43545576768675476j), (-0.6450089435496935-0.7007709184084945j), (-0.3650857300221716-0.8810329569466884j), (-0.04196056559683968-0.9558979397393368j), (0.28597864116102534-0.917848410258773j), (0.5922660764214194-0.7637076458079712j), (0.8079102922062538-0.5389744972871053j), (0.94309573362953-0.24463625520559518j), (0.9719959810559688+0.07566157841879628j), (0.8930269329321268+0.3851605379924592j), (0.7168737729924897+0.6492105374575685j), (0.46489367003821913+0.8391650193810968j), (0.1663497065909993+0.9354387055098161j), (-0.1451529683706559+0.9294087771451935j), (-0.4355816299761013+0.8239920158354016j)]\n"
     ]
    }
   ],
   "source": [
    "Lam = 1\n",
    "L = 6\n",
    "x61=[0.1*s for s in range(10*L)]\n",
    "y61=[]\n",
    "\n",
    "start_time_T = time.time()\n",
    "\n",
    "k=10\n",
    "\n",
    "\n",
    "for i in range(len(x61)):\n",
    "    start_time = time.time()\n",
    "    y61.append(Ene_new4(0.1*i,1,1,Lam,L,k))\n",
    "    print(f\"{i}-th iteration running time: {(time.time() - start_time)} seconds.\")\n",
    "    \n",
    "print(f\"Total running time: {(time.time() - start_time_T)} seconds.\")\n",
    "print(y61)"
   ]
  },
  {
   "cell_type": "code",
   "execution_count": null,
   "metadata": {
    "scrolled": true,
    "tags": []
   },
   "outputs": [
    {
     "name": "stdout",
     "output_type": "stream",
     "text": [
      "0-th iteration running time: 34.452471017837524 seconds.\n",
      "1-th iteration running time: 34.783615827560425 seconds.\n",
      "2-th iteration running time: 34.92215704917908 seconds.\n",
      "3-th iteration running time: 35.54184317588806 seconds.\n",
      "4-th iteration running time: 35.01314449310303 seconds.\n",
      "5-th iteration running time: 34.347734451293945 seconds.\n",
      "6-th iteration running time: 34.37004351615906 seconds.\n",
      "7-th iteration running time: 35.09456729888916 seconds.\n",
      "8-th iteration running time: 35.447609424591064 seconds.\n",
      "9-th iteration running time: 35.45859622955322 seconds.\n"
     ]
    }
   ],
   "source": [
    "Lam = 2\n",
    "L = 6\n",
    "x62=[0.1*s for s in range(10*L)]\n",
    "y62=[]\n",
    "\n",
    "start_time_T = time.time()\n",
    "\n",
    "k=10\n",
    "\n",
    "\n",
    "for i in range(len(x62)):\n",
    "    start_time = time.time()\n",
    "    y62.append(Ene_new4(0.1*i,1,1,Lam,L,k))\n",
    "    print(f\"{i}-th iteration running time: {(time.time() - start_time)} seconds.\")\n",
    "    \n",
    "print(f\"Total running time: {(time.time() - start_time_T)} seconds.\")\n",
    "print(y62)"
   ]
  },
  {
   "cell_type": "code",
   "execution_count": 4,
   "metadata": {
    "scrolled": true,
    "tags": []
   },
   "outputs": [
    {
     "name": "stdout",
     "output_type": "stream",
     "text": [
      "0-th iteration running time: 7.154346704483032 seconds.\n",
      "1-th iteration running time: 6.9565465450286865 seconds.\n",
      "2-th iteration running time: 6.8842387199401855 seconds.\n",
      "3-th iteration running time: 6.969794511795044 seconds.\n",
      "4-th iteration running time: 6.886402368545532 seconds.\n",
      "5-th iteration running time: 6.629628419876099 seconds.\n",
      "6-th iteration running time: 6.943366050720215 seconds.\n",
      "7-th iteration running time: 6.885886192321777 seconds.\n",
      "8-th iteration running time: 6.8761022090911865 seconds.\n",
      "9-th iteration running time: 6.9604880809783936 seconds.\n",
      "10-th iteration running time: 8.020175218582153 seconds.\n",
      "11-th iteration running time: 6.784199953079224 seconds.\n",
      "12-th iteration running time: 6.887340784072876 seconds.\n",
      "13-th iteration running time: 6.847981691360474 seconds.\n",
      "14-th iteration running time: 7.155585050582886 seconds.\n",
      "15-th iteration running time: 6.933022975921631 seconds.\n",
      "16-th iteration running time: 6.859922409057617 seconds.\n",
      "17-th iteration running time: 6.8433849811553955 seconds.\n",
      "18-th iteration running time: 7.1517088413238525 seconds.\n",
      "19-th iteration running time: 7.18218469619751 seconds.\n",
      "20-th iteration running time: 7.210593223571777 seconds.\n",
      "21-th iteration running time: 6.937110662460327 seconds.\n",
      "22-th iteration running time: 6.986601114273071 seconds.\n",
      "23-th iteration running time: 6.895206928253174 seconds.\n",
      "24-th iteration running time: 7.200446605682373 seconds.\n",
      "25-th iteration running time: 7.061336040496826 seconds.\n",
      "26-th iteration running time: 7.1105124950408936 seconds.\n",
      "27-th iteration running time: 7.172173738479614 seconds.\n",
      "28-th iteration running time: 7.108908414840698 seconds.\n",
      "29-th iteration running time: 7.2070536613464355 seconds.\n",
      "30-th iteration running time: 7.187197685241699 seconds.\n",
      "31-th iteration running time: 6.821922779083252 seconds.\n",
      "32-th iteration running time: 6.765316963195801 seconds.\n",
      "33-th iteration running time: 6.708345890045166 seconds.\n",
      "34-th iteration running time: 6.763901710510254 seconds.\n",
      "35-th iteration running time: 6.922126054763794 seconds.\n",
      "36-th iteration running time: 7.586915969848633 seconds.\n",
      "37-th iteration running time: 7.5340940952301025 seconds.\n",
      "38-th iteration running time: 6.987187623977661 seconds.\n",
      "39-th iteration running time: 6.875613451004028 seconds.\n",
      "40-th iteration running time: 7.557809352874756 seconds.\n",
      "41-th iteration running time: 7.053125619888306 seconds.\n",
      "42-th iteration running time: 7.442331552505493 seconds.\n",
      "43-th iteration running time: 6.808045864105225 seconds.\n",
      "44-th iteration running time: 6.910406589508057 seconds.\n",
      "45-th iteration running time: 6.751298666000366 seconds.\n",
      "46-th iteration running time: 6.783597707748413 seconds.\n",
      "47-th iteration running time: 6.962142467498779 seconds.\n",
      "48-th iteration running time: 6.82011604309082 seconds.\n",
      "49-th iteration running time: 6.734674453735352 seconds.\n",
      "50-th iteration running time: 7.362956285476685 seconds.\n",
      "51-th iteration running time: 7.475691795349121 seconds.\n",
      "52-th iteration running time: 7.4635679721832275 seconds.\n",
      "53-th iteration running time: 7.493478536605835 seconds.\n",
      "54-th iteration running time: 6.872331619262695 seconds.\n",
      "55-th iteration running time: 7.228742599487305 seconds.\n",
      "56-th iteration running time: 7.214565753936768 seconds.\n",
      "57-th iteration running time: 7.0101611614227295 seconds.\n",
      "58-th iteration running time: 6.869501829147339 seconds.\n",
      "59-th iteration running time: 6.809228420257568 seconds.\n",
      "60-th iteration running time: 7.01114821434021 seconds.\n",
      "61-th iteration running time: 6.833991765975952 seconds.\n",
      "62-th iteration running time: 6.8473241329193115 seconds.\n",
      "63-th iteration running time: 6.760666608810425 seconds.\n",
      "64-th iteration running time: 7.321048974990845 seconds.\n",
      "65-th iteration running time: 7.28114128112793 seconds.\n",
      "66-th iteration running time: 7.426289081573486 seconds.\n",
      "67-th iteration running time: 7.2125327587127686 seconds.\n",
      "68-th iteration running time: 6.9665868282318115 seconds.\n",
      "69-th iteration running time: 7.129854679107666 seconds.\n",
      "70-th iteration running time: 8.255998611450195 seconds.\n",
      "71-th iteration running time: 7.052099704742432 seconds.\n",
      "72-th iteration running time: 6.987648963928223 seconds.\n",
      "73-th iteration running time: 7.096261501312256 seconds.\n",
      "74-th iteration running time: 7.279353618621826 seconds.\n",
      "75-th iteration running time: 7.1733949184417725 seconds.\n",
      "76-th iteration running time: 7.488376617431641 seconds.\n",
      "77-th iteration running time: 7.061757326126099 seconds.\n",
      "78-th iteration running time: 6.895944356918335 seconds.\n",
      "79-th iteration running time: 7.007508039474487 seconds.\n",
      "Total running time: 565.5817959308624 seconds.\n",
      "[(1.0000000000000024+0j), (0.8879883617663914+0.45986423722371617j), (0.5770677352508604+0.8166818354423797j), (0.1369425478759272+0.9905235132272736j), (-0.33374002536782443+0.9425008696292112j), (-0.7295282714812484+0.6834711300754713j), (-0.961819022068667+0.27157241715561725j), (-0.9787122460375819-0.2008491117855737j), (-0.7766120088810947-0.6279750706535971j), (-0.400978209700776-0.914249409261836j), (0.0792078890613049-0.9945690397767127j), (0.5139689946891851-0.8546052640799942j), (0.8485156420732806-0.5226430121648628j), (0.9929517851718284-0.07444595209114985j), (0.9153379662984816+0.3895764464399759j), (0.6334603014469483+0.7656901961429972j), (0.21072795185353815+0.9700544855517327j), (-0.25813109717682+0.9574200505274368j), (-0.6683386776553641+0.7311339694340999j), (-0.9285124014216353+0.3422408617485615j), (-0.98103259964695-0.12207708746889631j), (-0.8147860110906385-0.5580914131691903j), (-0.46746993427138056-0.8687336883250901j), (-0.016991086630493642-0.9852133176262562j), (0.43606459521811314-0.8822263025354282j), (0.7909300530419168-0.5833948812524156j), (0.969076329393219-0.1557811678156802j), (0.9315569393417273+0.30523516558713626j), (0.6874486919923243+0.6972845869961848j), (0.29157360349352096+0.9337528978650824j), (-0.18269501319723905+0.9601005076111302j), (-0.5892255052316152+0.7789941817888988j), (-0.8795336283136982+0.42348008466497494j), (-0.9753695384427444-0.024678638444010432j), (-0.8564003278037235-0.4665548442665991j), (-0.5495720577540644-0.8051734235176401j), (-0.12282320461754534-0.9667683920803911j), (0.33013100647435906-0.9167339535380585j), (0.7104938434082133-0.6668321244568607j), (0.9359564438314546-0.27219105784248815j), (0.9584136453371508+0.18110896019006184j), (0.7740185249538799+0.5950161385263217j), (0.42350718108241325+0.8808221706191603j), (-0.01711579225183244+0.9781470180957207j), (-0.45334583531984607+0.8675254907333352j), (-0.7926431222017409+0.5739987669054707j), (-0.9641171849271984+0.16111645548920012j), (-0.9332261357556595-0.2831625907994367j), (-0.7084596576320726-0.6654759991335004j), (-0.33877179625716947-0.906805500027834j), (0.11219921711830988-0.9570796625649897j), (0.5093885802905376-0.8130212769136146j), (0.8128318880841442-0.5022209351781451j), (0.9475029357263602-0.09221296407110441j), (0.8888046937149543+0.3322669683753338j), (0.6519135413345584+0.6854184624352611j), (0.2875784454663605+0.8978392846536789j), (-0.12919250794707451+0.9300549684549899j), (-0.5149622289275342+0.7794974059965082j), (-0.7947986302394769+0.47978057522680284j), (-0.9168315737665099+0.09275503563546317j), (-0.8616069463011004-0.3047269095181852j), (-0.6446137948604237-0.6364286696478821j), (-0.31182730192341795-0.8414981094717254j), (0.07047741454726875-0.8855093276879088j), (0.429315755375616-0.765814103365337j), (0.6991325322013926-0.5104913546319909j), (0.8337124660201624-0.1714926434286846j), (0.8137136814981466+0.18632078164604393j), (0.6486838373011302+0.49787441889629913j), (0.3625781406301945+0.7154079415688801j), (0.04081660147920965+0.7892399388874827j), (-0.29018729102649654+0.7285764056725235j), (-0.564034335534344+0.5448259192017774j), (-0.7386625068769634+0.2749771597073222j), (-0.7915342548626754-0.03193322630691134j), (-0.7218416201915299-0.32412610059852925j), (-0.5487383224326181-0.5559841431378515j), (-0.30632854042409297-0.6950179105605483j), (-0.03664778245330381-0.7258820845343987j)]\n"
     ]
    }
   ],
   "source": [
    "Lam = 1\n",
    "L = 8\n",
    "x81=[0.1*s for s in range(10*L)]\n",
    "y81=[]\n",
    "\n",
    "start_time_T = time.time()\n",
    "\n",
    "k=10\n",
    "\n",
    "\n",
    "for i in range(len(x81)):\n",
    "    start_time = time.time()\n",
    "    y81.append(Ene_new4(0.1*i,1,1,Lam,L,k))\n",
    "    print(f\"{i}-th iteration running time: {(time.time() - start_time)} seconds.\")\n",
    "    \n",
    "print(f\"Total running time: {(time.time() - start_time_T)} seconds.\")\n",
    "print(y81)"
   ]
  },
  {
   "cell_type": "code",
   "execution_count": 5,
   "metadata": {
    "scrolled": true,
    "tags": []
   },
   "outputs": [
    {
     "name": "stdout",
     "output_type": "stream",
     "text": [
      "0-th iteration running time: 111.89642572402954 seconds.\n",
      "1-th iteration running time: 112.7884726524353 seconds.\n",
      "2-th iteration running time: 120.01670408248901 seconds.\n",
      "3-th iteration running time: 112.83438277244568 seconds.\n",
      "4-th iteration running time: 114.9813244342804 seconds.\n",
      "5-th iteration running time: 113.4865620136261 seconds.\n",
      "6-th iteration running time: 114.70498728752136 seconds.\n",
      "7-th iteration running time: 113.78860998153687 seconds.\n",
      "8-th iteration running time: 113.75358414649963 seconds.\n",
      "9-th iteration running time: 111.38886141777039 seconds.\n",
      "10-th iteration running time: 194.2059645652771 seconds.\n",
      "11-th iteration running time: 113.3916072845459 seconds.\n",
      "12-th iteration running time: 110.61593294143677 seconds.\n",
      "13-th iteration running time: 112.24944138526917 seconds.\n",
      "14-th iteration running time: 112.65121746063232 seconds.\n",
      "15-th iteration running time: 114.04142451286316 seconds.\n",
      "16-th iteration running time: 112.79412698745728 seconds.\n",
      "17-th iteration running time: 111.30018067359924 seconds.\n",
      "18-th iteration running time: 110.77452731132507 seconds.\n",
      "19-th iteration running time: 114.19170260429382 seconds.\n",
      "20-th iteration running time: 115.74431729316711 seconds.\n",
      "21-th iteration running time: 112.63211250305176 seconds.\n",
      "22-th iteration running time: 112.08324861526489 seconds.\n",
      "23-th iteration running time: 114.78179669380188 seconds.\n",
      "24-th iteration running time: 114.07024240493774 seconds.\n",
      "25-th iteration running time: 111.58303880691528 seconds.\n",
      "26-th iteration running time: 112.65957236289978 seconds.\n",
      "27-th iteration running time: 111.20846176147461 seconds.\n",
      "28-th iteration running time: 115.59834718704224 seconds.\n",
      "29-th iteration running time: 111.67887353897095 seconds.\n",
      "30-th iteration running time: 137.12606644630432 seconds.\n",
      "31-th iteration running time: 111.67102646827698 seconds.\n",
      "32-th iteration running time: 111.78645157814026 seconds.\n",
      "33-th iteration running time: 113.69439435005188 seconds.\n",
      "34-th iteration running time: 113.54377841949463 seconds.\n",
      "35-th iteration running time: 112.05045223236084 seconds.\n",
      "36-th iteration running time: 108.89169263839722 seconds.\n",
      "37-th iteration running time: 112.21479439735413 seconds.\n",
      "38-th iteration running time: 107.88326168060303 seconds.\n",
      "39-th iteration running time: 112.73624587059021 seconds.\n",
      "40-th iteration running time: 115.4817762374878 seconds.\n",
      "41-th iteration running time: 111.04492735862732 seconds.\n",
      "42-th iteration running time: 112.03514575958252 seconds.\n",
      "43-th iteration running time: 111.09744167327881 seconds.\n",
      "44-th iteration running time: 113.11975741386414 seconds.\n",
      "45-th iteration running time: 110.10168933868408 seconds.\n",
      "46-th iteration running time: 111.66307282447815 seconds.\n",
      "47-th iteration running time: 112.12374591827393 seconds.\n",
      "48-th iteration running time: 117.35826396942139 seconds.\n",
      "49-th iteration running time: 112.09691715240479 seconds.\n",
      "50-th iteration running time: 126.65897297859192 seconds.\n",
      "51-th iteration running time: 121.22510099411011 seconds.\n",
      "52-th iteration running time: 108.82762217521667 seconds.\n",
      "53-th iteration running time: 103.97256135940552 seconds.\n",
      "54-th iteration running time: 110.02668404579163 seconds.\n",
      "55-th iteration running time: 104.13655710220337 seconds.\n",
      "56-th iteration running time: 110.2113893032074 seconds.\n",
      "57-th iteration running time: 111.14823770523071 seconds.\n",
      "58-th iteration running time: 110.33845067024231 seconds.\n",
      "59-th iteration running time: 112.39817523956299 seconds.\n",
      "60-th iteration running time: 116.28889775276184 seconds.\n",
      "61-th iteration running time: 123.26125073432922 seconds.\n",
      "62-th iteration running time: 126.35171437263489 seconds.\n",
      "63-th iteration running time: 124.6860420703888 seconds.\n",
      "64-th iteration running time: 126.27364158630371 seconds.\n",
      "65-th iteration running time: 127.47170162200928 seconds.\n",
      "66-th iteration running time: 130.39681434631348 seconds.\n",
      "67-th iteration running time: 128.6867401599884 seconds.\n",
      "68-th iteration running time: 127.70899486541748 seconds.\n",
      "69-th iteration running time: 114.29237532615662 seconds.\n",
      "70-th iteration running time: 139.47853803634644 seconds.\n",
      "71-th iteration running time: 114.64614343643188 seconds.\n",
      "72-th iteration running time: 114.42022204399109 seconds.\n",
      "73-th iteration running time: 112.54819989204407 seconds.\n",
      "74-th iteration running time: 113.73062753677368 seconds.\n",
      "75-th iteration running time: 112.03813791275024 seconds.\n",
      "76-th iteration running time: 117.03900742530823 seconds.\n",
      "77-th iteration running time: 121.13799834251404 seconds.\n",
      "78-th iteration running time: 125.23187279701233 seconds.\n",
      "79-th iteration running time: 121.77342057228088 seconds.\n",
      "80-th iteration running time: 133.29886388778687 seconds.\n",
      "81-th iteration running time: 127.8879907131195 seconds.\n",
      "82-th iteration running time: 127.54419732093811 seconds.\n",
      "83-th iteration running time: 154.14737010002136 seconds.\n",
      "84-th iteration running time: 146.76585030555725 seconds.\n",
      "85-th iteration running time: 128.03569102287292 seconds.\n",
      "86-th iteration running time: 131.93133783340454 seconds.\n",
      "87-th iteration running time: 128.20814990997314 seconds.\n",
      "88-th iteration running time: 119.77156066894531 seconds.\n",
      "89-th iteration running time: 122.45577812194824 seconds.\n",
      "Total running time: 10622.107409477234 seconds.\n",
      "[(1.0000000000000047+0j), (0.8232314994689003+0.5677039323949425j), (0.3554665159135055+0.9346715147471162j), (-0.23783222913971463+0.9712273381232253j), (-0.7468899194544051+0.6646198631077496j), (-0.9918811480117851+0.12344270990793904j), (-0.88650832571731-0.4609108815576805j), (-0.4683871131074594-0.88204367865843j), (0.11446192059698418-0.9915373214685372j), (0.6561361825532506-0.7512752372802487j), (0.9692690831361729-0.23175572562250601j), (0.9345506946647532+0.34392020386075306j), (0.5744683967468638+0.8121754746081433j), (0.013092540224074009+0.9935649119592627j), (-0.5514674851843283+0.8250503082772904j), (-0.9206457288061832+0.36691525411992293j), (-0.9652732784368656-0.2189467967832765j), (-0.6706747468401124-0.7263784933161205j), (-0.1412899354580367-0.9775552924729396j), (0.43654726515422504-0.8852244616964686j), (0.8603237033146449-0.4828082238970723j), (0.9823086639661144+0.0879523195028434j), (0.7608720897737173+0.6271600997076308j), (0.27437184891126076+0.9468811365080447j), (-0.3069171922977063+0.936560185649679j), (-0.7806612067035955+0.6009653218218722j), (-0.982966784144158+0.05771619626081898j), (-0.8449108315002718-0.5043331987755573j), (-0.41563911836669704-0.8909977890591368j), (0.15558571189989434-0.9698540800926556j), (0.6825516350347283-0.7048458216610394j), (0.955985102758085-0.21646006535405396j), (0.9125496078583626+0.35469636801614646j), (0.5582162633373824+0.802858620758504j), (0.015584818861584367+0.9763729737115212j), (-0.5299237581321117+0.8183261717347796j), (-0.8937602160763021+0.3847038361647298j), (-0.9546853175303377-0.1760050619304103j), (-0.6948170136295471-0.6741538145724038j), (-0.20417766970988063-0.9433021578247418j), (0.3510883227758589-0.8956622923236736j), (0.7854028316882677-0.5501968302231822j), (0.9558392061988559-0.024562072853892176j), (0.8087819715234901+0.5055929836909634j), (0.39603087871828185+0.8656722222695364j), (-0.1442135864026612+0.9395260392549613j), (-0.6342947194811904+0.7063230802348741j), (-0.9158002973602368+0.24536613465908386j), (-0.9005027280545846-0.29179512847946704j), (-0.5972087507147035-0.7318949798238896j), (-0.10659555474905952-0.9360529178746662j), (0.41323523136389795-0.8431944590411954j), (0.7984251522928925-0.48732660569808467j), (0.931152603884683+0.01587396645031661j), (0.7751381155897025+0.5077247695558373j), (0.38433877736723554+0.8372496338773537j), (-0.11674692079029458+0.9075475750713073j), (-0.5737636984256388+0.7035854003219426j), (-0.8506079465938565+0.29369639195730335j), (-0.8698190538051547-0.19437504387319599j), (-0.633335531054931-0.6142547377760044j), (-0.2184014871491083-0.8452789458704382j), (0.2487226767278029-0.8268611310446047j), (0.632067780161095-0.5732334839747185j), (0.8258253809837499-0.16544025135642165j), (0.7830376263519664+0.2755571762332789j), (0.525534594334867+0.6255181483451182j), (0.133623610421224+0.792018102302742j), (-0.27996433255572817+0.7380838564328069j), (-0.603217575483713+0.4885988291587462j), (-0.7568775037720576+0.10750666025155582j), (-0.7052577280334453-0.2680515632424293j), (-0.47734606933035145-0.5732372789875865j), (-0.13894960313840893-0.7248945925253546j), (0.22001635952499524-0.6955517926932521j), (0.5120843784509044-0.5045226756693856j), (0.6737402117648874-0.20835792923611746j), (0.6783799916041976+0.1170123038877933j), (0.5384674093971584+0.39678111972463226j), (0.29778860587717837+0.5748313331132142j), (0.017154711586456015+0.6243526731800638j), (-0.24190898102662395+0.549895892134866j), (-0.43114685640432043+0.3816956430336944j), (-0.5241944853933026+0.1649169394078725j), (-0.5186743530088013-0.05270296381474948j), (-0.432440249708885-0.2315731916379439j), (-0.2959664191160437-0.34710254209512037j), (-0.14343247848620286-0.39184895612915993j), (-0.00485016678870695-0.3734445989242581j), (0.09917574529466092-0.3096942961716919j)]\n"
     ]
    }
   ],
   "source": [
    "Lam = 1\n",
    "L = 10\n",
    "x101=[0.1*s for s in range(10*9)]\n",
    "y101=[]\n",
    "\n",
    "start_time_T = time.time()\n",
    "\n",
    "k=10\n",
    "\n",
    "\n",
    "for i in range(len(x101)):\n",
    "    start_time = time.time()\n",
    "    y101.append(Ene_new4(0.1*i,m,g,Lam,L,k))\n",
    "    print(f\"{i}-th iteration running time: {(time.time() - start_time)} seconds.\")\n",
    "    \n",
    "print(f\"Total running time: {(time.time() - start_time_T)} seconds.\")\n",
    "print(y101)"
   ]
  },
  {
   "cell_type": "code",
   "execution_count": null,
   "metadata": {},
   "outputs": [
    {
     "name": "stderr",
     "output_type": "stream",
     "text": [
      "/global/homes/k/kwangmin/.conda/envs/cuquantum/lib/python3.7/site-packages/scipy/sparse/_index.py:82: SparseEfficiencyWarning: Changing the sparsity structure of a csr_matrix is expensive. lil_matrix is more efficient.\n",
      "  self._set_intXint(row, col, x.flat[0])\n"
     ]
    },
    {
     "name": "stdout",
     "output_type": "stream",
     "text": [
      "0-th iteration running time: 2776.362331390381 seconds.\n",
      "1-th iteration running time: 2671.514143228531 seconds.\n",
      "2-th iteration running time: 2506.6499285697937 seconds.\n",
      "3-th iteration running time: 2591.1194500923157 seconds.\n",
      "4-th iteration running time: 2682.7062816619873 seconds.\n",
      "5-th iteration running time: 2801.0804929733276 seconds.\n",
      "6-th iteration running time: 2702.1163902282715 seconds.\n",
      "7-th iteration running time: 2641.5169773101807 seconds.\n"
     ]
    }
   ],
   "source": [
    "Lam = 1\n",
    "L = 12\n",
    "x121=[0.1*s for s in range(10*9)]\n",
    "y121=[]\n",
    "\n",
    "start_time_T = time.time()\n",
    "\n",
    "k=10\n",
    "\n",
    "\n",
    "for i in range(len(x121)):\n",
    "    start_time = time.time()\n",
    "    y121.append(Ene_new4(0.1*i,m,g,Lam,L,k))\n",
    "    print(f\"{i}-th iteration running time: {(time.time() - start_time)} seconds.\")\n",
    "    \n",
    "print(f\"Total running time: {(time.time() - start_time_T)} seconds.\")\n",
    "print(y121)"
   ]
  },
  {
   "cell_type": "code",
   "execution_count": null,
   "metadata": {},
   "outputs": [],
   "source": []
  },
  {
   "cell_type": "code",
   "execution_count": null,
   "metadata": {},
   "outputs": [],
   "source": []
  },
  {
   "cell_type": "code",
   "execution_count": 6,
   "metadata": {},
   "outputs": [
    {
     "name": "stderr",
     "output_type": "stream",
     "text": [
      "/global/homes/k/kwangmin/.conda/envs/cuquantum/lib/python3.7/site-packages/matplotlib/cbook/__init__.py:1298: ComplexWarning: Casting complex values to real discards the imaginary part\n",
      "  return np.asarray(x, float)\n"
     ]
    },
    {
     "data": {
      "image/png": "[encoded data removed]",
      "text/plain": [
       "<Figure size 432x288 with 1 Axes>"
      ]
     },
     "metadata": {
      "needs_background": "light"
     },
     "output_type": "display_data"
    }
   ],
   "source": [
    "plt.plot(x61,y61, label=\"$\\Lambda=1, N=6$\")\n",
    "plt.plot(x81,y81, label=\"$\\Lambda=1, N=8$\")\n",
    "plt.plot(x101,y101, label=\"$\\Lambda=1, N=10$\")\n",
    "#plt.plot(x82,y82, label=\"$\\Lambda=2, N=8$\")\n",
    "\n",
    "plt.xlabel(\"$t$\")\n",
    "plt.title(r'$\\langle\\psi_{in}|e^{-itH}|\\psi_{in}\\rangle$')\n",
    "plt.legend()\n",
    "plt.savefig(\"Amplitude.pdf\")"
   ]
  },
  {
   "cell_type": "code",
   "execution_count": 8,
   "metadata": {},
   "outputs": [],
   "source": [
    "y61_abs = np.abs(y61)"
   ]
  },
  {
   "cell_type": "code",
   "execution_count": 9,
   "metadata": {},
   "outputs": [],
   "source": [
    "y81_abs = np.abs(y81)"
   ]
  },
  {
   "cell_type": "code",
   "execution_count": 10,
   "metadata": {},
   "outputs": [],
   "source": [
    "y101_abs = np.abs(y101)"
   ]
  },
  {
   "cell_type": "code",
   "execution_count": 11,
   "metadata": {},
   "outputs": [
    {
     "data": {
      "text/plain": [
       "<matplotlib.legend.Legend at 0x155501bc6890>"
      ]
     },
     "execution_count": 11,
     "metadata": {},
     "output_type": "execute_result"
    },
    {
     "data": {
      "image/png": "[encoded data removed]",
      "text/plain": [
       "<Figure size 432x288 with 1 Axes>"
      ]
     },
     "metadata": {
      "needs_background": "light"
     },
     "output_type": "display_data"
    }
   ],
   "source": [
    "plt.plot(x61,y61_abs, label=\"$\\Lambda=1, N=6$\")\n",
    "plt.plot(x81,y81_abs, label=\"$\\Lambda=1, N=8$\")\n",
    "plt.plot(x101,y101_abs, label=\"$\\Lambda=1, N=10$\")\n",
    "#plt.plot(x82,y82, label=\"$\\Lambda=2, N=8$\")\n",
    "\n",
    "plt.xlabel(\"$t$\")\n",
    "plt.title(r'$\\langle\\psi_{in}|e^{-itH}|\\psi_{in}\\rangle$')\n",
    "plt.legend()\n",
    "#plt.savefig(\"Amplitude.pdf\")"
   ]
  },
  {
   "cell_type": "code",
   "execution_count": null,
   "metadata": {},
   "outputs": [],
   "source": []
  },
  {
   "cell_type": "code",
   "execution_count": null,
   "metadata": {},
   "outputs": [],
   "source": []
  },
  {
   "cell_type": "code",
   "execution_count": null,
   "metadata": {},
   "outputs": [],
   "source": []
  },
  {
   "cell_type": "code",
   "execution_count": 3,
   "metadata": {
    "scrolled": true,
    "tags": []
   },
   "outputs": [
    {
     "name": "stderr",
     "output_type": "stream",
     "text": [
      "/global/homes/k/kwangmin/.conda/envs/cuquantum/lib/python3.7/site-packages/scipy/sparse/_index.py:82: SparseEfficiencyWarning: Changing the sparsity structure of a csr_matrix is expensive. lil_matrix is more efficient.\n",
      "  self._set_intXint(row, col, x.flat[0])\n"
     ]
    },
    {
     "name": "stdout",
     "output_type": "stream",
     "text": [
      "0-th iteration running time: 1.2346701622009277 seconds.\n",
      "1-th iteration running time: 1.1758008003234863 seconds.\n",
      "2-th iteration running time: 1.1774260997772217 seconds.\n",
      "3-th iteration running time: 1.17221999168396 seconds.\n",
      "4-th iteration running time: 1.1748747825622559 seconds.\n",
      "5-th iteration running time: 1.172710657119751 seconds.\n",
      "6-th iteration running time: 1.1793880462646484 seconds.\n",
      "7-th iteration running time: 1.1762309074401855 seconds.\n",
      "8-th iteration running time: 1.175926685333252 seconds.\n",
      "9-th iteration running time: 1.1764883995056152 seconds.\n",
      "10-th iteration running time: 1.215036392211914 seconds.\n",
      "11-th iteration running time: 1.1768388748168945 seconds.\n",
      "12-th iteration running time: 1.1723332405090332 seconds.\n",
      "13-th iteration running time: 1.1708602905273438 seconds.\n",
      "14-th iteration running time: 1.175295352935791 seconds.\n",
      "15-th iteration running time: 1.1699943542480469 seconds.\n",
      "16-th iteration running time: 1.1682782173156738 seconds.\n",
      "17-th iteration running time: 1.1682720184326172 seconds.\n",
      "18-th iteration running time: 1.1682226657867432 seconds.\n",
      "19-th iteration running time: 1.169327735900879 seconds.\n",
      "20-th iteration running time: 1.175555944442749 seconds.\n",
      "21-th iteration running time: 1.1691093444824219 seconds.\n",
      "22-th iteration running time: 1.169454574584961 seconds.\n",
      "23-th iteration running time: 1.1670165061950684 seconds.\n",
      "24-th iteration running time: 1.170435905456543 seconds.\n",
      "25-th iteration running time: 1.1952526569366455 seconds.\n",
      "26-th iteration running time: 1.1646156311035156 seconds.\n",
      "27-th iteration running time: 1.1747536659240723 seconds.\n",
      "28-th iteration running time: 1.1709794998168945 seconds.\n",
      "29-th iteration running time: 1.1655094623565674 seconds.\n",
      "30-th iteration running time: 1.1730492115020752 seconds.\n",
      "31-th iteration running time: 1.168031930923462 seconds.\n",
      "32-th iteration running time: 1.1685752868652344 seconds.\n",
      "33-th iteration running time: 1.1708848476409912 seconds.\n",
      "34-th iteration running time: 1.1686828136444092 seconds.\n",
      "35-th iteration running time: 1.1751906871795654 seconds.\n",
      "36-th iteration running time: 1.1677651405334473 seconds.\n",
      "37-th iteration running time: 1.1672313213348389 seconds.\n",
      "38-th iteration running time: 1.1677520275115967 seconds.\n",
      "39-th iteration running time: 1.1681435108184814 seconds.\n",
      "40-th iteration running time: 1.1787829399108887 seconds.\n",
      "41-th iteration running time: 1.1750788688659668 seconds.\n",
      "42-th iteration running time: 1.1720287799835205 seconds.\n",
      "43-th iteration running time: 1.1711151599884033 seconds.\n",
      "44-th iteration running time: 1.1722002029418945 seconds.\n",
      "45-th iteration running time: 1.168708324432373 seconds.\n",
      "46-th iteration running time: 1.176229476928711 seconds.\n",
      "47-th iteration running time: 1.167778491973877 seconds.\n",
      "48-th iteration running time: 1.1694207191467285 seconds.\n",
      "49-th iteration running time: 1.1683719158172607 seconds.\n",
      "50-th iteration running time: 1.197413444519043 seconds.\n",
      "51-th iteration running time: 1.1793341636657715 seconds.\n",
      "52-th iteration running time: 1.172253131866455 seconds.\n",
      "53-th iteration running time: 1.1727116107940674 seconds.\n",
      "54-th iteration running time: 1.1737940311431885 seconds.\n",
      "55-th iteration running time: 1.181797742843628 seconds.\n",
      "56-th iteration running time: 1.1848161220550537 seconds.\n",
      "57-th iteration running time: 1.1835198402404785 seconds.\n",
      "58-th iteration running time: 1.183903694152832 seconds.\n",
      "59-th iteration running time: 1.1852052211761475 seconds.\n",
      "Total running time: 70.5261754989624 seconds.\n",
      "[(1.000000000000001+0j), (0.9342327610475955+0.3566619731142029j), (0.7456011641912104+0.6663765803781856j), (0.4589676056560042+0.888397139135748j), (0.11209580261760252+0.9935550934085544j), (-0.2493448826757157+0.9681010508746373j), (-0.5778150613409784+0.8155015457336271j), (-0.8301787407875622+0.5559565148644956j), (-0.9733824544786915+0.22370615827779688j), (-0.9887891842821191-0.1375104243615012j), (-0.8670195401724963-0.4935621648987078j), (-0.6460307591198795-0.759559903082539j), (-0.3332850599459443-0.9389959617446063j), (0.022491324527572742-0.9952658984567768j), (0.37463855651946854-0.9212952019507682j), (0.677125807965451-0.7270764304090608j), (0.890577142063514-0.4382850655407424j), (0.9873907493813818-0.09284627170445153j), (0.9552849000064192+0.2640822185615416j), (0.798816683431361+0.5860409196838962j), (0.5386903538037859+0.8313284920035519j), (0.20896433944306925+0.9683964010687287j), (-0.14745926501932355+0.9798791499750952j), (-0.484457791560479+0.8647470261766397j), (-0.7586798278657064+0.6383196638643038j), (-0.9351224509331151+0.3301612553396302j), (-0.9915742793346144-0.01984573366409198j), (-0.9213617982052009-0.36671820786083464j), (-0.7340646376094997-0.6661907448471801j), (-0.4541337742905832-0.8803758670872712j), (-0.11761913893065792-0.9825394744176391j), (0.23254586753385714-0.9603903880970972j), (0.5520767778514691-0.8174843966069718j), (0.8009669390269268-0.5725925678858792j), (0.9484930540345954-0.2571474911654888j), (0.9769709583148813+0.08887501210326215j), (0.8838071582271222+0.42208842825378934j), (0.681618094555897+0.7011741466748449j), (0.3964394645898186+0.8920081860359128j), (0.0642894048380806+0.9717981624438536j), (-0.2734488644189896+0.9317323353680593j), (-0.5752219480026313+0.7778419142944131j), (-0.8044184746562357+0.5300096319396411j), (-0.933766034739324+0.219291405666754j), (-0.9484868234351191-0.11607605024002055j), (-0.847855211272031-0.43545576768675476j), (-0.6450089435496935-0.7007709184084945j), (-0.3650857300221716-0.8810329569466884j), (-0.04196056559683968-0.9558979397393368j), (0.28597864116102534-0.917848410258773j), (0.5922660764214167-0.7637076458079687j), (0.8079102922062538-0.5389744972871053j), (0.94309573362953-0.24463625520559518j), (0.9719959810559688+0.07566157841879628j), (0.8930269329321268+0.3851605379924592j), (0.7168737729924897+0.6492105374575685j), (0.46489367003821913+0.8391650193810968j), (0.1663497065909993+0.9354387055098161j), (-0.1451529683706559+0.9294087771451935j), (-0.4355816299761013+0.8239920158354016j)]\n"
     ]
    }
   ],
   "source": [
    "Lam = 1\n",
    "L = 6\n",
    "x61=[0.1*s for s in range(10*L)]\n",
    "y61=[]\n",
    "\n",
    "start_time_T = time.time()\n",
    "\n",
    "k=10\n",
    "\n",
    "\n",
    "for i in range(len(x61)):\n",
    "    start_time = time.time()\n",
    "    y61.append(Ene_new4(0.1*i,1,1,Lam,L,k))\n",
    "    print(f\"{i}-th iteration running time: {(time.time() - start_time)} seconds.\")\n",
    "    \n",
    "print(f\"Total running time: {(time.time() - start_time_T)} seconds.\")\n",
    "print(y61)"
   ]
  },
  {
   "cell_type": "code",
   "execution_count": 4,
   "metadata": {
    "scrolled": true,
    "tags": []
   },
   "outputs": [
    {
     "name": "stdout",
     "output_type": "stream",
     "text": [
      "0-th iteration running time: 14.681597232818604 seconds.\n",
      "1-th iteration running time: 14.482966184616089 seconds.\n",
      "2-th iteration running time: 14.522006034851074 seconds.\n",
      "3-th iteration running time: 14.491130113601685 seconds.\n",
      "4-th iteration running time: 14.524791479110718 seconds.\n",
      "5-th iteration running time: 14.572385311126709 seconds.\n",
      "6-th iteration running time: 14.548942804336548 seconds.\n",
      "7-th iteration running time: 14.636807203292847 seconds.\n",
      "8-th iteration running time: 14.430540561676025 seconds.\n",
      "9-th iteration running time: 14.532226324081421 seconds.\n",
      "10-th iteration running time: 579.4568746089935 seconds.\n",
      "11-th iteration running time: 14.119724035263062 seconds.\n",
      "12-th iteration running time: 14.162168502807617 seconds.\n",
      "13-th iteration running time: 14.120267868041992 seconds.\n",
      "14-th iteration running time: 14.087215185165405 seconds.\n",
      "15-th iteration running time: 14.085398197174072 seconds.\n",
      "16-th iteration running time: 14.08159589767456 seconds.\n",
      "17-th iteration running time: 14.143754005432129 seconds.\n",
      "18-th iteration running time: 14.07312297821045 seconds.\n",
      "19-th iteration running time: 14.11802077293396 seconds.\n",
      "20-th iteration running time: 445.3939118385315 seconds.\n",
      "21-th iteration running time: 14.187240362167358 seconds.\n",
      "22-th iteration running time: 14.138996839523315 seconds.\n",
      "23-th iteration running time: 14.121550798416138 seconds.\n",
      "24-th iteration running time: 14.104302406311035 seconds.\n",
      "25-th iteration running time: 14.14150071144104 seconds.\n",
      "26-th iteration running time: 16.457448959350586 seconds.\n",
      "27-th iteration running time: 14.173075675964355 seconds.\n",
      "28-th iteration running time: 14.173659563064575 seconds.\n",
      "29-th iteration running time: 14.347815752029419 seconds.\n",
      "30-th iteration running time: 411.08171224594116 seconds.\n",
      "31-th iteration running time: 14.645153760910034 seconds.\n",
      "32-th iteration running time: 14.816406011581421 seconds.\n",
      "33-th iteration running time: 14.761571645736694 seconds.\n",
      "34-th iteration running time: 14.965968132019043 seconds.\n",
      "35-th iteration running time: 14.650040864944458 seconds.\n",
      "36-th iteration running time: 14.693251609802246 seconds.\n",
      "37-th iteration running time: 14.699739217758179 seconds.\n",
      "38-th iteration running time: 14.813560962677002 seconds.\n",
      "39-th iteration running time: 14.848849296569824 seconds.\n",
      "46-th iteration running time: 14.748488664627075 seconds.\n",
      "47-th iteration running time: 14.78842568397522 seconds.\n",
      "48-th iteration running time: 14.802526950836182 seconds.\n",
      "49-th iteration running time: 14.714083433151245 seconds.\n",
      "50-th iteration running time: 562.3944356441498 seconds.\n",
      "51-th iteration running time: 14.520815134048462 seconds.\n",
      "52-th iteration running time: 14.586386680603027 seconds.\n",
      "53-th iteration running time: 14.617978811264038 seconds.\n",
      "54-th iteration running time: 14.661861658096313 seconds.\n",
      "55-th iteration running time: 14.653533220291138 seconds.\n",
      "56-th iteration running time: 14.528594970703125 seconds.\n",
      "57-th iteration running time: 14.548965692520142 seconds.\n",
      "58-th iteration running time: 14.58958649635315 seconds.\n",
      "59-th iteration running time: 14.6549391746521 seconds.\n",
      "Total running time: 2904.701127767563 seconds.\n",
      "[(0.9999999999999987+0j), (0.9342629944739737+0.3565834214871436j), (0.7457112096366643+0.6662587400481842j), (0.45917692837320523+0.8883075609976733j), (0.11238171508929247+0.993569876218256j), (-0.24904877310433796+0.9682803865214464j), (-0.5776086034277941+0.815865755530595j), (-0.8301741977879012+0.5564680343756032j), (-0.973675955327919+0.2242621933678184j), (-0.9894297897861987-0.13707149992297793j), (-0.8717235443457285-0.48680446508703895j), (-0.6471987523746842-0.7599586208280728j), (-0.334448545203279-0.9400832223258373j), (0.02161970325894185-0.9971302232907664j), (0.3743894321603446-0.9239101061796352j), (0.6778240583281528-0.7302787297323425j), (0.8924843295099388-0.44177360504293794j), (0.9906478382993477-0.09620454295782173j), (0.9598652984807365+0.26133977638003525j), (0.8044993380247449+0.5844032402256996j), (0.5321995148241139+0.839487960242446j), (0.21544667453394278+0.9700642835645957j), (-0.1415372643357343+0.9833831586026158j), (-0.4797761843231742+0.8698846251365739j), (-0.7558227310935374+0.6446310238718105j), (-0.9344749134816354+0.3369656887757846j), (-0.9932363217128669-0.013373303744296513j), (-0.9250957492635175-0.36143761167567556j), (-0.739288632878093-0.6628667837181477j), (-0.45996853788514513-0.8795462002194513j), (-0.10781698159873528-0.9861588847200812j), (0.2287749849667144-0.9647210291959526j), (0.5509181239346801-0.8236240665016692j), (0.8031434865853467-0.5794830753251239j), (0.9542829539678622-0.26343982160223706j), (0.9861019574118058+0.0846579211298852j), (0.8954196060274894+0.4213512824101649j), (0.6943092277461753+0.7050372143420276j), (0.4083905367430856+0.9011138452626626j), (0.07346482164639537+0.9861665166209712j), (-0.2690531024701726+0.9506918630616368j), (-0.5773125875286711+0.8000523029687415j), (-0.8141594694678134+0.5535817494803559j), (-0.9515903824014341+0.24199533937110082j), (-0.9739972389220276-0.09653785339284184j), (-0.8798340585351174-0.4211448877521983j), (-0.6815429096023276-0.6932209716823888j), (-0.40379392262572467-0.8810130644154803j), (-0.08029840452491149-0.9632706233051592j), (0.2503810586019003-0.9315492162424827j), (0.5555724722024976-0.7866400278668305j), (0.7826744823112879-0.5590948664565157j), (0.9239134706775283-0.2639367340639691j), (0.9585644062120099+0.06012888088288399j), (0.8853767121006549+0.376933592664781j), (0.718373063937104+0.6550839289144276j), (0.4911024342423388+0.8802455321670368j), (0.2633609852781986+1.0918281839855488j), (0.05810710715626177+1.52053032783537j), (-1.0224793368018101+3.0324443021749605j)]\n"
     ]
    }
   ],
   "source": [
    "Lam = 2\n",
    "L = 6\n",
    "x62=[0.1*s for s in range(10*L)]\n",
    "y62=[]\n",
    "\n",
    "start_time_T = time.time()\n",
    "\n",
    "k=10\n",
    "\n",
    "\n",
    "for i in range(len(x62)):\n",
    "    start_time = time.time()\n",
    "    y62.append(Ene_new4(0.1*i,1,1,Lam,L,k))\n",
    "    print(f\"{i}-th iteration running time: {(time.time() - start_time)} seconds.\")\n",
    "    \n",
    "print(f\"Total running time: {(time.time() - start_time_T)} seconds.\")\n",
    "print(y62)"
   ]
  },
  {
   "cell_type": "code",
   "execution_count": 5,
   "metadata": {
    "scrolled": true,
    "tags": []
   },
   "outputs": [
    {
     "name": "stdout",
     "output_type": "stream",
     "text": [
      "0-th iteration running time: 3.4326486587524414 seconds.\n",
      "1-th iteration running time: 3.4273228645324707 seconds.\n",
      "2-th iteration running time: 3.4180352687835693 seconds.\n",
      "3-th iteration running time: 3.3947665691375732 seconds.\n",
      "4-th iteration running time: 3.419729232788086 seconds.\n",
      "5-th iteration running time: 3.4220473766326904 seconds.\n",
      "6-th iteration running time: 3.4138615131378174 seconds.\n",
      "7-th iteration running time: 3.4098894596099854 seconds.\n",
      "8-th iteration running time: 3.4101755619049072 seconds.\n",
      "9-th iteration running time: 3.398277521133423 seconds.\n",
      "10-th iteration running time: 4.576043605804443 seconds.\n",
      "11-th iteration running time: 3.432298183441162 seconds.\n",
      "12-th iteration running time: 3.411223888397217 seconds.\n",
      "13-th iteration running time: 3.40106201171875 seconds.\n",
      "14-th iteration running time: 3.420004367828369 seconds.\n",
      "15-th iteration running time: 3.4025473594665527 seconds.\n",
      "16-th iteration running time: 3.411268711090088 seconds.\n",
      "17-th iteration running time: 3.4093263149261475 seconds.\n",
      "18-th iteration running time: 3.4154858589172363 seconds.\n",
      "19-th iteration running time: 3.4017491340637207 seconds.\n",
      "20-th iteration running time: 3.5330169200897217 seconds.\n",
      "21-th iteration running time: 3.4042184352874756 seconds.\n",
      "22-th iteration running time: 3.4068498611450195 seconds.\n",
      "23-th iteration running time: 3.420240879058838 seconds.\n",
      "24-th iteration running time: 3.3982198238372803 seconds.\n",
      "25-th iteration running time: 3.424494743347168 seconds.\n",
      "26-th iteration running time: 3.3999481201171875 seconds.\n",
      "27-th iteration running time: 3.423125743865967 seconds.\n",
      "28-th iteration running time: 3.4094996452331543 seconds.\n",
      "29-th iteration running time: 3.4139838218688965 seconds.\n",
      "30-th iteration running time: 3.8463191986083984 seconds.\n",
      "31-th iteration running time: 3.3550827503204346 seconds.\n",
      "32-th iteration running time: 3.330697536468506 seconds.\n",
      "33-th iteration running time: 3.3465585708618164 seconds.\n",
      "34-th iteration running time: 3.343653917312622 seconds.\n",
      "35-th iteration running time: 3.3292346000671387 seconds.\n",
      "36-th iteration running time: 3.337372064590454 seconds.\n",
      "37-th iteration running time: 3.3443338871002197 seconds.\n",
      "38-th iteration running time: 3.3232667446136475 seconds.\n",
      "39-th iteration running time: 3.34350323677063 seconds.\n",
      "40-th iteration running time: 3.445830821990967 seconds.\n",
      "41-th iteration running time: 3.3334972858428955 seconds.\n",
      "42-th iteration running time: 3.3237833976745605 seconds.\n",
      "43-th iteration running time: 3.3259427547454834 seconds.\n",
      "44-th iteration running time: 3.337768077850342 seconds.\n",
      "45-th iteration running time: 3.337305784225464 seconds.\n",
      "46-th iteration running time: 3.331907272338867 seconds.\n",
      "47-th iteration running time: 3.338804006576538 seconds.\n",
      "48-th iteration running time: 3.3316690921783447 seconds.\n",
      "49-th iteration running time: 3.33329701423645 seconds.\n",
      "50-th iteration running time: 3.831827402114868 seconds.\n",
      "51-th iteration running time: 3.3967318534851074 seconds.\n",
      "52-th iteration running time: 3.3859872817993164 seconds.\n",
      "53-th iteration running time: 3.364443778991699 seconds.\n",
      "54-th iteration running time: 3.363441228866577 seconds.\n",
      "55-th iteration running time: 3.353376865386963 seconds.\n",
      "56-th iteration running time: 3.3676939010620117 seconds.\n",
      "57-th iteration running time: 3.371149778366089 seconds.\n",
      "58-th iteration running time: 3.3798646926879883 seconds.\n",
      "59-th iteration running time: 3.350761890411377 seconds.\n",
      "60-th iteration running time: 3.4787189960479736 seconds.\n",
      "61-th iteration running time: 3.3524343967437744 seconds.\n",
      "62-th iteration running time: 3.349543809890747 seconds.\n",
      "63-th iteration running time: 3.3830981254577637 seconds.\n",
      "64-th iteration running time: 3.361992359161377 seconds.\n",
      "65-th iteration running time: 3.370790958404541 seconds.\n",
      "66-th iteration running time: 3.380323886871338 seconds.\n",
      "67-th iteration running time: 3.3571574687957764 seconds.\n",
      "68-th iteration running time: 3.344430923461914 seconds.\n",
      "69-th iteration running time: 3.362877368927002 seconds.\n",
      "70-th iteration running time: 4.559272050857544 seconds.\n",
      "71-th iteration running time: 3.3964052200317383 seconds.\n",
      "72-th iteration running time: 3.4004197120666504 seconds.\n",
      "73-th iteration running time: 3.3634395599365234 seconds.\n",
      "74-th iteration running time: 3.3830158710479736 seconds.\n",
      "75-th iteration running time: 3.3629679679870605 seconds.\n",
      "76-th iteration running time: 3.3737499713897705 seconds.\n",
      "77-th iteration running time: 3.3673272132873535 seconds.\n",
      "78-th iteration running time: 3.3893725872039795 seconds.\n",
      "79-th iteration running time: 3.384425163269043 seconds.\n",
      "Total running time: 273.89555978775024 seconds.\n",
      "[(1.0000000000000016+0j), (0.8879883617663938+0.4598642372237176j), (0.5770677352508602+0.8166818354423792j), (0.1369425478759274+0.9905235132272743j), (-0.33374002536782665+0.9425008696292168j), (-0.7295282714812471+0.6834711300754704j), (-0.9618190220686673+0.2715724171556175j), (-0.9787122460375772-0.2008491117855729j), (-0.7766120088810945-0.6279750706535969j), (-0.40097820970077636-0.9142494092618361j), (0.0792078890414147-0.9945690309856661j), (0.5139689946891846-0.8546052640799926j), (0.848515642073279-0.5226430121648618j), (0.9929517851718324-0.07444595209115044j), (0.9153379662984844+0.389576446439977j), (0.6334603014469489+0.7656901961429982j), (0.2107279518535387+0.9700544855517348j), (-0.2581310971768199+0.9574200505274361j), (-0.668338677655365+0.7311339694341008j), (-0.9285124014216353+0.34224086174856166j), (-0.9810325996469497-0.12207708746889638j), (-0.8147860110906378-0.5580914131691903j), (-0.4674699342713804-0.8687336883250895j), (-0.016991086630493507-0.9852133176262502j), (0.4360645952181155-0.8822263025354325j), (0.7909300530419134-0.5833948812524129j), (0.9690763293932185-0.15578116781568008j), (0.9315569393417247+0.3052351655871355j), (0.6874486919923241+0.6972845869961843j), (0.2915736034935206+0.93375289786508j), (-0.18269556351675742+0.9601002365709457j), (-0.5892255052316165+0.7789941817889003j), (-0.8795336283137005+0.4234800846649759j), (-0.9753695384427485-0.02467863844401061j), (-0.8564003278037231-0.4665548442665988j), (-0.5495720577540674-0.8051734235176446j), (-0.12282320461754515-0.9667683920803906j), (0.3301310064743592-0.916733953538059j), (0.7104938434082144-0.6668321244568617j), (0.9359564438314546-0.27219105784248815j), (0.9584136453371467+0.18110896019006106j), (0.7740185249538774+0.5950161385263198j), (0.4235071810824125+0.880822170619159j), (-0.017115792251832657+0.9781470180957215j), (-0.45334583531984785+0.8675254907333387j), (-0.7926431222017387+0.5739987669054695j), (-0.9641171849271974+0.16111645548920017j), (-0.9332261357556566-0.28316259079943606j), (-0.7084596576320701-0.665475999133498j), (-0.33877179625716847-0.9068055000278314j), (0.11219918194256345-0.9570795929516168j), (0.5093885802905369-0.8130212769136131j), (0.8128318880841487-0.5022209351781479j), (0.9475029357263605-0.09221296407110459j), (0.8888046937149534+0.3322669683753334j), (0.6519135413345576+0.6854184624352597j), (0.28757844546636097+0.8978392846536798j), (-0.12919250794707454+0.9300549684549917j), (-0.5149622289275352+0.7794974059965099j), (-0.7947986302394776+0.47978057522680345j), (-0.9168315737665076+0.09275503563546292j), (-0.8616069463011011-0.3047269095181854j), (-0.6446137948604241-0.6364286696478826j), (-0.31182730192341784-0.8414981094717258j), (0.07047741454726868-0.8855093276879086j), (0.42931575537561406-0.7658141033653334j), (0.6991325322013971-0.5104913546319945j), (0.8337124660201638-0.17149264342868464j), (0.8137136814981424+0.18632078164604288j), (0.6486838373011324+0.4978744188963007j), (0.3625781665288974+0.7154079932426345j), (0.04081660147920952+0.7892399388874822j), (-0.29018729102649715+0.7285764056725259j), (-0.5640343355343449+0.5448259192017786j), (-0.7386625068769607+0.2749771597073211j), (-0.7915342548626798-0.031933226306911394j), (-0.7218416201915304-0.3241261005985296j), (-0.5487383224326186-0.5559841431378518j), (-0.3063285404240933-0.695017910560549j), (-0.0366477824533038-0.7258820845343985j)]\n"
     ]
    }
   ],
   "source": [
    "Lam = 1\n",
    "L = 8\n",
    "x81=[0.1*s for s in range(10*L)]\n",
    "y81=[]\n",
    "\n",
    "start_time_T = time.time()\n",
    "\n",
    "k=10\n",
    "\n",
    "\n",
    "for i in range(len(x81)):\n",
    "    start_time = time.time()\n",
    "    y81.append(Ene_new4(0.1*i,1,1,Lam,L,k))\n",
    "    print(f\"{i}-th iteration running time: {(time.time() - start_time)} seconds.\")\n",
    "    \n",
    "print(f\"Total running time: {(time.time() - start_time_T)} seconds.\")\n",
    "print(y81)"
   ]
  },
  {
   "cell_type": "code",
   "execution_count": null,
   "metadata": {
    "scrolled": true,
    "tags": []
   },
   "outputs": [
    {
     "name": "stdout",
     "output_type": "stream",
     "text": [
      "0-th iteration running time: 1380.6085312366486 seconds.\n",
      "1-th iteration running time: 1372.9500975608826 seconds.\n",
      "2-th iteration running time: 1409.717606306076 seconds.\n",
      "3-th iteration running time: 1343.8312349319458 seconds.\n",
      "4-th iteration running time: 1342.648568868637 seconds.\n"
     ]
    }
   ],
   "source": [
    "Lam = 2\n",
    "L = 8\n",
    "x82=[0.1*s for s in range(10*L)]\n",
    "y82=[]\n",
    "\n",
    "start_time_T = time.time()\n",
    "\n",
    "k=10\n",
    "\n",
    "\n",
    "for i in range(len(x82)):\n",
    "    start_time = time.time()\n",
    "    y82.append(Ene_new4(0.1*i,1,1,Lam,L,k))\n",
    "    print(f\"{i}-th iteration running time: {(time.time() - start_time)} seconds.\")\n",
    "    \n",
    "print(f\"Total running time: {(time.time() - start_time_T)} seconds.\")"
   ]
  },
  {
   "cell_type": "code",
   "execution_count": 6,
   "metadata": {},
   "outputs": [
    {
     "name": "stderr",
     "output_type": "stream",
     "text": [
      "/global/homes/k/kwangmin/.conda/envs/cuquantum/lib/python3.7/site-packages/matplotlib/cbook/__init__.py:1298: ComplexWarning: Casting complex values to real discards the imaginary part\n",
      "  return np.asarray(x, float)\n"
     ]
    },
    {
     "data": {
      "text/plain": [
       "<matplotlib.legend.Legend at 0x7f63105daa90>"
      ]
     },
     "execution_count": 6,
     "metadata": {},
     "output_type": "execute_result"
    },
    {
     "data": {
      "image/png": "[encoded data removed]",
      "text/plain": [
       "<Figure size 432x288 with 1 Axes>"
      ]
     },
     "metadata": {
      "needs_background": "light"
     },
     "output_type": "display_data"
    }
   ],
   "source": [
    "plt.plot(x61,y61, label=\"$\\Lambda=1, N=6$\")\n",
    "plt.plot(x62,y62, label=\"$\\Lambda=2, N=6$\")\n",
    "plt.plot(x81,y81, label=\"$\\Lambda=1, N=8$\")\n",
    "#plt.plot(x82,y82, label=\"$\\Lambda=2, N=8$\")\n",
    "\n",
    "plt.xlabel(\"$t$\")\n",
    "plt.title(r'$\\langle\\psi_{in}|e^{-itH}|\\psi_{in}\\rangle$')\n",
    "plt.legend()\n",
    "plt.savefig(\"Amplitude.pdf\")"
   ]
  },
  {
   "cell_type": "code",
   "execution_count": null,
   "metadata": {},
   "outputs": [],
   "source": []
  },
  {
   "cell_type": "code",
   "execution_count": null,
   "metadata": {},
   "outputs": [],
   "source": []
  },
  {
   "cell_type": "code",
   "execution_count": null,
   "metadata": {},
   "outputs": [],
   "source": [
    "plt.plot(x61,y61, label=\"$\\Lambda=1, N=6$\")\n",
    "plt.plot(x62,y62, label=\"$\\Lambda=2, N=6$\")\n",
    "plt.plot(x81,y81, label=\"$\\Lambda=1, N=8$\")\n",
    "#plt.plot(x82,y82, label=\"$\\Lambda=2, N=8$\")\n",
    "\n",
    "plt.xlabel(\"$t$\")\n",
    "plt.title(r'$\\langle\\psi_{in}|e^{-itH}|\\psi_{in}\\rangle$')\n",
    "plt.legend()\n",
    "plt.savefig(\"Amplitude.pdf\")"
   ]
  },
  {
   "cell_type": "code",
   "execution_count": null,
   "metadata": {},
   "outputs": [],
   "source": []
  },
  {
   "cell_type": "code",
   "execution_count": null,
   "metadata": {},
   "outputs": [],
   "source": []
  },
  {
   "cell_type": "code",
   "execution_count": null,
   "metadata": {},
   "outputs": [],
   "source": []
  },
  {
   "cell_type": "code",
   "execution_count": null,
   "metadata": {},
   "outputs": [],
   "source": []
  },
  {
   "cell_type": "code",
   "execution_count": null,
   "metadata": {},
   "outputs": [],
   "source": []
  },
  {
   "cell_type": "code",
   "execution_count": null,
   "metadata": {},
   "outputs": [],
   "source": []
  },
  {
   "cell_type": "code",
   "execution_count": null,
   "metadata": {},
   "outputs": [],
   "source": []
  },
  {
   "cell_type": "code",
   "execution_count": null,
   "metadata": {},
   "outputs": [],
   "source": []
  },
  {
   "cell_type": "code",
   "execution_count": null,
   "metadata": {},
   "outputs": [],
   "source": []
  },
  {
   "cell_type": "markdown",
   "metadata": {},
   "source": [
    "# Code validation"
   ]
  },
  {
   "cell_type": "code",
   "execution_count": 1,
   "metadata": {},
   "outputs": [],
   "source": [
    "y_N4_lam1 = [(0.9999999999999996+0j),\n",
    " (0.9709596031189139+0.2392426507226844j),\n",
    " (0.8855288826001784+0.4645778366169812j),\n",
    " (0.7486803509751578+0.6629105768259955j),\n",
    " (0.5683776889615946+0.8227229365403709j),\n",
    " (0.35511000977967316+0.9347456176921161j),\n",
    " (0.12127866342046231+0.992497096492886j),\n",
    " (-0.11952734778365973+0.992658746388945j),\n",
    " (-0.35332473081998944+0.9352641719743917j),\n",
    " (-0.5665514077448465+0.8236920349768244j),\n",
    " (-0.7568909273057878+0.65283857897924j),\n",
    " (-0.8838168563328439+0.46685541960118515j),\n",
    " (-0.9695429574200611+0.2423565652634058j),\n",
    " (-0.9991309362473262+0.003992647569572669j),\n",
    " (-0.9709424664223769-0.234433198500986j),\n",
    " (-0.8866918068113021-0.45914372741817305j),\n",
    " (-0.7513370982691596-0.6571862561248736j),\n",
    " (-0.5727827592215743-0.8171803282328944j),\n",
    " (-0.36141118912627124-0.9299710551843612j),\n",
    " (-0.12947198931410933-0.9891505847575383j),\n",
    " (0.10963481883262305-0.9914180697382577j),\n",
    " (0.34213904822432434-0.9367581086215869j),\n",
    " (0.5546980644348157-0.8284283312739888j),\n",
    " (0.7351652445710113-0.6727579717778668j),\n",
    " (0.8732845220161091-0.4787702522398599j),\n",
    " (0.9612710653194954-0.25765155504523113j),\n",
    " (0.9942451672676165-0.022099099492403393j),\n",
    " (0.9704953258878326+0.214414338905072j),\n",
    " (0.891556727969499+0.43841560736520324j),\n",
    " (0.7621022709148947+0.6372012225495484j),\n",
    " (0.5772318335803532+0.8084669440715561j),\n",
    " (0.3841349599852658+0.9163926676447034j),\n",
    " (0.15728439287540152+0.9812364939557415j),\n",
    " (-0.07802098411889982+0.9905946030931578j),\n",
    " (-0.3085071351486409+0.9441238410120361j),\n",
    " (-0.5212565715307377+0.8446292279574487j),\n",
    " (-0.7044341129715096+0.6978815801648971j),\n",
    " (-0.8479431918944431+0.5122686028763683j),\n",
    " (-0.9439761569733909+0.2983012605262306j),\n",
    " (-0.9874286678998155+0.06800526073621446j)]"
   ]
  },
  {
   "cell_type": "code",
   "execution_count": 2,
   "metadata": {},
   "outputs": [],
   "source": [
    "y_N4_lam2 = [(1.0000000000000013+0j),\n",
    " (0.9710765973161928+0.23876721808817075j),\n",
    " (0.8859846152891943+0.4637071662334987j),\n",
    " (0.7496606345138888+0.6617982922486116j),\n",
    " (0.5700110884877708+0.821582978523701j),\n",
    " (0.3574503863131417+0.9338336118111934j),\n",
    " (0.12429291468231081+0.9920873913785984j),\n",
    " (-0.1159652201693811+0.9930186251836891j),\n",
    " (-0.3494323791853615+0.9366269744963527j),\n",
    " (-0.5626292273359417+0.8262310687300976j),\n",
    " (-0.7483202925074247+0.6624312193061951j),\n",
    " (-0.8809766690027522+0.4719142971622208j),\n",
    " (-0.9678686907996945+0.2485418151979627j),\n",
    " (-0.999020171500042+0.011056793041399155j),\n",
    " (-0.9727322488331379-0.22685441981996227j),\n",
    " (-0.8906211707921421-0.45151899417682717j),\n",
    " (-0.7575126056821464-0.6500672223719552j),\n",
    " (-0.5811501562341908-0.8111716006781859j),\n",
    " (-0.3717361778125106-0.9256926345568162j),\n",
    " (-0.14133272806689964-0.9871943867583822j),\n",
    " (0.09684152272374352-0.9923007063878962j),\n",
    " (0.32917677440215987-0.9408726435585808j),\n",
    " (0.5424550185034551-0.8359981811188847j),\n",
    " (0.7246048167845941-0.683796455359318j),\n",
    " (0.8653844188987525-0.4930494273937162j),\n",
    " (0.9569543087716418-0.27468386674439255j),\n",
    " (0.9943071218200222-0.04113494389699836j),\n",
    " (0.975531543029545+0.1943707763710904j),\n",
    " (0.9018967430768452+0.41857094424778274j),\n",
    " (0.7777545265173317+0.6189179325857073j),\n",
    " (0.6041458140469164+0.7889303182272883j),\n",
    " (0.40897764893274074+0.9055632586967228j),\n",
    " (0.1852523281073727+0.9761913436030496j),\n",
    " (-0.04837584356936378+0.9924646842038558j),\n",
    " (-0.2789192061641379+0.9537331433914371j),\n",
    " (-0.49366441596211946+0.8624031182503573j),\n",
    " (-0.6808759986070685+0.7237714772087774j),\n",
    " (-0.8304353568216374+0.5456996051656086j),\n",
    " (-0.9343804515850439+0.33814842772958603j),\n",
    " (-0.9873177013256441+0.11260292165939159j)]\n"
   ]
  },
  {
   "cell_type": "code",
   "execution_count": 13,
   "metadata": {
    "scrolled": true,
    "tags": []
   },
   "outputs": [
    {
     "name": "stdout",
     "output_type": "stream",
     "text": [
      "0-th iteration running time: 0.6754148006439209 seconds.\n",
      "1-th iteration running time: 0.6688556671142578 seconds.\n",
      "2-th iteration running time: 0.6711766719818115 seconds.\n",
      "3-th iteration running time: 0.6704936027526855 seconds.\n",
      "4-th iteration running time: 0.6711747646331787 seconds.\n",
      "5-th iteration running time: 0.6719136238098145 seconds.\n",
      "6-th iteration running time: 0.67041015625 seconds.\n",
      "7-th iteration running time: 0.6696617603302002 seconds.\n",
      "8-th iteration running time: 0.6694660186767578 seconds.\n",
      "9-th iteration running time: 0.6692225933074951 seconds.\n",
      "10-th iteration running time: 0.6714649200439453 seconds.\n",
      "11-th iteration running time: 0.6687908172607422 seconds.\n",
      "12-th iteration running time: 0.6692423820495605 seconds.\n",
      "13-th iteration running time: 0.6691088676452637 seconds.\n",
      "14-th iteration running time: 0.6680028438568115 seconds.\n",
      "15-th iteration running time: 0.6693615913391113 seconds.\n",
      "16-th iteration running time: 0.6693024635314941 seconds.\n",
      "17-th iteration running time: 0.6694111824035645 seconds.\n",
      "18-th iteration running time: 0.669395923614502 seconds.\n",
      "19-th iteration running time: 0.6713409423828125 seconds.\n",
      "20-th iteration running time: 0.6740446090698242 seconds.\n",
      "21-th iteration running time: 0.6693527698516846 seconds.\n",
      "22-th iteration running time: 0.6692607402801514 seconds.\n",
      "23-th iteration running time: 0.6698911190032959 seconds.\n",
      "24-th iteration running time: 0.671433687210083 seconds.\n",
      "25-th iteration running time: 0.6708862781524658 seconds.\n",
      "26-th iteration running time: 0.6705493927001953 seconds.\n",
      "27-th iteration running time: 0.6709108352661133 seconds.\n",
      "28-th iteration running time: 0.6689400672912598 seconds.\n",
      "29-th iteration running time: 0.6702170372009277 seconds.\n",
      "30-th iteration running time: 0.6741738319396973 seconds.\n",
      "31-th iteration running time: 0.6706454753875732 seconds.\n",
      "32-th iteration running time: 0.6701898574829102 seconds.\n",
      "33-th iteration running time: 0.670799970626831 seconds.\n",
      "34-th iteration running time: 0.6708183288574219 seconds.\n",
      "35-th iteration running time: 0.6693418025970459 seconds.\n",
      "36-th iteration running time: 0.6701414585113525 seconds.\n",
      "37-th iteration running time: 0.6704645156860352 seconds.\n",
      "38-th iteration running time: 0.6697878837585449 seconds.\n",
      "39-th iteration running time: 0.6712400913238525 seconds.\n",
      "Total running time: 26.81814408302307 seconds.\n"
     ]
    }
   ],
   "source": [
    "Lam = 1\n",
    "L = 4\n",
    "k=10\n",
    "\n",
    "x=[0.1*s for s in range(10*L)]\n",
    "y=[]\n",
    "\n",
    "start_time_T = time.time()\n",
    "\n",
    "for i in range(len(x)):\n",
    "    start_time = time.time()\n",
    "    y.append(Ene_new4(0.1*i,m,g,Lam,L,k))\n",
    "    print(f\"{i}-th iteration running time: {(time.time() - start_time)} seconds.\")\n",
    "    \n",
    "print(f\"Total running time: {(time.time() - start_time_T)} seconds.\")"
   ]
  },
  {
   "cell_type": "code",
   "execution_count": 8,
   "metadata": {
    "scrolled": true,
    "tags": []
   },
   "outputs": [
    {
     "name": "stdout",
     "output_type": "stream",
     "text": [
      "0-th iteration running time: 0.96453857421875 seconds.\n",
      "1-th iteration running time: 0.9662473201751709 seconds.\n",
      "2-th iteration running time: 0.9384241104125977 seconds.\n",
      "3-th iteration running time: 0.9348077774047852 seconds.\n",
      "4-th iteration running time: 0.9688363075256348 seconds.\n",
      "5-th iteration running time: 0.9320333003997803 seconds.\n",
      "6-th iteration running time: 0.9634602069854736 seconds.\n",
      "7-th iteration running time: 0.9644255638122559 seconds.\n",
      "8-th iteration running time: 0.9333996772766113 seconds.\n",
      "9-th iteration running time: 0.9586291313171387 seconds.\n",
      "10-th iteration running time: 2.07175612449646 seconds.\n",
      "11-th iteration running time: 0.9744827747344971 seconds.\n",
      "12-th iteration running time: 0.9371840953826904 seconds.\n",
      "13-th iteration running time: 0.973372220993042 seconds.\n",
      "14-th iteration running time: 0.9761242866516113 seconds.\n",
      "15-th iteration running time: 0.9413201808929443 seconds.\n",
      "16-th iteration running time: 0.970482587814331 seconds.\n",
      "17-th iteration running time: 0.943509578704834 seconds.\n",
      "18-th iteration running time: 0.9433062076568604 seconds.\n",
      "19-th iteration running time: 0.9734313488006592 seconds.\n",
      "20-th iteration running time: 1.0246493816375732 seconds.\n",
      "21-th iteration running time: 0.9327895641326904 seconds.\n",
      "22-th iteration running time: 0.9662625789642334 seconds.\n",
      "23-th iteration running time: 0.9688506126403809 seconds.\n",
      "24-th iteration running time: 0.9652218818664551 seconds.\n",
      "25-th iteration running time: 0.9706945419311523 seconds.\n",
      "26-th iteration running time: 0.9342780113220215 seconds.\n",
      "27-th iteration running time: 0.9326109886169434 seconds.\n",
      "28-th iteration running time: 0.9690840244293213 seconds.\n",
      "29-th iteration running time: 0.9324183464050293 seconds.\n",
      "30-th iteration running time: 1.8715591430664062 seconds.\n",
      "31-th iteration running time: 0.9691283702850342 seconds.\n",
      "32-th iteration running time: 0.9692361354827881 seconds.\n",
      "33-th iteration running time: 0.9410638809204102 seconds.\n",
      "34-th iteration running time: 0.9350981712341309 seconds.\n",
      "35-th iteration running time: 0.938279390335083 seconds.\n",
      "36-th iteration running time: 0.9737865924835205 seconds.\n",
      "37-th iteration running time: 0.9431912899017334 seconds.\n",
      "38-th iteration running time: 0.9777681827545166 seconds.\n",
      "39-th iteration running time: 0.9330878257751465 seconds.\n",
      "Total running time: 40.280843019485474 seconds.\n"
     ]
    }
   ],
   "source": [
    "Lam = 2\n",
    "L = 4\n",
    "k=10\n",
    "\n",
    "x1=[0.1*s for s in range(10*L)]\n",
    "y1=[]\n",
    "\n",
    "start_time_T = time.time()\n",
    "\n",
    "for i in range(len(x1)):\n",
    "    start_time = time.time()\n",
    "    y1.append(Ene_new4(0.1*i,m,g,Lam,L,k))\n",
    "    print(f\"{i}-th iteration running time: {(time.time() - start_time)} seconds.\")\n",
    "    \n",
    "print(f\"Total running time: {(time.time() - start_time_T)} seconds.\")"
   ]
  },
  {
   "cell_type": "code",
   "execution_count": 14,
   "metadata": {},
   "outputs": [
    {
     "data": {
      "text/plain": [
       "<matplotlib.legend.Legend at 0x7f7b43759790>"
      ]
     },
     "execution_count": 14,
     "metadata": {},
     "output_type": "execute_result"
    },
    {
     "data": {
      "image/png": "[encoded data removed]",
      "text/plain": [
       "<Figure size 432x288 with 1 Axes>"
      ]
     },
     "metadata": {
      "needs_background": "light"
     },
     "output_type": "display_data"
    }
   ],
   "source": [
    "plt.plot(x1,y1,label=\"$\\Lambda=2,N=4$\")\n",
    "plt.plot(x,y, label=\"$\\Lambda=1, N=4$\")\n",
    "#plt.plot(x2,y2,label=\"$\\Lambda=1,N=6$\")\n",
    "plt.xlabel(\"$t$\")\n",
    "plt.title(r'$\\langle\\psi_{in}|e^{-itH}|\\psi_{in}\\rangle$')\n",
    "plt.legend()\n",
    "#plt.savefig(\"Amplitude.pdf\")"
   ]
  },
  {
   "cell_type": "code",
   "execution_count": 28,
   "metadata": {},
   "outputs": [
    {
     "data": {
      "text/plain": [
       "array([ 1.33226763e-15+0.00000000e+00j, -8.88178420e-16-5.55111512e-17j,\n",
       "        2.88657986e-15+1.49880108e-15j,  3.55271368e-15+2.66453526e-15j,\n",
       "       -1.88737914e-15-1.99840144e-15j, -6.66133815e-16-2.44249065e-15j,\n",
       "        4.99600361e-16+1.88737914e-15j, -1.38777878e-16-1.88737914e-15j,\n",
       "       -5.55111512e-16+2.22044605e-16j, -9.99200722e-16-1.11022302e-16j,\n",
       "        1.39888101e-13-1.26121336e-13j, -9.10382880e-15-6.16173779e-15j,\n",
       "       -1.29896094e-14-2.24820162e-14j, -1.21014310e-14-5.88834537e-14j,\n",
       "        1.22124533e-15-1.38361544e-13j,  6.42819131e-14-2.87214696e-13j,\n",
       "        2.47024623e-13-5.50337553e-13j,  7.08655357e-13-9.34918809e-13j,\n",
       "        1.68237646e-12-1.41853196e-12j,  3.54399843e-12-1.83708604e-12j,\n",
       "        6.79389878e-12-1.77191595e-12j,  1.20076726e-11-4.02233802e-13j,\n",
       "        1.97005745e-11+3.75932618e-12j,  3.00017788e-11+1.30616629e-11j,\n",
       "        4.21912505e-11+3.09079429e-11j,  5.38997735e-11+6.18162743e-11j,\n",
       "        6.01251271e-11+1.11159193e-10j,  5.19826404e-11+1.84415871e-10j,\n",
       "        1.54417590e-11+2.85761304e-10j, -6.98469060e-11+4.15674273e-10j,\n",
       "       -2.39852360e-10+5.63718072e-10j, -5.01589825e-10+7.23129223e-10j,\n",
       "       -9.18594062e-10+8.47081405e-10j, -1.51802290e-09+8.80963968e-10j,\n",
       "       -2.32622127e-09+7.37702566e-10j, -3.34767924e-09+2.97602498e-10j,\n",
       "       -4.54868443e-09-5.92143556e-10j, -5.83712456e-09-2.11261963e-09j,\n",
       "       -7.03988512e-09-4.46022613e-09j, -7.87980470e-09-7.82359023e-09j])"
      ]
     },
     "execution_count": 28,
     "metadata": {},
     "output_type": "execute_result"
    }
   ],
   "source": [
    "np.asarray(y)-np.asarray(y_N4_lam1)"
   ]
  },
  {
   "cell_type": "code",
   "execution_count": 23,
   "metadata": {},
   "outputs": [
    {
     "data": {
      "text/plain": [
       "1.1104048190736158e-08"
      ]
     },
     "execution_count": 23,
     "metadata": {},
     "output_type": "execute_result"
    }
   ],
   "source": [
    "np.linalg.norm(np.asarray(y)-np.asarray(y_N4_lam1), ord=np.inf)"
   ]
  },
  {
   "cell_type": "code",
   "execution_count": 20,
   "metadata": {},
   "outputs": [
    {
     "data": {
      "text/plain": [
       "1.0442949793070284e-09"
      ]
     },
     "execution_count": 20,
     "metadata": {},
     "output_type": "execute_result"
    }
   ],
   "source": [
    "np.linalg.norm(np.asarray(y)-np.asarray(y_N4_lam1), ord=1) / len(y)"
   ]
  },
  {
   "cell_type": "code",
   "execution_count": 24,
   "metadata": {},
   "outputs": [
    {
     "data": {
      "text/plain": [
       "4.1510234644412794e-10"
      ]
     },
     "execution_count": 24,
     "metadata": {},
     "output_type": "execute_result"
    }
   ],
   "source": [
    "np.linalg.norm(np.asarray(y)-np.asarray(y_N4_lam1), ord=2) / len(y)"
   ]
  },
  {
   "cell_type": "code",
   "execution_count": null,
   "metadata": {},
   "outputs": [],
   "source": []
  },
  {
   "cell_type": "code",
   "execution_count": 29,
   "metadata": {},
   "outputs": [
    {
     "data": {
      "text/plain": [
       "array([ 4.88498131e-15+0.00000000e+00j, -1.45439216e-14-3.33066907e-15j,\n",
       "       -1.03250741e-14-5.49560397e-15j, -1.17683641e-14-1.08801856e-14j,\n",
       "       -5.55111512e-15-7.77156117e-15j, -1.22679644e-14-3.23074900e-14j,\n",
       "        1.38777878e-17-3.10862447e-15j,  1.72084569e-15-1.02140518e-14j,\n",
       "        3.49720253e-15-9.43689571e-15j,  7.66053887e-15-1.14352972e-14j,\n",
       "        5.54867263e-12+8.65796324e-12j, -3.10862447e-14+1.76525461e-14j,\n",
       "        8.54871729e-15-1.27675648e-15j, -9.76996262e-15+2.68014777e-15j,\n",
       "       -4.19664303e-14-3.52495810e-15j, -8.88178420e-15+8.65973959e-15j,\n",
       "       -5.28466160e-14-9.32587341e-15j, -1.20348176e-13-5.96189764e-14j,\n",
       "       -2.20490293e-13-2.05391260e-13j, -2.79942736e-13-4.36650716e-13j,\n",
       "       -2.27290409e-13-8.37108161e-13j,  1.30617739e-13-1.45239376e-12j,\n",
       "        1.12410081e-12-2.40474307e-12j,  3.20077298e-12-3.82693877e-12j,\n",
       "        6.73039402e-12-5.85859139e-12j,  1.16550103e-11-8.70065131e-12j,\n",
       "        1.66896497e-11-1.23694804e-11j,  1.78098647e-11-1.60325642e-11j,\n",
       "        6.94488911e-12-1.66097691e-11j, -2.96318525e-11-5.95212768e-12j,\n",
       "       -9.17631526e-11-2.71134548e-09j, -2.55912069e-10+1.33853595e-10j,\n",
       "       -4.72917455e-10+3.45301010e-10j, -7.36566919e-10+7.32410688e-10j,\n",
       "       -9.57597002e-10+1.35443556e-09j, -9.49611001e-10+2.22057417e-09j,\n",
       "       -4.09736911e-10+3.21169191e-09j,  1.06173426e-09+3.97346112e-09j,\n",
       "        3.87363508e-09+3.80106457e-09j,  8.26624269e-09+1.56078984e-09j])"
      ]
     },
     "execution_count": 29,
     "metadata": {},
     "output_type": "execute_result"
    }
   ],
   "source": [
    "np.asarray(y1)-np.asarray(y_N4_lam2)"
   ]
  },
  {
   "cell_type": "code",
   "execution_count": 25,
   "metadata": {},
   "outputs": [
    {
     "data": {
      "text/plain": [
       "8.41230248830176e-09"
      ]
     },
     "execution_count": 25,
     "metadata": {},
     "output_type": "execute_result"
    }
   ],
   "source": [
    "np.linalg.norm(np.asarray(y1)-np.asarray(y_N4_lam2), ord=np.inf)"
   ]
  },
  {
   "cell_type": "code",
   "execution_count": 26,
   "metadata": {},
   "outputs": [
    {
     "data": {
      "text/plain": [
       "7.506937770702329e-10"
      ]
     },
     "execution_count": 26,
     "metadata": {},
     "output_type": "execute_result"
    }
   ],
   "source": [
    "np.linalg.norm(np.asarray(y1)-np.asarray(y_N4_lam2), ord=1) / len(y1)"
   ]
  },
  {
   "cell_type": "code",
   "execution_count": 27,
   "metadata": {},
   "outputs": [
    {
     "data": {
      "text/plain": [
       "3.0111296918003975e-10"
      ]
     },
     "execution_count": 27,
     "metadata": {},
     "output_type": "execute_result"
    }
   ],
   "source": [
    "np.linalg.norm(np.asarray(y1)-np.asarray(y_N4_lam2), ord=2) / len(y1)"
   ]
  },
  {
   "cell_type": "code",
   "execution_count": null,
   "metadata": {},
   "outputs": [],
   "source": []
  },
  {
   "cell_type": "code",
   "execution_count": null,
   "metadata": {},
   "outputs": [],
   "source": []
  },
  {
   "cell_type": "code",
   "execution_count": null,
   "metadata": {},
   "outputs": [],
   "source": []
  },
  {
   "cell_type": "code",
   "execution_count": null,
   "metadata": {},
   "outputs": [],
   "source": []
  },
  {
   "cell_type": "code",
   "execution_count": null,
   "metadata": {},
   "outputs": [],
   "source": []
  },
  {
   "cell_type": "code",
   "execution_count": null,
   "metadata": {},
   "outputs": [],
   "source": []
  },
  {
   "cell_type": "markdown",
   "metadata": {},
   "source": [
    "# Charge Density and Particle Density"
   ]
  },
  {
   "cell_type": "code",
   "execution_count": 2,
   "metadata": {},
   "outputs": [],
   "source": [
    "def j0(t,n,L):\n",
    "    j=0\n",
    "    \n",
    "    if t==0 and n==1:\n",
    "        j=0\n",
    "    \n",
    "    elif n-1==t and L-n+1==t:\n",
    "        j=0\n",
    "        \n",
    "    elif n-1==t and L-n+1!=t:\n",
    "        j=1\n",
    "        \n",
    "    elif n-1!=t and L-n+1==t:\n",
    "        j=-1\n",
    "        \n",
    "    else:\n",
    "        j=0\n",
    "        \n",
    "    return j"
   ]
  },
  {
   "cell_type": "code",
   "execution_count": 3,
   "metadata": {},
   "outputs": [],
   "source": [
    "def Q(n,t,g,Lam,L):\n",
    "    IZZ=np.kron(np.eye((2*Lam)**L), Z(n,L)) \n",
    "    II=np.kron(np.eye((2*Lam)**L), np.eye(2**L)) \n",
    "    \n",
    "    return 0.5*IZZ+(0.5*(-1)**n)*II-(j0(t,n,L)/g)*II"
   ]
  },
  {
   "cell_type": "code",
   "execution_count": 4,
   "metadata": {},
   "outputs": [
    {
     "data": {
      "text/plain": [
       "array([[1., 0., 0., ..., 0., 0., 0.],\n",
       "       [0., 0., 0., ..., 0., 0., 0.],\n",
       "       [0., 0., 1., ..., 0., 0., 0.],\n",
       "       ...,\n",
       "       [0., 0., 0., ..., 0., 0., 0.],\n",
       "       [0., 0., 0., ..., 0., 1., 0.],\n",
       "       [0., 0., 0., ..., 0., 0., 0.]])"
      ]
     },
     "execution_count": 4,
     "metadata": {},
     "output_type": "execute_result"
    }
   ],
   "source": [
    "Q(4,0,1,1,4)"
   ]
  },
  {
   "cell_type": "code",
   "execution_count": 5,
   "metadata": {},
   "outputs": [],
   "source": [
    "def ParticleNumber(t,n,m,g,Lam,L,k):\n",
    "    eig_val, eig_vec=eigsh(Ham_0(m,g, Lam,L), k=1, which=\"SA\")\n",
    "    idx = eig_val.argsort()[::1]\n",
    "    eig_val_sorted = eig_val[idx]\n",
    "    eig_vec_sorted =np.transpose(eig_vec[:,idx])\n",
    "    \n",
    "    u=eig_vec_sorted[0]#/float(np.sqrt(np.dot(np.conjugate(eig_vec_sorted[0]),eig_vec_sorted[0])))\n",
    "    \n",
    "    #return np.dot(np.conjugate(eig_vec_sorted[0]),np.dot(commn, eig_vec_sorted[0]))\n",
    "    \n",
    "    psi=np.dot(evolv(t,m,g,Lam,L,k), u)\n",
    "    \n",
    "    return ((-1)**n)*np.dot(np.transpose(np.conjugate(psi)),dot(Q(n,t,g,Lam,L),psi))"
   ]
  },
  {
   "cell_type": "code",
   "execution_count": 6,
   "metadata": {},
   "outputs": [],
   "source": [
    "def ParticleNumber_tot(t,m,g,Lam,L,k):\n",
    "    PN=ParticleNumber(t,L,m,g,Lam,L,k)\n",
    "    for n in range(1,L):\n",
    "        PN+=ParticleNumber(t,n,m,g,Lam,L,k)\n",
    "    \n",
    "    return PN"
   ]
  },
  {
   "cell_type": "code",
   "execution_count": 25,
   "metadata": {
    "scrolled": true,
    "tags": []
   },
   "outputs": [
    {
     "name": "stderr",
     "output_type": "stream",
     "text": [
      "\n",
      "\n",
      "  0%|          | 0/40 [00:00<?, ?it/s]\u001b[A\u001b[A\n",
      "\n",
      "  2%|▎         | 1/40 [00:01<00:48,  1.24s/it]\u001b[A\u001b[A\n",
      "\n",
      "  5%|▌         | 2/40 [00:03<01:18,  2.08s/it]\u001b[A\u001b[A\n",
      "\n",
      "  8%|▊         | 3/40 [00:06<01:28,  2.40s/it]\u001b[A\u001b[A\n",
      "\n",
      " 10%|█         | 4/40 [00:09<01:29,  2.50s/it]\u001b[A\u001b[A\n",
      "\n",
      " 12%|█▎        | 5/40 [00:12<01:31,  2.60s/it]\u001b[A\u001b[A\n",
      "\n",
      " 15%|█▌        | 6/40 [00:15<01:32,  2.73s/it]\u001b[A\u001b[A\n",
      "\n",
      " 18%|█▊        | 7/40 [00:18<01:32,  2.81s/it]\u001b[A\u001b[A\n",
      "\n",
      " 20%|██        | 8/40 [00:20<01:26,  2.71s/it]\u001b[A\u001b[A\n",
      "\n",
      " 22%|██▎       | 9/40 [00:22<01:17,  2.50s/it]\u001b[A\u001b[A\n",
      "\n",
      " 25%|██▌       | 10/40 [00:25<01:16,  2.57s/it]\u001b[A\u001b[A\n",
      "\n",
      " 28%|██▊       | 11/40 [00:27<01:11,  2.48s/it]\u001b[A\u001b[A\n",
      "\n",
      " 30%|███       | 12/40 [00:36<02:00,  4.29s/it]\u001b[A\u001b[A\n",
      "\n",
      " 32%|███▎      | 13/40 [00:43<02:24,  5.36s/it]\u001b[A\u001b[A\n",
      "\n",
      " 35%|███▌      | 14/40 [00:51<02:36,  6.03s/it]\u001b[A\u001b[A\n",
      "\n",
      " 38%|███▊      | 15/40 [01:00<02:50,  6.83s/it]\u001b[A\u001b[A\n",
      "\n",
      " 40%|████      | 16/40 [01:08<02:58,  7.43s/it]\u001b[A\u001b[A\n",
      "\n",
      " 42%|████▎     | 17/40 [01:17<02:58,  7.77s/it]\u001b[A\u001b[A\n",
      "\n",
      " 45%|████▌     | 18/40 [01:25<02:55,  7.96s/it]\u001b[A\u001b[A\n",
      "\n",
      " 48%|████▊     | 19/40 [01:33<02:45,  7.90s/it]\u001b[A\u001b[A\n",
      "\n",
      " 50%|█████     | 20/40 [01:42<02:46,  8.33s/it]\u001b[A\u001b[A\n",
      "\n",
      " 52%|█████▎    | 21/40 [01:51<02:40,  8.42s/it]\u001b[A\u001b[A\n",
      "\n",
      " 55%|█████▌    | 22/40 [01:59<02:31,  8.41s/it]\u001b[A\u001b[A\n",
      "\n",
      " 57%|█████▊    | 23/40 [02:08<02:21,  8.30s/it]\u001b[A\u001b[A\n",
      "\n",
      " 60%|██████    | 24/40 [02:16<02:13,  8.36s/it]\u001b[A\u001b[A\n",
      "\n",
      " 62%|██████▎   | 25/40 [02:24<02:04,  8.28s/it]\u001b[A\u001b[A\n",
      "\n",
      " 65%|██████▌   | 26/40 [02:32<01:56,  8.30s/it]\u001b[A\u001b[A\n",
      "\n",
      " 68%|██████▊   | 27/40 [02:40<01:45,  8.11s/it]\u001b[A\u001b[A\n",
      "\n",
      " 70%|███████   | 28/40 [02:48<01:36,  8.07s/it]\u001b[A\u001b[A\n",
      "\n",
      " 72%|███████▎  | 29/40 [02:57<01:29,  8.18s/it]\u001b[A\u001b[A\n",
      "\n",
      " 75%|███████▌  | 30/40 [03:04<01:20,  8.07s/it]\u001b[A\u001b[A\n",
      "\n",
      " 78%|███████▊  | 31/40 [03:13<01:13,  8.14s/it]\u001b[A\u001b[A\n",
      "\n",
      " 80%|████████  | 32/40 [03:21<01:05,  8.24s/it]\u001b[A\u001b[A\n",
      "\n",
      " 82%|████████▎ | 33/40 [03:30<00:58,  8.42s/it]\u001b[A\u001b[A\n",
      "\n",
      " 85%|████████▌ | 34/40 [03:39<00:51,  8.51s/it]\u001b[A\u001b[A\n",
      "\n",
      " 88%|████████▊ | 35/40 [03:48<00:43,  8.60s/it]\u001b[A\u001b[A\n",
      "\n",
      " 90%|█████████ | 36/40 [03:56<00:34,  8.70s/it]\u001b[A\u001b[A\n",
      "\n",
      " 92%|█████████▎| 37/40 [04:05<00:26,  8.70s/it]\u001b[A\u001b[A\n",
      "\n",
      " 95%|█████████▌| 38/40 [04:13<00:17,  8.57s/it]\u001b[A\u001b[A\n",
      "\n",
      " 98%|█████████▊| 39/40 [04:22<00:08,  8.60s/it]\u001b[A\u001b[A\n",
      "\n",
      "100%|██████████| 40/40 [04:31<00:00,  6.78s/it]\u001b[A\u001b[A\n"
     ]
    }
   ],
   "source": [
    "L=4\n",
    "y_k3=[ParticleNumber_tot(0.1*s,1,1,1,L,10) for s in tqdm(range(L*10))]"
   ]
  },
  {
   "cell_type": "code",
   "execution_count": 26,
   "metadata": {
    "scrolled": true,
    "tags": []
   },
   "outputs": [
    {
     "name": "stderr",
     "output_type": "stream",
     "text": [
      "\n",
      "\n",
      "  0%|          | 0/96 [00:00<?, ?it/s]\u001b[A\u001b[A\n",
      "\n",
      "  1%|          | 1/96 [00:01<02:15,  1.43s/it]\u001b[A\u001b[A\n",
      "\n",
      "  2%|▏         | 2/96 [00:04<03:24,  2.18s/it]\u001b[A\u001b[A\n",
      "\n",
      "  3%|▎         | 3/96 [00:06<03:34,  2.30s/it]\u001b[A\u001b[A\n",
      "\n",
      "  4%|▍         | 4/96 [00:09<03:43,  2.42s/it]\u001b[A\u001b[A\n",
      "\n",
      "  5%|▌         | 5/96 [00:11<03:40,  2.43s/it]\u001b[A\u001b[A\n",
      "\n",
      "  6%|▋         | 6/96 [00:14<03:46,  2.51s/it]\u001b[A\u001b[A\n",
      "\n",
      "  7%|▋         | 7/96 [00:16<03:44,  2.52s/it]\u001b[A\u001b[A\n",
      "\n",
      "  8%|▊         | 8/96 [00:19<03:45,  2.56s/it]\u001b[A\u001b[A\n",
      "\n",
      "  9%|▉         | 9/96 [00:22<03:53,  2.68s/it]\u001b[A\u001b[A\n",
      "\n",
      " 10%|█         | 10/96 [00:25<04:00,  2.80s/it]\u001b[A\u001b[A\n",
      "\n",
      " 11%|█▏        | 11/96 [00:27<03:49,  2.70s/it]\u001b[A\u001b[A\n",
      "\n",
      " 12%|█▎        | 12/96 [00:30<03:44,  2.68s/it]\u001b[A\u001b[A\n",
      "\n",
      " 14%|█▎        | 13/96 [00:33<03:41,  2.67s/it]\u001b[A\u001b[A\n",
      "\n",
      " 15%|█▍        | 14/96 [00:35<03:32,  2.59s/it]\u001b[A\u001b[A\n",
      "\n",
      " 16%|█▌        | 15/96 [00:38<03:37,  2.69s/it]\u001b[A\u001b[A\n",
      "\n",
      " 17%|█▋        | 16/96 [00:41<03:33,  2.66s/it]\u001b[A\u001b[A\n",
      "\n",
      " 18%|█▊        | 17/96 [00:43<03:28,  2.64s/it]\u001b[A\u001b[A\n",
      "\n",
      " 19%|█▉        | 18/96 [00:46<03:24,  2.62s/it]\u001b[A\u001b[A\n",
      "\n",
      " 20%|█▉        | 19/96 [00:48<03:18,  2.58s/it]\u001b[A\u001b[A\n",
      "\n",
      " 21%|██        | 20/96 [00:51<03:10,  2.51s/it]\u001b[A\u001b[A\n",
      "\n",
      " 22%|██▏       | 21/96 [00:54<03:16,  2.62s/it]\u001b[A\u001b[A\n",
      "\n",
      " 23%|██▎       | 22/96 [00:57<03:42,  3.00s/it]\u001b[A\u001b[A\n",
      "\n",
      " 24%|██▍       | 23/96 [01:03<04:25,  3.64s/it]\u001b[A\u001b[A\n",
      "\n",
      " 25%|██▌       | 24/96 [01:07<04:40,  3.90s/it]\u001b[A\u001b[A\n",
      "\n",
      " 26%|██▌       | 25/96 [01:11<04:38,  3.92s/it]\u001b[A\u001b[A\n",
      "\n",
      " 27%|██▋       | 26/96 [01:15<04:36,  3.94s/it]\u001b[A\u001b[A\n",
      "\n",
      " 28%|██▊       | 27/96 [01:19<04:28,  3.89s/it]\u001b[A\u001b[A\n",
      "\n",
      " 29%|██▉       | 28/96 [01:23<04:33,  4.02s/it]\u001b[A\u001b[A\n",
      "\n",
      " 30%|███       | 29/96 [01:28<04:41,  4.21s/it]\u001b[A\u001b[A\n",
      "\n",
      " 31%|███▏      | 30/96 [01:33<04:57,  4.51s/it]\u001b[A\u001b[A\n",
      "\n",
      " 32%|███▏      | 31/96 [01:38<04:54,  4.53s/it]\u001b[A\u001b[A\n",
      "\n",
      " 33%|███▎      | 32/96 [01:41<04:37,  4.33s/it]\u001b[A\u001b[A\n",
      "\n",
      " 34%|███▍      | 33/96 [01:46<04:29,  4.27s/it]\u001b[A\u001b[A\n",
      "\n",
      " 35%|███▌      | 34/96 [01:50<04:18,  4.17s/it]\u001b[A\u001b[A\n",
      "\n",
      " 36%|███▋      | 35/96 [01:53<04:02,  3.97s/it]\u001b[A\u001b[A\n",
      "\n",
      " 38%|███▊      | 36/96 [01:57<04:00,  4.00s/it]\u001b[A\u001b[A\n",
      "\n",
      " 39%|███▊      | 37/96 [02:01<04:00,  4.08s/it]\u001b[A\u001b[A\n",
      "\n",
      " 40%|███▉      | 38/96 [02:06<04:02,  4.17s/it]\u001b[A\u001b[A\n",
      "\n",
      " 41%|████      | 39/96 [02:10<04:04,  4.29s/it]\u001b[A\u001b[A\n",
      "\n",
      " 42%|████▏     | 40/96 [02:15<04:08,  4.43s/it]\u001b[A\u001b[A\n",
      "\n",
      " 43%|████▎     | 41/96 [02:19<03:48,  4.15s/it]\u001b[A\u001b[A\n",
      "\n",
      " 44%|████▍     | 42/96 [02:23<03:48,  4.23s/it]\u001b[A\u001b[A\n",
      "\n",
      " 45%|████▍     | 43/96 [02:28<03:54,  4.42s/it]\u001b[A\u001b[A\n",
      "\n",
      " 46%|████▌     | 44/96 [02:33<03:58,  4.58s/it]\u001b[A\u001b[A\n",
      "\n",
      " 47%|████▋     | 45/96 [02:37<03:41,  4.34s/it]\u001b[A\u001b[A\n",
      "\n",
      " 48%|████▊     | 46/96 [02:41<03:39,  4.39s/it]\u001b[A\u001b[A\n",
      "\n",
      " 49%|████▉     | 47/96 [02:45<03:35,  4.39s/it]\u001b[A\u001b[A\n",
      "\n",
      " 50%|█████     | 48/96 [02:50<03:31,  4.41s/it]\u001b[A\u001b[A\n",
      "\n",
      " 51%|█████     | 49/96 [02:54<03:28,  4.43s/it]\u001b[A\u001b[A\n",
      "\n",
      " 52%|█████▏    | 50/96 [02:59<03:24,  4.45s/it]\u001b[A\u001b[A\n",
      "\n",
      " 53%|█████▎    | 51/96 [03:03<03:18,  4.42s/it]\u001b[A\u001b[A\n",
      "\n",
      " 54%|█████▍    | 52/96 [03:08<03:19,  4.52s/it]\u001b[A\u001b[A\n",
      "\n",
      " 55%|█████▌    | 53/96 [03:12<03:10,  4.44s/it]\u001b[A\u001b[A\n",
      "\n",
      " 56%|█████▋    | 54/96 [03:17<03:10,  4.54s/it]\u001b[A\u001b[A\n",
      "\n",
      " 57%|█████▋    | 55/96 [03:21<03:02,  4.46s/it]\u001b[A\u001b[A\n",
      "\n",
      " 58%|█████▊    | 56/96 [03:26<02:56,  4.42s/it]\u001b[A\u001b[A\n",
      "\n",
      " 59%|█████▉    | 57/96 [03:30<02:49,  4.35s/it]\u001b[A\u001b[A\n",
      "\n",
      " 60%|██████    | 58/96 [03:34<02:43,  4.31s/it]\u001b[A\u001b[A\n",
      "\n",
      " 61%|██████▏   | 59/96 [03:38<02:34,  4.16s/it]\u001b[A\u001b[A\n",
      "\n",
      " 62%|██████▎   | 60/96 [03:42<02:28,  4.12s/it]\u001b[A\u001b[A\n",
      "\n",
      " 64%|██████▎   | 61/96 [03:46<02:24,  4.13s/it]\u001b[A\u001b[A\n",
      "\n",
      " 65%|██████▍   | 62/96 [03:51<02:24,  4.25s/it]\u001b[A\u001b[A\n",
      "\n",
      " 66%|██████▌   | 63/96 [03:55<02:20,  4.24s/it]\u001b[A\u001b[A\n",
      "\n",
      " 67%|██████▋   | 64/96 [03:59<02:18,  4.33s/it]\u001b[A\u001b[A\n",
      "\n",
      " 68%|██████▊   | 65/96 [04:04<02:18,  4.46s/it]\u001b[A\u001b[A\n",
      "\n",
      " 69%|██████▉   | 66/96 [04:07<02:03,  4.11s/it]\u001b[A\u001b[A\n",
      "\n",
      " 70%|██████▉   | 67/96 [04:12<02:00,  4.17s/it]\u001b[A\u001b[A\n",
      "\n",
      " 71%|███████   | 68/96 [04:16<02:00,  4.32s/it]\u001b[A\u001b[A\n",
      "\n",
      " 72%|███████▏  | 69/96 [04:21<01:55,  4.28s/it]\u001b[A\u001b[A\n",
      "\n",
      " 73%|███████▎  | 70/96 [04:25<01:53,  4.35s/it]\u001b[A\u001b[A\n",
      "\n",
      " 74%|███████▍  | 71/96 [04:30<01:51,  4.44s/it]\u001b[A\u001b[A\n",
      "\n",
      " 75%|███████▌  | 72/96 [04:33<01:41,  4.23s/it]\u001b[A\u001b[A\n",
      "\n",
      " 76%|███████▌  | 73/96 [04:37<01:34,  4.10s/it]\u001b[A\u001b[A\n",
      "\n",
      " 77%|███████▋  | 74/96 [04:42<01:32,  4.22s/it]\u001b[A\u001b[A\n",
      "\n",
      " 78%|███████▊  | 75/96 [04:46<01:29,  4.25s/it]\u001b[A\u001b[A\n",
      "\n",
      " 79%|███████▉  | 76/96 [04:50<01:23,  4.17s/it]\u001b[A\u001b[A\n",
      "\n",
      " 80%|████████  | 77/96 [04:53<01:14,  3.91s/it]\u001b[A\u001b[A\n",
      "\n",
      " 81%|████████▏ | 78/96 [04:58<01:14,  4.15s/it]\u001b[A\u001b[A\n",
      "\n",
      " 82%|████████▏ | 79/96 [05:02<01:11,  4.20s/it]\u001b[A\u001b[A\n",
      "\n",
      " 83%|████████▎ | 80/96 [05:07<01:07,  4.20s/it]\u001b[A\u001b[A\n",
      "\n",
      " 84%|████████▍ | 81/96 [05:11<01:04,  4.32s/it]\u001b[A\u001b[A\n",
      "\n",
      " 85%|████████▌ | 82/96 [05:16<01:00,  4.34s/it]\u001b[A\u001b[A\n",
      "\n",
      " 86%|████████▋ | 83/96 [05:21<00:59,  4.55s/it]\u001b[A\u001b[A\n",
      "\n",
      " 88%|████████▊ | 84/96 [05:24<00:50,  4.22s/it]\u001b[A\u001b[A\n",
      "\n",
      " 89%|████████▊ | 85/96 [05:28<00:46,  4.21s/it]\u001b[A\u001b[A\n",
      "\n",
      " 90%|████████▉ | 86/96 [05:33<00:42,  4.29s/it]\u001b[A\u001b[A\n",
      "\n",
      " 91%|█████████ | 87/96 [05:37<00:39,  4.41s/it]\u001b[A\u001b[A\n",
      "\n",
      " 92%|█████████▏| 88/96 [05:42<00:35,  4.46s/it]\u001b[A\u001b[A\n",
      "\n",
      " 93%|█████████▎| 89/96 [05:46<00:31,  4.46s/it]\u001b[A\u001b[A\n",
      "\n",
      " 94%|█████████▍| 90/96 [05:50<00:25,  4.27s/it]\u001b[A\u001b[A\n",
      "\n",
      " 95%|█████████▍| 91/96 [05:55<00:21,  4.33s/it]\u001b[A\u001b[A\n",
      "\n",
      " 96%|█████████▌| 92/96 [05:59<00:16,  4.25s/it]\u001b[A\u001b[A\n",
      "\n",
      " 97%|█████████▋| 93/96 [06:02<00:12,  4.07s/it]\u001b[A\u001b[A\n",
      "\n",
      " 98%|█████████▊| 94/96 [06:07<00:08,  4.34s/it]\u001b[A\u001b[A\n",
      "\n",
      " 99%|█████████▉| 95/96 [06:12<00:04,  4.39s/it]\u001b[A\u001b[A\n",
      "\n",
      "100%|██████████| 96/96 [06:16<00:00,  3.92s/it]\u001b[A\u001b[A\n",
      "\n",
      "\n",
      "  0%|          | 0/96 [00:00<?, ?it/s]\u001b[A\u001b[A\n",
      "\n",
      "  1%|          | 1/96 [00:01<02:29,  1.57s/it]\u001b[A\u001b[A\n",
      "\n",
      "  2%|▏         | 2/96 [00:04<03:22,  2.16s/it]\u001b[A\u001b[A\n",
      "\n",
      "  3%|▎         | 3/96 [00:06<03:47,  2.45s/it]\u001b[A\u001b[A\n",
      "\n",
      "  4%|▍         | 4/96 [00:08<03:23,  2.22s/it]\u001b[A\u001b[A\n",
      "\n",
      "  5%|▌         | 5/96 [00:11<03:24,  2.24s/it]\u001b[A\u001b[A\n",
      "\n",
      "  6%|▋         | 6/96 [00:13<03:29,  2.33s/it]\u001b[A\u001b[A\n",
      "\n",
      "  7%|▋         | 7/96 [00:16<03:37,  2.44s/it]\u001b[A\u001b[A\n",
      "\n",
      "  8%|▊         | 8/96 [00:18<03:42,  2.52s/it]\u001b[A\u001b[A\n",
      "\n",
      "  9%|▉         | 9/96 [00:21<03:45,  2.60s/it]\u001b[A\u001b[A\n",
      "\n",
      " 10%|█         | 10/96 [00:24<03:51,  2.69s/it]\u001b[A\u001b[A\n",
      "\n",
      " 11%|█▏        | 11/96 [00:27<03:41,  2.61s/it]\u001b[A\u001b[A\n",
      "\n",
      " 12%|█▎        | 12/96 [00:30<03:49,  2.73s/it]\u001b[A\u001b[A\n",
      "\n",
      " 14%|█▎        | 13/96 [00:32<03:38,  2.63s/it]\u001b[A\u001b[A\n",
      "\n",
      " 15%|█▍        | 14/96 [00:35<03:34,  2.62s/it]\u001b[A\u001b[A\n",
      "\n",
      " 16%|█▌        | 15/96 [00:37<03:29,  2.58s/it]\u001b[A\u001b[A\n",
      "\n",
      " 17%|█▋        | 16/96 [00:40<03:23,  2.55s/it]\u001b[A\u001b[A\n",
      "\n",
      " 18%|█▊        | 17/96 [00:42<03:31,  2.68s/it]\u001b[A\u001b[A\n",
      "\n",
      " 19%|█▉        | 18/96 [00:45<03:34,  2.75s/it]\u001b[A\u001b[A\n",
      "\n",
      " 20%|█▉        | 19/96 [00:48<03:36,  2.81s/it]\u001b[A\u001b[A\n",
      "\n",
      " 21%|██        | 20/96 [00:51<03:35,  2.83s/it]\u001b[A\u001b[A\n",
      "\n",
      " 22%|██▏       | 21/96 [00:54<03:27,  2.77s/it]\u001b[A\u001b[A\n",
      "\n",
      " 23%|██▎       | 22/96 [01:02<05:15,  4.26s/it]\u001b[A\u001b[A\n",
      "\n",
      " 24%|██▍       | 23/96 [01:10<06:31,  5.37s/it]\u001b[A\u001b[A\n",
      "\n",
      " 25%|██▌       | 24/96 [01:17<07:18,  6.09s/it]\u001b[A\u001b[A\n",
      "\n",
      " 26%|██▌       | 25/96 [01:26<08:14,  6.97s/it]\u001b[A\u001b[A\n",
      "\n",
      " 27%|██▋       | 26/96 [01:35<08:46,  7.52s/it]\u001b[A\u001b[A\n",
      "\n",
      " 28%|██▊       | 27/96 [01:44<09:15,  8.05s/it]\u001b[A\u001b[A\n",
      "\n",
      " 29%|██▉       | 28/96 [01:53<09:12,  8.12s/it]\u001b[A\u001b[A\n",
      "\n",
      " 30%|███       | 29/96 [02:01<09:12,  8.24s/it]\u001b[A\u001b[A\n",
      "\n",
      " 31%|███▏      | 30/96 [02:09<08:57,  8.14s/it]\u001b[A\u001b[A\n",
      "\n",
      " 32%|███▏      | 31/96 [02:18<08:59,  8.30s/it]\u001b[A\u001b[A\n",
      "\n",
      " 33%|███▎      | 32/96 [02:27<09:01,  8.46s/it]\u001b[A\u001b[A\n",
      "\n",
      " 34%|███▍      | 33/96 [02:35<08:49,  8.41s/it]\u001b[A\u001b[A\n",
      "\n",
      " 35%|███▌      | 34/96 [02:43<08:44,  8.45s/it]\u001b[A\u001b[A\n",
      "\n",
      " 36%|███▋      | 35/96 [02:51<08:14,  8.11s/it]\u001b[A\u001b[A\n",
      "\n",
      " 38%|███▊      | 36/96 [02:59<08:15,  8.26s/it]\u001b[A\u001b[A\n",
      "\n",
      " 39%|███▊      | 37/96 [03:07<07:56,  8.07s/it]\u001b[A\u001b[A\n",
      "\n",
      " 40%|███▉      | 38/96 [03:16<08:11,  8.48s/it]\u001b[A\u001b[A\n",
      "\n",
      " 41%|████      | 39/96 [03:25<08:06,  8.53s/it]\u001b[A\u001b[A\n",
      "\n",
      " 42%|████▏     | 40/96 [03:35<08:17,  8.88s/it]\u001b[A\u001b[A\n",
      "\n",
      " 43%|████▎     | 41/96 [03:45<08:23,  9.15s/it]\u001b[A\u001b[A\n",
      "\n",
      " 44%|████▍     | 42/96 [03:54<08:14,  9.16s/it]\u001b[A\u001b[A\n",
      "\n",
      " 45%|████▍     | 43/96 [04:04<08:16,  9.37s/it]\u001b[A\u001b[A\n",
      "\n",
      " 46%|████▌     | 44/96 [04:13<08:02,  9.27s/it]\u001b[A\u001b[A\n",
      "\n",
      " 47%|████▋     | 45/96 [04:22<07:57,  9.37s/it]\u001b[A\u001b[A\n",
      "\n",
      " 48%|████▊     | 46/96 [04:30<07:28,  8.96s/it]\u001b[A\u001b[A\n",
      "\n",
      " 49%|████▉     | 47/96 [04:39<07:19,  8.97s/it]\u001b[A\u001b[A\n",
      "\n",
      " 50%|█████     | 48/96 [04:49<07:20,  9.17s/it]\u001b[A\u001b[A\n",
      "\n",
      " 51%|█████     | 49/96 [04:57<06:55,  8.84s/it]\u001b[A\u001b[A\n",
      "\n",
      " 52%|█████▏    | 50/96 [05:07<07:03,  9.20s/it]\u001b[A\u001b[A\n",
      "\n",
      " 53%|█████▎    | 51/96 [05:17<06:57,  9.28s/it]\u001b[A\u001b[A\n",
      "\n",
      " 54%|█████▍    | 52/96 [05:25<06:42,  9.14s/it]\u001b[A\u001b[A\n",
      "\n",
      " 55%|█████▌    | 53/96 [05:35<06:38,  9.27s/it]\u001b[A\u001b[A\n",
      "\n",
      " 56%|█████▋    | 54/96 [05:43<06:20,  9.05s/it]\u001b[A\u001b[A\n",
      "\n",
      " 57%|█████▋    | 55/96 [05:52<06:06,  8.94s/it]\u001b[A\u001b[A\n",
      "\n",
      " 58%|█████▊    | 56/96 [06:01<05:59,  8.98s/it]\u001b[A\u001b[A\n",
      "\n",
      " 59%|█████▉    | 57/96 [06:10<05:44,  8.83s/it]\u001b[A\u001b[A\n",
      "\n",
      " 60%|██████    | 58/96 [06:19<05:35,  8.84s/it]\u001b[A\u001b[A\n",
      "\n",
      " 61%|██████▏   | 59/96 [06:26<05:15,  8.52s/it]\u001b[A\u001b[A\n",
      "\n",
      " 62%|██████▎   | 60/96 [06:35<05:09,  8.59s/it]\u001b[A\u001b[A\n",
      "\n",
      " 64%|██████▎   | 61/96 [06:44<05:00,  8.57s/it]\u001b[A\u001b[A\n",
      "\n",
      " 65%|██████▍   | 62/96 [06:51<04:39,  8.22s/it]\u001b[A\u001b[A\n",
      "\n",
      " 66%|██████▌   | 63/96 [06:59<04:32,  8.26s/it]\u001b[A\u001b[A\n",
      "\n",
      " 67%|██████▋   | 64/96 [07:09<04:33,  8.53s/it]\u001b[A\u001b[A\n",
      "\n",
      " 68%|██████▊   | 65/96 [07:17<04:23,  8.49s/it]\u001b[A\u001b[A\n",
      "\n",
      " 69%|██████▉   | 66/96 [07:25<04:14,  8.50s/it]\u001b[A\u001b[A\n",
      "\n",
      " 70%|██████▉   | 67/96 [07:35<04:18,  8.91s/it]\u001b[A\u001b[A\n",
      "\n",
      " 71%|███████   | 68/96 [07:44<04:05,  8.78s/it]\u001b[A\u001b[A\n",
      "\n",
      " 72%|███████▏  | 69/96 [07:52<03:54,  8.67s/it]\u001b[A\u001b[A\n",
      "\n",
      " 73%|███████▎  | 70/96 [08:00<03:42,  8.55s/it]\u001b[A\u001b[A\n",
      "\n",
      " 74%|███████▍  | 71/96 [08:09<03:30,  8.43s/it]\u001b[A\u001b[A\n",
      "\n",
      " 75%|███████▌  | 72/96 [08:18<03:27,  8.63s/it]\u001b[A\u001b[A\n",
      "\n",
      " 76%|███████▌  | 73/96 [08:27<03:19,  8.69s/it]\u001b[A\u001b[A\n",
      "\n",
      " 77%|███████▋  | 74/96 [08:35<03:08,  8.55s/it]\u001b[A\u001b[A\n",
      "\n",
      " 78%|███████▊  | 75/96 [08:43<02:57,  8.44s/it]\u001b[A\u001b[A\n",
      "\n",
      " 79%|███████▉  | 76/96 [08:51<02:48,  8.42s/it]\u001b[A\u001b[A\n",
      "\n",
      " 80%|████████  | 77/96 [09:00<02:43,  8.60s/it]\u001b[A\u001b[A\n",
      "\n",
      " 81%|████████▏ | 78/96 [09:09<02:34,  8.56s/it]\u001b[A\u001b[A\n",
      "\n",
      " 82%|████████▏ | 79/96 [09:17<02:25,  8.55s/it]\u001b[A\u001b[A\n",
      "\n",
      " 83%|████████▎ | 80/96 [09:26<02:15,  8.46s/it]\u001b[A\u001b[A\n",
      "\n",
      " 84%|████████▍ | 81/96 [09:33<02:04,  8.27s/it]\u001b[A\u001b[A\n",
      "\n",
      " 85%|████████▌ | 82/96 [09:41<01:54,  8.21s/it]\u001b[A\u001b[A\n",
      "\n",
      " 86%|████████▋ | 83/96 [09:50<01:46,  8.16s/it]\u001b[A\u001b[A\n",
      "\n",
      " 88%|████████▊ | 84/96 [09:58<01:39,  8.27s/it]\u001b[A\u001b[A\n",
      "\n",
      " 89%|████████▊ | 85/96 [10:07<01:32,  8.44s/it]\u001b[A\u001b[A\n",
      "\n",
      " 90%|████████▉ | 86/96 [10:15<01:23,  8.34s/it]\u001b[A\u001b[A\n",
      "\n",
      " 91%|█████████ | 87/96 [10:24<01:16,  8.46s/it]\u001b[A\u001b[A\n",
      "\n",
      " 92%|█████████▏| 88/96 [10:32<01:07,  8.41s/it]\u001b[A\u001b[A\n",
      "\n",
      " 93%|█████████▎| 89/96 [10:41<00:59,  8.53s/it]\u001b[A\u001b[A\n",
      "\n",
      " 94%|█████████▍| 90/96 [10:50<00:51,  8.63s/it]\u001b[A\u001b[A\n",
      "\n",
      " 95%|█████████▍| 91/96 [11:00<00:44,  8.99s/it]\u001b[A\u001b[A\n",
      "\n",
      " 96%|█████████▌| 92/96 [11:08<00:35,  8.95s/it]\u001b[A\u001b[A\n",
      "\n",
      " 97%|█████████▋| 93/96 [11:17<00:26,  8.97s/it]\u001b[A\u001b[A\n",
      "\n",
      " 98%|█████████▊| 94/96 [11:26<00:17,  8.92s/it]\u001b[A\u001b[A\n",
      "\n",
      " 99%|█████████▉| 95/96 [11:34<00:08,  8.63s/it]\u001b[A\u001b[A\n",
      "\n",
      "100%|██████████| 96/96 [11:43<00:00,  7.32s/it]\u001b[A\u001b[A\n"
     ]
    }
   ],
   "source": [
    "x_E=[0.05*s for s in range(96)]\n",
    "y_k5=[ParticleNumber_tot(0.05*s,1,1,1,4,5) for s in tqdm(range(96))]\n",
    "y_k10=[ParticleNumber_tot(0.05*s,1,1,1,4,10) for s in tqdm(range(96))]"
   ]
  },
  {
   "cell_type": "code",
   "execution_count": 27,
   "metadata": {},
   "outputs": [
    {
     "name": "stderr",
     "output_type": "stream",
     "text": [
      "/global/homes/k/kwangmin/.conda/envs/cuquantum/lib/python3.7/site-packages/matplotlib/cbook/__init__.py:1298: ComplexWarning: Casting complex values to real discards the imaginary part\n",
      "  return np.asarray(x, float)\n"
     ]
    },
    {
     "data": {
      "image/png": "[encoded data removed]",
      "text/plain": [
       "<Figure size 432x288 with 1 Axes>"
      ]
     },
     "metadata": {
      "needs_background": "light"
     },
     "output_type": "display_data"
    }
   ],
   "source": [
    "x_E=[0.1*s for s in range(L*10)]\n",
    "plt.plot(x_E,y_k3, \".\",label=\"$k=3$\")\n",
    "#plt.plot(x_E,y_k5, label=\"$k=5$\")\n",
    "#plt.plot(x_E,y_k10,label=\"$k=10$\")\n",
    "plt.xlabel(\"$t$\")\n",
    "\n",
    "plt.title(r'Particle Number Density')\n",
    "#plt.legend()\n",
    "plt.savefig(\"ParticleNumberDensity.pdf\")"
   ]
  },
  {
   "cell_type": "code",
   "execution_count": 7,
   "metadata": {},
   "outputs": [
    {
     "ename": "LinAlgError",
     "evalue": "0-dimensional array given. Array must be at least two-dimensional",
     "output_type": "error",
     "traceback": [
      "\u001b[0;31m---------------------------------------------------------------------------\u001b[0m",
      "\u001b[0;31mLinAlgError\u001b[0m                               Traceback (most recent call last)",
      "\u001b[0;32m/tmp/ipykernel_87365/3861546461.py\u001b[0m in \u001b[0;36m<module>\u001b[0;34m\u001b[0m\n\u001b[1;32m     14\u001b[0m     \u001b[0mdata_t\u001b[0m\u001b[0;34m=\u001b[0m\u001b[0;34m[\u001b[0m\u001b[0;34m]\u001b[0m\u001b[0;34m\u001b[0m\u001b[0;34m\u001b[0m\u001b[0m\n\u001b[1;32m     15\u001b[0m     \u001b[0;32mfor\u001b[0m \u001b[0mt\u001b[0m \u001b[0;32min\u001b[0m \u001b[0mt_arr\u001b[0m\u001b[0;34m:\u001b[0m\u001b[0;34m\u001b[0m\u001b[0;34m\u001b[0m\u001b[0m\n\u001b[0;32m---> 16\u001b[0;31m         \u001b[0mdata_t\u001b[0m\u001b[0;34m.\u001b[0m\u001b[0mappend\u001b[0m\u001b[0;34m(\u001b[0m\u001b[0;34m(\u001b[0m\u001b[0;34m(\u001b[0m\u001b[0;34m-\u001b[0m\u001b[0;36m1\u001b[0m\u001b[0;34m)\u001b[0m\u001b[0;34m**\u001b[0m\u001b[0mn\u001b[0m\u001b[0;34m)\u001b[0m\u001b[0;34m*\u001b[0m\u001b[0mParticleNumber\u001b[0m\u001b[0;34m(\u001b[0m\u001b[0mt\u001b[0m\u001b[0;34m,\u001b[0m\u001b[0mn\u001b[0m\u001b[0;34m,\u001b[0m\u001b[0mm\u001b[0m\u001b[0;34m,\u001b[0m\u001b[0mg\u001b[0m\u001b[0;34m,\u001b[0m\u001b[0mLam\u001b[0m\u001b[0;34m,\u001b[0m\u001b[0mL\u001b[0m\u001b[0;34m,\u001b[0m\u001b[0mk\u001b[0m\u001b[0;34m)\u001b[0m\u001b[0;34m.\u001b[0m\u001b[0mreal\u001b[0m\u001b[0;34m)\u001b[0m\u001b[0;34m\u001b[0m\u001b[0;34m\u001b[0m\u001b[0m\n\u001b[0m\u001b[1;32m     17\u001b[0m \u001b[0;34m\u001b[0m\u001b[0m\n\u001b[1;32m     18\u001b[0m     \u001b[0mdata\u001b[0m\u001b[0;34m.\u001b[0m\u001b[0mappend\u001b[0m\u001b[0;34m(\u001b[0m\u001b[0mdata_t\u001b[0m\u001b[0;34m)\u001b[0m\u001b[0;34m\u001b[0m\u001b[0;34m\u001b[0m\u001b[0m\n",
      "\u001b[0;32m/tmp/ipykernel_87365/158170364.py\u001b[0m in \u001b[0;36mParticleNumber\u001b[0;34m(t, n, m, g, Lam, L, k)\u001b[0m\n\u001b[1;32m      9\u001b[0m     \u001b[0;31m#return np.dot(np.conjugate(eig_vec_sorted[0]),np.dot(commn, eig_vec_sorted[0]))\u001b[0m\u001b[0;34m\u001b[0m\u001b[0;34m\u001b[0m\u001b[0;34m\u001b[0m\u001b[0m\n\u001b[1;32m     10\u001b[0m \u001b[0;34m\u001b[0m\u001b[0m\n\u001b[0;32m---> 11\u001b[0;31m     \u001b[0mpsi\u001b[0m\u001b[0;34m=\u001b[0m\u001b[0mnp\u001b[0m\u001b[0;34m.\u001b[0m\u001b[0mdot\u001b[0m\u001b[0;34m(\u001b[0m\u001b[0mevolv\u001b[0m\u001b[0;34m(\u001b[0m\u001b[0mt\u001b[0m\u001b[0;34m,\u001b[0m\u001b[0mm\u001b[0m\u001b[0;34m,\u001b[0m\u001b[0mg\u001b[0m\u001b[0;34m,\u001b[0m\u001b[0mLam\u001b[0m\u001b[0;34m,\u001b[0m\u001b[0mL\u001b[0m\u001b[0;34m,\u001b[0m\u001b[0mk\u001b[0m\u001b[0;34m)\u001b[0m\u001b[0;34m,\u001b[0m \u001b[0mu\u001b[0m\u001b[0;34m)\u001b[0m\u001b[0;34m\u001b[0m\u001b[0;34m\u001b[0m\u001b[0m\n\u001b[0m\u001b[1;32m     12\u001b[0m \u001b[0;34m\u001b[0m\u001b[0m\n\u001b[1;32m     13\u001b[0m     \u001b[0;32mreturn\u001b[0m \u001b[0;34m(\u001b[0m\u001b[0;34m(\u001b[0m\u001b[0;34m-\u001b[0m\u001b[0;36m1\u001b[0m\u001b[0;34m)\u001b[0m\u001b[0;34m**\u001b[0m\u001b[0mn\u001b[0m\u001b[0;34m)\u001b[0m\u001b[0;34m*\u001b[0m\u001b[0mnp\u001b[0m\u001b[0;34m.\u001b[0m\u001b[0mdot\u001b[0m\u001b[0;34m(\u001b[0m\u001b[0mnp\u001b[0m\u001b[0;34m.\u001b[0m\u001b[0mtranspose\u001b[0m\u001b[0;34m(\u001b[0m\u001b[0mnp\u001b[0m\u001b[0;34m.\u001b[0m\u001b[0mconjugate\u001b[0m\u001b[0;34m(\u001b[0m\u001b[0mpsi\u001b[0m\u001b[0;34m)\u001b[0m\u001b[0;34m)\u001b[0m\u001b[0;34m,\u001b[0m\u001b[0mdot\u001b[0m\u001b[0;34m(\u001b[0m\u001b[0mQ\u001b[0m\u001b[0;34m(\u001b[0m\u001b[0mn\u001b[0m\u001b[0;34m,\u001b[0m\u001b[0mt\u001b[0m\u001b[0;34m,\u001b[0m\u001b[0mg\u001b[0m\u001b[0;34m,\u001b[0m\u001b[0mLam\u001b[0m\u001b[0;34m,\u001b[0m\u001b[0mL\u001b[0m\u001b[0;34m)\u001b[0m\u001b[0;34m,\u001b[0m\u001b[0mpsi\u001b[0m\u001b[0;34m)\u001b[0m\u001b[0;34m)\u001b[0m\u001b[0;34m\u001b[0m\u001b[0;34m\u001b[0m\u001b[0m\n",
      "\u001b[0;32m/global/u2/k/kwangmin/projects/QC/SchwingerModel/Quantum-Simulation-of-Schwinger-Model-with-jet/operators.py\u001b[0m in \u001b[0;36mevolv\u001b[0;34m(t, m, g, Lam, L, k)\u001b[0m\n\u001b[1;32m    228\u001b[0m     \u001b[0mM\u001b[0m\u001b[0;34m=\u001b[0m\u001b[0mM\u001b[0m\u001b[0;34m.\u001b[0m\u001b[0mdot\u001b[0m\u001b[0;34m(\u001b[0m\u001b[0mevolv_Z\u001b[0m\u001b[0;34m(\u001b[0m\u001b[0mt\u001b[0m\u001b[0;34m,\u001b[0m\u001b[0mm\u001b[0m\u001b[0;34m,\u001b[0m\u001b[0mLam\u001b[0m\u001b[0;34m,\u001b[0m\u001b[0mL\u001b[0m\u001b[0;34m,\u001b[0m\u001b[0mk\u001b[0m\u001b[0;34m)\u001b[0m\u001b[0;34m)\u001b[0m\u001b[0;34m\u001b[0m\u001b[0;34m\u001b[0m\u001b[0m\n\u001b[1;32m    229\u001b[0m     \u001b[0mM\u001b[0m\u001b[0;34m=\u001b[0m\u001b[0mM\u001b[0m\u001b[0;34m.\u001b[0m\u001b[0mdot\u001b[0m\u001b[0;34m(\u001b[0m\u001b[0mevolv_E\u001b[0m\u001b[0;34m(\u001b[0m\u001b[0mt\u001b[0m\u001b[0;34m,\u001b[0m\u001b[0mg\u001b[0m\u001b[0;34m,\u001b[0m\u001b[0mLam\u001b[0m\u001b[0;34m,\u001b[0m\u001b[0mL\u001b[0m\u001b[0;34m,\u001b[0m\u001b[0mk\u001b[0m\u001b[0;34m)\u001b[0m\u001b[0;34m)\u001b[0m\u001b[0;34m\u001b[0m\u001b[0;34m\u001b[0m\u001b[0m\n\u001b[0;32m--> 230\u001b[0;31m     \u001b[0mM\u001b[0m\u001b[0;34m=\u001b[0m\u001b[0mM\u001b[0m\u001b[0;34m.\u001b[0m\u001b[0mdot\u001b[0m\u001b[0;34m(\u001b[0m\u001b[0mext\u001b[0m\u001b[0;34m(\u001b[0m\u001b[0mt\u001b[0m\u001b[0;34m,\u001b[0m\u001b[0mLam\u001b[0m\u001b[0;34m,\u001b[0m\u001b[0mL\u001b[0m\u001b[0;34m,\u001b[0m\u001b[0mk\u001b[0m\u001b[0;34m)\u001b[0m\u001b[0;34m)\u001b[0m\u001b[0;34m\u001b[0m\u001b[0;34m\u001b[0m\u001b[0m\n\u001b[0m\u001b[1;32m    231\u001b[0m \u001b[0;34m\u001b[0m\u001b[0m\n\u001b[1;32m    232\u001b[0m     \u001b[0;32mreturn\u001b[0m \u001b[0mnp\u001b[0m\u001b[0;34m.\u001b[0m\u001b[0mlinalg\u001b[0m\u001b[0;34m.\u001b[0m\u001b[0mmatrix_power\u001b[0m\u001b[0;34m(\u001b[0m\u001b[0mM\u001b[0m\u001b[0;34m,\u001b[0m \u001b[0mk\u001b[0m\u001b[0;34m)\u001b[0m\u001b[0;34m\u001b[0m\u001b[0;34m\u001b[0m\u001b[0m\n",
      "\u001b[0;32m/global/u2/k/kwangmin/projects/QC/SchwingerModel/Quantum-Simulation-of-Schwinger-Model-with-jet/operators.py\u001b[0m in \u001b[0;36mext\u001b[0;34m(t, Lam, L, k)\u001b[0m\n\u001b[1;32m    187\u001b[0m \u001b[0;34m\u001b[0m\u001b[0m\n\u001b[1;32m    188\u001b[0m     \u001b[0;32mif\u001b[0m \u001b[0mt\u001b[0m\u001b[0;34m>\u001b[0m\u001b[0;36m5\u001b[0m\u001b[0;34m:\u001b[0m\u001b[0;34m\u001b[0m\u001b[0;34m\u001b[0m\u001b[0m\n\u001b[0;32m--> 189\u001b[0;31m         \u001b[0mOP\u001b[0m\u001b[0;34m=\u001b[0m\u001b[0mOP\u001b[0m\u001b[0;34m.\u001b[0m\u001b[0mdot\u001b[0m\u001b[0;34m(\u001b[0m\u001b[0mdot\u001b[0m\u001b[0;34m(\u001b[0m\u001b[0mnp\u001b[0m\u001b[0;34m.\u001b[0m\u001b[0mlinalg\u001b[0m\u001b[0;34m.\u001b[0m\u001b[0mmatrix_power\u001b[0m\u001b[0;34m(\u001b[0m\u001b[0mU\u001b[0m\u001b[0;34m(\u001b[0m\u001b[0;36m5\u001b[0m\u001b[0;34m,\u001b[0m\u001b[0mLam\u001b[0m\u001b[0;34m,\u001b[0m\u001b[0mL\u001b[0m\u001b[0;34m)\u001b[0m\u001b[0;34m,\u001b[0m \u001b[0;36m5\u001b[0m\u001b[0;34m)\u001b[0m\u001b[0;34m,\u001b[0m \u001b[0mnp\u001b[0m\u001b[0;34m.\u001b[0m\u001b[0mlinalg\u001b[0m\u001b[0;34m.\u001b[0m\u001b[0mmatrix_power\u001b[0m\u001b[0;34m(\u001b[0m\u001b[0mU\u001b[0m\u001b[0;34m(\u001b[0m\u001b[0mL\u001b[0m\u001b[0;34m-\u001b[0m\u001b[0;36m4\u001b[0m\u001b[0;34m,\u001b[0m\u001b[0mLam\u001b[0m\u001b[0;34m,\u001b[0m\u001b[0mL\u001b[0m\u001b[0;34m)\u001b[0m\u001b[0;34m,\u001b[0m \u001b[0;36m5\u001b[0m\u001b[0;34m)\u001b[0m\u001b[0;34m)\u001b[0m\u001b[0;34m)\u001b[0m\u001b[0;34m\u001b[0m\u001b[0;34m\u001b[0m\u001b[0m\n\u001b[0m\u001b[1;32m    190\u001b[0m \u001b[0;34m\u001b[0m\u001b[0m\n\u001b[1;32m    191\u001b[0m     \u001b[0;32mif\u001b[0m \u001b[0mt\u001b[0m\u001b[0;34m>\u001b[0m\u001b[0;36m6\u001b[0m\u001b[0;34m:\u001b[0m\u001b[0;34m\u001b[0m\u001b[0;34m\u001b[0m\u001b[0m\n",
      "\u001b[0;32m<__array_function__ internals>\u001b[0m in \u001b[0;36mmatrix_power\u001b[0;34m(*args, **kwargs)\u001b[0m\n",
      "\u001b[0;32m~/.conda/envs/cuquantum/lib/python3.7/site-packages/numpy/linalg/linalg.py\u001b[0m in \u001b[0;36mmatrix_power\u001b[0;34m(a, n)\u001b[0m\n\u001b[1;32m    617\u001b[0m     \"\"\"\n\u001b[1;32m    618\u001b[0m     \u001b[0ma\u001b[0m \u001b[0;34m=\u001b[0m \u001b[0masanyarray\u001b[0m\u001b[0;34m(\u001b[0m\u001b[0ma\u001b[0m\u001b[0;34m)\u001b[0m\u001b[0;34m\u001b[0m\u001b[0;34m\u001b[0m\u001b[0m\n\u001b[0;32m--> 619\u001b[0;31m     \u001b[0m_assert_stacked_2d\u001b[0m\u001b[0;34m(\u001b[0m\u001b[0ma\u001b[0m\u001b[0;34m)\u001b[0m\u001b[0;34m\u001b[0m\u001b[0;34m\u001b[0m\u001b[0m\n\u001b[0m\u001b[1;32m    620\u001b[0m     \u001b[0m_assert_stacked_square\u001b[0m\u001b[0;34m(\u001b[0m\u001b[0ma\u001b[0m\u001b[0;34m)\u001b[0m\u001b[0;34m\u001b[0m\u001b[0;34m\u001b[0m\u001b[0m\n\u001b[1;32m    621\u001b[0m \u001b[0;34m\u001b[0m\u001b[0m\n",
      "\u001b[0;32m~/.conda/envs/cuquantum/lib/python3.7/site-packages/numpy/linalg/linalg.py\u001b[0m in \u001b[0;36m_assert_stacked_2d\u001b[0;34m(*arrays)\u001b[0m\n\u001b[1;32m    195\u001b[0m         \u001b[0;32mif\u001b[0m \u001b[0ma\u001b[0m\u001b[0;34m.\u001b[0m\u001b[0mndim\u001b[0m \u001b[0;34m<\u001b[0m \u001b[0;36m2\u001b[0m\u001b[0;34m:\u001b[0m\u001b[0;34m\u001b[0m\u001b[0;34m\u001b[0m\u001b[0m\n\u001b[1;32m    196\u001b[0m             raise LinAlgError('%d-dimensional array given. Array must be '\n\u001b[0;32m--> 197\u001b[0;31m                     'at least two-dimensional' % a.ndim)\n\u001b[0m\u001b[1;32m    198\u001b[0m \u001b[0;34m\u001b[0m\u001b[0m\n\u001b[1;32m    199\u001b[0m \u001b[0;32mdef\u001b[0m \u001b[0m_assert_stacked_square\u001b[0m\u001b[0;34m(\u001b[0m\u001b[0;34m*\u001b[0m\u001b[0marrays\u001b[0m\u001b[0;34m)\u001b[0m\u001b[0;34m:\u001b[0m\u001b[0;34m\u001b[0m\u001b[0;34m\u001b[0m\u001b[0m\n",
      "\u001b[0;31mLinAlgError\u001b[0m: 0-dimensional array given. Array must be at least two-dimensional"
     ]
    }
   ],
   "source": [
    "k=5\n",
    "L=4\n",
    "Lam=1\n",
    "g=1\n",
    "m=1\n",
    "\n",
    "t_arr = np.linspace(0,7,100)\n",
    "n_arr = [1,2,3,4,5,6]\n",
    "\n",
    "#T_arr = np.linspace(-10,10,40)\n",
    "\n",
    "data=[]\n",
    "for n in n_arr:\n",
    "    data_t=[]\n",
    "    for t in t_arr:\n",
    "        data_t.append(((-1)**n)*ParticleNumber(t,n,m,g,Lam,L,k).real)\n",
    "        \n",
    "    data.append(data_t)"
   ]
  },
  {
   "cell_type": "code",
   "execution_count": 8,
   "metadata": {},
   "outputs": [
    {
     "name": "stderr",
     "output_type": "stream",
     "text": [
      "/global/homes/k/kwangmin/.conda/envs/cuquantum/lib/python3.7/site-packages/seaborn/matrix.py:198: RuntimeWarning: All-NaN slice encountered\n",
      "  vmin = np.nanmin(calc_data)\n",
      "/global/homes/k/kwangmin/.conda/envs/cuquantum/lib/python3.7/site-packages/seaborn/matrix.py:203: RuntimeWarning: All-NaN slice encountered\n",
      "  vmax = np.nanmax(calc_data)\n"
     ]
    },
    {
     "ename": "TypeError",
     "evalue": "Image data of dtype object cannot be converted to float",
     "output_type": "error",
     "traceback": [
      "\u001b[0;31m---------------------------------------------------------------------------\u001b[0m",
      "\u001b[0;31mTypeError\u001b[0m                                 Traceback (most recent call last)",
      "\u001b[0;32m/tmp/ipykernel_87365/1890383726.py\u001b[0m in \u001b[0;36m<module>\u001b[0;34m\u001b[0m\n\u001b[1;32m     11\u001b[0m \u001b[0;34m\u001b[0m\u001b[0m\n\u001b[1;32m     12\u001b[0m \u001b[0mdf\u001b[0m\u001b[0;34m=\u001b[0m \u001b[0mpd\u001b[0m\u001b[0;34m.\u001b[0m\u001b[0mDataFrame\u001b[0m\u001b[0;34m(\u001b[0m\u001b[0mdata\u001b[0m\u001b[0;34m,\u001b[0m \u001b[0mindex\u001b[0m\u001b[0;34m=\u001b[0m\u001b[0mn_val\u001b[0m\u001b[0;34m,\u001b[0m \u001b[0mcolumns\u001b[0m\u001b[0;34m=\u001b[0m\u001b[0mt_val\u001b[0m\u001b[0;34m)\u001b[0m\u001b[0;34m\u001b[0m\u001b[0;34m\u001b[0m\u001b[0m\n\u001b[0;32m---> 13\u001b[0;31m \u001b[0max\u001b[0m\u001b[0;34m=\u001b[0m\u001b[0msns\u001b[0m\u001b[0;34m.\u001b[0m\u001b[0mheatmap\u001b[0m\u001b[0;34m(\u001b[0m\u001b[0mdf\u001b[0m\u001b[0;34m,\u001b[0m \u001b[0mxticklabels\u001b[0m\u001b[0;34m=\u001b[0m\u001b[0;36m7\u001b[0m\u001b[0;34m,\u001b[0m \u001b[0myticklabels\u001b[0m\u001b[0;34m=\u001b[0m\u001b[0;36m1\u001b[0m\u001b[0;34m,\u001b[0m \u001b[0mcmap\u001b[0m\u001b[0;34m=\u001b[0m\u001b[0;34m'PuOr'\u001b[0m\u001b[0;34m)\u001b[0m\u001b[0;34m\u001b[0m\u001b[0;34m\u001b[0m\u001b[0m\n\u001b[0m\u001b[1;32m     14\u001b[0m \u001b[0max\u001b[0m\u001b[0;34m.\u001b[0m\u001b[0minvert_yaxis\u001b[0m\u001b[0;34m(\u001b[0m\u001b[0;34m)\u001b[0m\u001b[0;34m\u001b[0m\u001b[0;34m\u001b[0m\u001b[0m\n\u001b[1;32m     15\u001b[0m \u001b[0max\u001b[0m\u001b[0;34m.\u001b[0m\u001b[0mset_xticklabels\u001b[0m\u001b[0;34m(\u001b[0m\u001b[0;34m[\u001b[0m\u001b[0;36m0.0\u001b[0m\u001b[0;34m,\u001b[0m\u001b[0;36m0.5\u001b[0m\u001b[0;34m,\u001b[0m\u001b[0;36m1.0\u001b[0m\u001b[0;34m,\u001b[0m\u001b[0;36m1.5\u001b[0m\u001b[0;34m,\u001b[0m\u001b[0;36m2.0\u001b[0m\u001b[0;34m,\u001b[0m\u001b[0;36m2.5\u001b[0m\u001b[0;34m,\u001b[0m\u001b[0;36m3.0\u001b[0m\u001b[0;34m,\u001b[0m\u001b[0;36m3.5\u001b[0m\u001b[0;34m,\u001b[0m\u001b[0;36m4.0\u001b[0m\u001b[0;34m,\u001b[0m\u001b[0;36m4.5\u001b[0m\u001b[0;34m,\u001b[0m\u001b[0;36m5.0\u001b[0m\u001b[0;34m,\u001b[0m\u001b[0;36m5.5\u001b[0m\u001b[0;34m,\u001b[0m\u001b[0;36m6.0\u001b[0m\u001b[0;34m,\u001b[0m\u001b[0;36m6.5\u001b[0m\u001b[0;34m,\u001b[0m\u001b[0;36m7.0\u001b[0m\u001b[0;34m]\u001b[0m\u001b[0;34m)\u001b[0m\u001b[0;34m\u001b[0m\u001b[0;34m\u001b[0m\u001b[0m\n",
      "\u001b[0;32m~/.conda/envs/cuquantum/lib/python3.7/site-packages/seaborn/_decorators.py\u001b[0m in \u001b[0;36minner_f\u001b[0;34m(*args, **kwargs)\u001b[0m\n\u001b[1;32m     44\u001b[0m             )\n\u001b[1;32m     45\u001b[0m         \u001b[0mkwargs\u001b[0m\u001b[0;34m.\u001b[0m\u001b[0mupdate\u001b[0m\u001b[0;34m(\u001b[0m\u001b[0;34m{\u001b[0m\u001b[0mk\u001b[0m\u001b[0;34m:\u001b[0m \u001b[0marg\u001b[0m \u001b[0;32mfor\u001b[0m \u001b[0mk\u001b[0m\u001b[0;34m,\u001b[0m \u001b[0marg\u001b[0m \u001b[0;32min\u001b[0m \u001b[0mzip\u001b[0m\u001b[0;34m(\u001b[0m\u001b[0msig\u001b[0m\u001b[0;34m.\u001b[0m\u001b[0mparameters\u001b[0m\u001b[0;34m,\u001b[0m \u001b[0margs\u001b[0m\u001b[0;34m)\u001b[0m\u001b[0;34m}\u001b[0m\u001b[0;34m)\u001b[0m\u001b[0;34m\u001b[0m\u001b[0;34m\u001b[0m\u001b[0m\n\u001b[0;32m---> 46\u001b[0;31m         \u001b[0;32mreturn\u001b[0m \u001b[0mf\u001b[0m\u001b[0;34m(\u001b[0m\u001b[0;34m**\u001b[0m\u001b[0mkwargs\u001b[0m\u001b[0;34m)\u001b[0m\u001b[0;34m\u001b[0m\u001b[0;34m\u001b[0m\u001b[0m\n\u001b[0m\u001b[1;32m     47\u001b[0m     \u001b[0;32mreturn\u001b[0m \u001b[0minner_f\u001b[0m\u001b[0;34m\u001b[0m\u001b[0;34m\u001b[0m\u001b[0m\n\u001b[1;32m     48\u001b[0m \u001b[0;34m\u001b[0m\u001b[0m\n",
      "\u001b[0;32m~/.conda/envs/cuquantum/lib/python3.7/site-packages/seaborn/matrix.py\u001b[0m in \u001b[0;36mheatmap\u001b[0;34m(data, vmin, vmax, cmap, center, robust, annot, fmt, annot_kws, linewidths, linecolor, cbar, cbar_kws, cbar_ax, square, xticklabels, yticklabels, mask, ax, **kwargs)\u001b[0m\n\u001b[1;32m    551\u001b[0m     \u001b[0;32mif\u001b[0m \u001b[0msquare\u001b[0m\u001b[0;34m:\u001b[0m\u001b[0;34m\u001b[0m\u001b[0;34m\u001b[0m\u001b[0m\n\u001b[1;32m    552\u001b[0m         \u001b[0max\u001b[0m\u001b[0;34m.\u001b[0m\u001b[0mset_aspect\u001b[0m\u001b[0;34m(\u001b[0m\u001b[0;34m\"equal\"\u001b[0m\u001b[0;34m)\u001b[0m\u001b[0;34m\u001b[0m\u001b[0;34m\u001b[0m\u001b[0m\n\u001b[0;32m--> 553\u001b[0;31m     \u001b[0mplotter\u001b[0m\u001b[0;34m.\u001b[0m\u001b[0mplot\u001b[0m\u001b[0;34m(\u001b[0m\u001b[0max\u001b[0m\u001b[0;34m,\u001b[0m \u001b[0mcbar_ax\u001b[0m\u001b[0;34m,\u001b[0m \u001b[0mkwargs\u001b[0m\u001b[0;34m)\u001b[0m\u001b[0;34m\u001b[0m\u001b[0;34m\u001b[0m\u001b[0m\n\u001b[0m\u001b[1;32m    554\u001b[0m     \u001b[0;32mreturn\u001b[0m \u001b[0max\u001b[0m\u001b[0;34m\u001b[0m\u001b[0;34m\u001b[0m\u001b[0m\n\u001b[1;32m    555\u001b[0m \u001b[0;34m\u001b[0m\u001b[0m\n",
      "\u001b[0;32m~/.conda/envs/cuquantum/lib/python3.7/site-packages/seaborn/matrix.py\u001b[0m in \u001b[0;36mplot\u001b[0;34m(self, ax, cax, kws)\u001b[0m\n\u001b[1;32m    300\u001b[0m \u001b[0;34m\u001b[0m\u001b[0m\n\u001b[1;32m    301\u001b[0m         \u001b[0;31m# Draw the heatmap\u001b[0m\u001b[0;34m\u001b[0m\u001b[0;34m\u001b[0m\u001b[0;34m\u001b[0m\u001b[0m\n\u001b[0;32m--> 302\u001b[0;31m         \u001b[0mmesh\u001b[0m \u001b[0;34m=\u001b[0m \u001b[0max\u001b[0m\u001b[0;34m.\u001b[0m\u001b[0mpcolormesh\u001b[0m\u001b[0;34m(\u001b[0m\u001b[0mself\u001b[0m\u001b[0;34m.\u001b[0m\u001b[0mplot_data\u001b[0m\u001b[0;34m,\u001b[0m \u001b[0mcmap\u001b[0m\u001b[0;34m=\u001b[0m\u001b[0mself\u001b[0m\u001b[0;34m.\u001b[0m\u001b[0mcmap\u001b[0m\u001b[0;34m,\u001b[0m \u001b[0;34m**\u001b[0m\u001b[0mkws\u001b[0m\u001b[0;34m)\u001b[0m\u001b[0;34m\u001b[0m\u001b[0;34m\u001b[0m\u001b[0m\n\u001b[0m\u001b[1;32m    303\u001b[0m \u001b[0;34m\u001b[0m\u001b[0m\n\u001b[1;32m    304\u001b[0m         \u001b[0;31m# Set the axis limits\u001b[0m\u001b[0;34m\u001b[0m\u001b[0;34m\u001b[0m\u001b[0;34m\u001b[0m\u001b[0m\n",
      "\u001b[0;32m~/.conda/envs/cuquantum/lib/python3.7/site-packages/matplotlib/__init__.py\u001b[0m in \u001b[0;36minner\u001b[0;34m(ax, data, *args, **kwargs)\u001b[0m\n\u001b[1;32m   1410\u001b[0m     \u001b[0;32mdef\u001b[0m \u001b[0minner\u001b[0m\u001b[0;34m(\u001b[0m\u001b[0max\u001b[0m\u001b[0;34m,\u001b[0m \u001b[0;34m*\u001b[0m\u001b[0margs\u001b[0m\u001b[0;34m,\u001b[0m \u001b[0mdata\u001b[0m\u001b[0;34m=\u001b[0m\u001b[0;32mNone\u001b[0m\u001b[0;34m,\u001b[0m \u001b[0;34m**\u001b[0m\u001b[0mkwargs\u001b[0m\u001b[0;34m)\u001b[0m\u001b[0;34m:\u001b[0m\u001b[0;34m\u001b[0m\u001b[0;34m\u001b[0m\u001b[0m\n\u001b[1;32m   1411\u001b[0m         \u001b[0;32mif\u001b[0m \u001b[0mdata\u001b[0m \u001b[0;32mis\u001b[0m \u001b[0;32mNone\u001b[0m\u001b[0;34m:\u001b[0m\u001b[0;34m\u001b[0m\u001b[0;34m\u001b[0m\u001b[0m\n\u001b[0;32m-> 1412\u001b[0;31m             \u001b[0;32mreturn\u001b[0m \u001b[0mfunc\u001b[0m\u001b[0;34m(\u001b[0m\u001b[0max\u001b[0m\u001b[0;34m,\u001b[0m \u001b[0;34m*\u001b[0m\u001b[0mmap\u001b[0m\u001b[0;34m(\u001b[0m\u001b[0msanitize_sequence\u001b[0m\u001b[0;34m,\u001b[0m \u001b[0margs\u001b[0m\u001b[0;34m)\u001b[0m\u001b[0;34m,\u001b[0m \u001b[0;34m**\u001b[0m\u001b[0mkwargs\u001b[0m\u001b[0;34m)\u001b[0m\u001b[0;34m\u001b[0m\u001b[0;34m\u001b[0m\u001b[0m\n\u001b[0m\u001b[1;32m   1413\u001b[0m \u001b[0;34m\u001b[0m\u001b[0m\n\u001b[1;32m   1414\u001b[0m         \u001b[0mbound\u001b[0m \u001b[0;34m=\u001b[0m \u001b[0mnew_sig\u001b[0m\u001b[0;34m.\u001b[0m\u001b[0mbind\u001b[0m\u001b[0;34m(\u001b[0m\u001b[0max\u001b[0m\u001b[0;34m,\u001b[0m \u001b[0;34m*\u001b[0m\u001b[0margs\u001b[0m\u001b[0;34m,\u001b[0m \u001b[0;34m**\u001b[0m\u001b[0mkwargs\u001b[0m\u001b[0;34m)\u001b[0m\u001b[0;34m\u001b[0m\u001b[0;34m\u001b[0m\u001b[0m\n",
      "\u001b[0;32m~/.conda/envs/cuquantum/lib/python3.7/site-packages/matplotlib/axes/_axes.py\u001b[0m in \u001b[0;36mpcolormesh\u001b[0;34m(self, alpha, norm, cmap, vmin, vmax, shading, antialiased, *args, **kwargs)\u001b[0m\n\u001b[1;32m   6070\u001b[0m         collection = mcoll.QuadMesh(\n\u001b[1;32m   6071\u001b[0m             \u001b[0mcoords\u001b[0m\u001b[0;34m,\u001b[0m \u001b[0mantialiased\u001b[0m\u001b[0;34m=\u001b[0m\u001b[0mantialiased\u001b[0m\u001b[0;34m,\u001b[0m \u001b[0mshading\u001b[0m\u001b[0;34m=\u001b[0m\u001b[0mshading\u001b[0m\u001b[0;34m,\u001b[0m\u001b[0;34m\u001b[0m\u001b[0;34m\u001b[0m\u001b[0m\n\u001b[0;32m-> 6072\u001b[0;31m             array=C, cmap=cmap, norm=norm, alpha=alpha, **kwargs)\n\u001b[0m\u001b[1;32m   6073\u001b[0m         \u001b[0mcollection\u001b[0m\u001b[0;34m.\u001b[0m\u001b[0m_scale_norm\u001b[0m\u001b[0;34m(\u001b[0m\u001b[0mnorm\u001b[0m\u001b[0;34m,\u001b[0m \u001b[0mvmin\u001b[0m\u001b[0;34m,\u001b[0m \u001b[0mvmax\u001b[0m\u001b[0;34m)\u001b[0m\u001b[0;34m\u001b[0m\u001b[0;34m\u001b[0m\u001b[0m\n\u001b[1;32m   6074\u001b[0m         \u001b[0mself\u001b[0m\u001b[0;34m.\u001b[0m\u001b[0m_pcolor_grid_deprecation_helper\u001b[0m\u001b[0;34m(\u001b[0m\u001b[0;34m)\u001b[0m\u001b[0;34m\u001b[0m\u001b[0;34m\u001b[0m\u001b[0m\n",
      "\u001b[0;32m~/.conda/envs/cuquantum/lib/python3.7/site-packages/matplotlib/collections.py\u001b[0m in \u001b[0;36m__init__\u001b[0;34m(self, *args, **kwargs)\u001b[0m\n\u001b[1;32m   2014\u001b[0m         \u001b[0;31m# super init delayed after own init because array kwarg requires\u001b[0m\u001b[0;34m\u001b[0m\u001b[0;34m\u001b[0m\u001b[0;34m\u001b[0m\u001b[0m\n\u001b[1;32m   2015\u001b[0m         \u001b[0;31m# self._coordinates and self._shading\u001b[0m\u001b[0;34m\u001b[0m\u001b[0;34m\u001b[0m\u001b[0;34m\u001b[0m\u001b[0m\n\u001b[0;32m-> 2016\u001b[0;31m         \u001b[0msuper\u001b[0m\u001b[0;34m(\u001b[0m\u001b[0;34m)\u001b[0m\u001b[0;34m.\u001b[0m\u001b[0m__init__\u001b[0m\u001b[0;34m(\u001b[0m\u001b[0;34m**\u001b[0m\u001b[0mkwargs\u001b[0m\u001b[0;34m)\u001b[0m\u001b[0;34m\u001b[0m\u001b[0;34m\u001b[0m\u001b[0m\n\u001b[0m\u001b[1;32m   2017\u001b[0m \u001b[0;34m\u001b[0m\u001b[0m\n\u001b[1;32m   2018\u001b[0m     \u001b[0;31m# Only needed during signature deprecation\u001b[0m\u001b[0;34m\u001b[0m\u001b[0;34m\u001b[0m\u001b[0;34m\u001b[0m\u001b[0m\n",
      "\u001b[0;32m~/.conda/envs/cuquantum/lib/python3.7/site-packages/matplotlib/collections.py\u001b[0m in \u001b[0;36m__init__\u001b[0;34m(self, edgecolors, facecolors, linewidths, linestyles, capstyle, joinstyle, antialiaseds, offsets, transOffset, norm, cmap, pickradius, hatch, urls, zorder, **kwargs)\u001b[0m\n\u001b[1;32m    219\u001b[0m \u001b[0;34m\u001b[0m\u001b[0m\n\u001b[1;32m    220\u001b[0m         \u001b[0mself\u001b[0m\u001b[0;34m.\u001b[0m\u001b[0m_path_effects\u001b[0m \u001b[0;34m=\u001b[0m \u001b[0;32mNone\u001b[0m\u001b[0;34m\u001b[0m\u001b[0;34m\u001b[0m\u001b[0m\n\u001b[0;32m--> 221\u001b[0;31m         \u001b[0mself\u001b[0m\u001b[0;34m.\u001b[0m\u001b[0mupdate\u001b[0m\u001b[0;34m(\u001b[0m\u001b[0mkwargs\u001b[0m\u001b[0;34m)\u001b[0m\u001b[0;34m\u001b[0m\u001b[0;34m\u001b[0m\u001b[0m\n\u001b[0m\u001b[1;32m    222\u001b[0m         \u001b[0mself\u001b[0m\u001b[0;34m.\u001b[0m\u001b[0m_paths\u001b[0m \u001b[0;34m=\u001b[0m \u001b[0;32mNone\u001b[0m\u001b[0;34m\u001b[0m\u001b[0;34m\u001b[0m\u001b[0m\n\u001b[1;32m    223\u001b[0m \u001b[0;34m\u001b[0m\u001b[0m\n",
      "\u001b[0;32m~/.conda/envs/cuquantum/lib/python3.7/site-packages/matplotlib/artist.py\u001b[0m in \u001b[0;36mupdate\u001b[0;34m(self, props)\u001b[0m\n\u001b[1;32m   1064\u001b[0m                         raise AttributeError(f\"{type(self).__name__!r} object \"\n\u001b[1;32m   1065\u001b[0m                                              f\"has no property {k!r}\")\n\u001b[0;32m-> 1066\u001b[0;31m                     \u001b[0mret\u001b[0m\u001b[0;34m.\u001b[0m\u001b[0mappend\u001b[0m\u001b[0;34m(\u001b[0m\u001b[0mfunc\u001b[0m\u001b[0;34m(\u001b[0m\u001b[0mv\u001b[0m\u001b[0;34m)\u001b[0m\u001b[0;34m)\u001b[0m\u001b[0;34m\u001b[0m\u001b[0;34m\u001b[0m\u001b[0m\n\u001b[0m\u001b[1;32m   1067\u001b[0m         \u001b[0;32mif\u001b[0m \u001b[0mret\u001b[0m\u001b[0;34m:\u001b[0m\u001b[0;34m\u001b[0m\u001b[0;34m\u001b[0m\u001b[0m\n\u001b[1;32m   1068\u001b[0m             \u001b[0mself\u001b[0m\u001b[0;34m.\u001b[0m\u001b[0mpchanged\u001b[0m\u001b[0;34m(\u001b[0m\u001b[0;34m)\u001b[0m\u001b[0;34m\u001b[0m\u001b[0;34m\u001b[0m\u001b[0m\n",
      "\u001b[0;32m~/.conda/envs/cuquantum/lib/python3.7/site-packages/matplotlib/collections.py\u001b[0m in \u001b[0;36mset_array\u001b[0;34m(self, A)\u001b[0m\n\u001b[1;32m   2075\u001b[0m                     f\"X ({width}) and/or Y ({height})\")\n\u001b[1;32m   2076\u001b[0m \u001b[0;34m\u001b[0m\u001b[0m\n\u001b[0;32m-> 2077\u001b[0;31m         \u001b[0;32mreturn\u001b[0m \u001b[0msuper\u001b[0m\u001b[0;34m(\u001b[0m\u001b[0;34m)\u001b[0m\u001b[0;34m.\u001b[0m\u001b[0mset_array\u001b[0m\u001b[0;34m(\u001b[0m\u001b[0mA\u001b[0m\u001b[0;34m)\u001b[0m\u001b[0;34m\u001b[0m\u001b[0;34m\u001b[0m\u001b[0m\n\u001b[0m\u001b[1;32m   2078\u001b[0m \u001b[0;34m\u001b[0m\u001b[0m\n\u001b[1;32m   2079\u001b[0m     \u001b[0;32mdef\u001b[0m \u001b[0mget_datalim\u001b[0m\u001b[0;34m(\u001b[0m\u001b[0mself\u001b[0m\u001b[0;34m,\u001b[0m \u001b[0mtransData\u001b[0m\u001b[0;34m)\u001b[0m\u001b[0;34m:\u001b[0m\u001b[0;34m\u001b[0m\u001b[0;34m\u001b[0m\u001b[0m\n",
      "\u001b[0;32m~/.conda/envs/cuquantum/lib/python3.7/site-packages/matplotlib/cm.py\u001b[0m in \u001b[0;36mset_array\u001b[0;34m(self, A)\u001b[0m\n\u001b[1;32m    475\u001b[0m         \u001b[0mA\u001b[0m \u001b[0;34m=\u001b[0m \u001b[0mcbook\u001b[0m\u001b[0;34m.\u001b[0m\u001b[0msafe_masked_invalid\u001b[0m\u001b[0;34m(\u001b[0m\u001b[0mA\u001b[0m\u001b[0;34m,\u001b[0m \u001b[0mcopy\u001b[0m\u001b[0;34m=\u001b[0m\u001b[0;32mTrue\u001b[0m\u001b[0;34m)\u001b[0m\u001b[0;34m\u001b[0m\u001b[0;34m\u001b[0m\u001b[0m\n\u001b[1;32m    476\u001b[0m         \u001b[0;32mif\u001b[0m \u001b[0;32mnot\u001b[0m \u001b[0mnp\u001b[0m\u001b[0;34m.\u001b[0m\u001b[0mcan_cast\u001b[0m\u001b[0;34m(\u001b[0m\u001b[0mA\u001b[0m\u001b[0;34m.\u001b[0m\u001b[0mdtype\u001b[0m\u001b[0;34m,\u001b[0m \u001b[0mfloat\u001b[0m\u001b[0;34m,\u001b[0m \u001b[0;34m\"same_kind\"\u001b[0m\u001b[0;34m)\u001b[0m\u001b[0;34m:\u001b[0m\u001b[0;34m\u001b[0m\u001b[0;34m\u001b[0m\u001b[0m\n\u001b[0;32m--> 477\u001b[0;31m             raise TypeError(f\"Image data of dtype {A.dtype} cannot be \"\n\u001b[0m\u001b[1;32m    478\u001b[0m                             \"converted to float\")\n\u001b[1;32m    479\u001b[0m \u001b[0;34m\u001b[0m\u001b[0m\n",
      "\u001b[0;31mTypeError\u001b[0m: Image data of dtype object cannot be converted to float"
     ]
    },
    {
     "data": {
      "image/png": "[encoded data removed]",
      "text/plain": [
       "<Figure size 432x288 with 1 Axes>"
      ]
     },
     "metadata": {
      "needs_background": "light"
     },
     "output_type": "display_data"
    }
   ],
   "source": [
    "import seaborn as sns\n",
    "import pandas as pd\n",
    "plt.figure()\n",
    "#t_arr = np.linspace(-1,6,70)\n",
    "#x_arr =[6,5,4,3,2,1]\n",
    "#t_arr = np.linspace(-0.5,T,130)\n",
    "\n",
    "\n",
    "t_val=[round(t_arr[i], 1) for i in range(len(t_arr))]\n",
    "n_val=[round(n_arr[i], 1) for i in range(len(n_arr))]\n",
    "\n",
    "df= pd.DataFrame(data, index=n_val, columns=t_val)\n",
    "ax=sns.heatmap(df, xticklabels=7, yticklabels=1, cmap='PuOr')\n",
    "ax.invert_yaxis()\n",
    "ax.set_xticklabels([0.0,0.5,1.0,1.5,2.0,2.5,3.0,3.5,4.0,4.5,5.0,5.5,6.0,6.5,7.0])\n",
    "plt.xlabel(\"$t$\")\n",
    "plt.ylabel(\"$n$\")\n",
    "\n",
    "max_val=max(list(map(lambda x: max(x), data)))\n",
    "print(max_val)\n",
    "\n",
    "data_2d=np.array(data)\n",
    "idx = np.unravel_index(np.argmax(data_2d), data_2d.shape)\n",
    "\n",
    "#print((n_arr[idx[0]],M_arr[idx[1]]))\n",
    "#plt.title(r\"$m/g=-0.2,~\\theta=$\"f\"{theta}\")\n",
    "#plt.title(f\"$N={N},$\"r\"$\\theta=3\\pi/5$\")\n",
    "plt.savefig(\"ChargeDensity\"+str(L)+\".png\")\n",
    "plt.show()"
   ]
  },
  {
   "cell_type": "code",
   "execution_count": 9,
   "metadata": {},
   "outputs": [],
   "source": [
    "def OTOC_0(t,i,j,m,g,Lam,L):\n",
    "    \n",
    "    Zi=np.kron(np.eye((2*Lam)**L) , Z(i,L))\n",
    "    Zj=np.kron(np.eye((2*Lam)**L) , Z(j,L))\n",
    "    \n",
    "    eig_val, eig_vec=eigsh(Ham_0(m,g, Lam,L), k=1, which=\"SA\")\n",
    "    idx = eig_val.argsort()[::1]\n",
    "    eig_val_sorted = eig_val[idx]\n",
    "    eig_vec_sorted =np.transpose(eig_vec[:,idx])\n",
    "    \n",
    "    u=eig_vec_sorted[0]#/float(np.sqrt(np.dot(np.conjugate(eig_vec_sorted[0]),eig_vec_sorted[0])))\n",
    "    \n",
    "    #return np.dot(np.conjugate(eig_vec_sorted[0]),np.dot(commn, eig_vec_sorted[0]))\n",
    "    U=expm(-1j*t*Ham_0(m,g, Lam,L))\n",
    "    U_dag=expm(1j*t*Ham_0(m,g, Lam,L))\n",
    "    \n",
    "    psi=np.dot(U, u) \n",
    "    psi=np.dot(Zi,psi) \n",
    "    psi=np.dot(U_dag,psi) #Zi(t)\n",
    "    psi=np.dot(Zj,psi) #ZjZi(t)\n",
    "    psi=np.dot(U, psi) \n",
    "    psi=np.dot(Zi,psi) \n",
    "    psi=np.dot(U_dag,psi) #Zi(t)ZjZi(t)\n",
    "    psi=np.dot(Zj,psi) #ZjZi(t)ZjZi(t)\n",
    "    \n",
    "    return np.dot(np.transpose(np.conjugate(u)), psi)\n",
    "\n",
    "\n",
    "def OTOC(t,i,j,m,g,Lam,L,k): #<psi0|Z0Z(t)Z0Z(t)|psi0>\n",
    "    Zi=np.kron(np.eye((2*Lam)**L) , Z(i,L))\n",
    "    Zj=np.kron(np.eye((2*Lam)**L) , Z(j,L))\n",
    "    \n",
    "    eig_val, eig_vec=eigsh(Ham_0(m,g, Lam,L), k=1, which=\"SA\")\n",
    "    idx = eig_val.argsort()[::1]\n",
    "    eig_val_sorted = eig_val[idx]\n",
    "    eig_vec_sorted =np.transpose(eig_vec[:,idx])\n",
    "    \n",
    "    u=eig_vec_sorted[0]#/float(np.sqrt(np.dot(np.conjugate(eig_vec_sorted[0]),eig_vec_sorted[0])))\n",
    "    \n",
    "    #return np.dot(np.conjugate(eig_vec_sorted[0]),np.dot(commn, eig_vec_sorted[0]))\n",
    "    U=evolv(t,m,g,Lam,L,k)\n",
    "    U_dag=evolv(-t,m,g,Lam,L,k)\n",
    "    \n",
    "    psi=np.dot(U, u) \n",
    "    psi=np.dot(Zi,psi) \n",
    "    psi=np.dot(U_dag,psi) #Zi(t)\n",
    "    psi=np.dot(Zj,psi) #ZjZi(t)\n",
    "    psi=np.dot(U, psi) \n",
    "    psi=np.dot(Zi,psi) \n",
    "    psi=np.dot(U_dag,psi) #Zi(t)ZjZi(t)\n",
    "    psi=np.dot(Zj,psi) #ZjZi(t)ZjZi(t)\n",
    "    \n",
    "    return np.dot(np.transpose(np.conjugate(u)), psi)\n",
    "    \n",
    "\n"
   ]
  },
  {
   "cell_type": "code",
   "execution_count": 10,
   "metadata": {},
   "outputs": [
    {
     "name": "stdout",
     "output_type": "stream",
     "text": [
      "2.0\n"
     ]
    },
    {
     "name": "stderr",
     "output_type": "stream",
     "text": [
      "100%|██████████| 40/40 [01:35<00:00,  2.39s/it]\n"
     ]
    }
   ],
   "source": [
    "L=4\n",
    "print(L/2)\n",
    "\n",
    "x=[0.1*s for s in range(L*10)]\n",
    "y_OTOC=[OTOC(0.1*s,1,int(L/2),1,1,1,L,10) for s in tqdm(range(L*10))]"
   ]
  },
  {
   "cell_type": "code",
   "execution_count": 11,
   "metadata": {},
   "outputs": [
    {
     "name": "stderr",
     "output_type": "stream",
     "text": [
      "100%|██████████| 40/40 [00:19<00:00,  2.01it/s]\n"
     ]
    }
   ],
   "source": [
    "L=4\n",
    "x=[0.1*s for s in range(L*10)]\n",
    "y_OTOC0=[OTOC_0(0.1*s,1,int(L/2),1,1,1,L) for s in tqdm(range(L*10))]"
   ]
  },
  {
   "cell_type": "code",
   "execution_count": 12,
   "metadata": {},
   "outputs": [
    {
     "name": "stderr",
     "output_type": "stream",
     "text": [
      "/global/homes/k/kwangmin/.conda/envs/cuquantum/lib/python3.7/site-packages/matplotlib/cbook/__init__.py:1298: ComplexWarning: Casting complex values to real discards the imaginary part\n",
      "  return np.asarray(x, float)\n"
     ]
    },
    {
     "data": {
      "image/png": "[encoded data removed]",
      "text/plain": [
       "<Figure size 432x288 with 1 Axes>"
      ]
     },
     "metadata": {
      "needs_background": "light"
     },
     "output_type": "display_data"
    }
   ],
   "source": [
    "plt.plot(x,y_OTOC, label=\"with source\")\n",
    "plt.plot(x,y_OTOC0, label=\"without source\")\n",
    "\n",
    "plt.legend()\n",
    "plt.xlabel(\"$t$\")\n",
    "plt.title(\"OTOC\")\n",
    "plt.savefig(\"OTOC.pdf\")"
   ]
  },
  {
   "cell_type": "code",
   "execution_count": 13,
   "metadata": {},
   "outputs": [
    {
     "data": {
      "text/plain": [
       "'Tue Aug  9 18:26:05 2022'"
      ]
     },
     "execution_count": 13,
     "metadata": {},
     "output_type": "execute_result"
    }
   ],
   "source": [
    "time.ctime()"
   ]
  },
  {
   "cell_type": "code",
   "execution_count": null,
   "metadata": {},
   "outputs": [],
   "source": []
  },
  {
   "cell_type": "code",
   "execution_count": null,
   "metadata": {},
   "outputs": [],
   "source": []
  },
  {
   "cell_type": "code",
   "execution_count": null,
   "metadata": {},
   "outputs": [],
   "source": []
  },
  {
   "cell_type": "code",
   "execution_count": null,
   "metadata": {},
   "outputs": [],
   "source": []
  },
  {
   "cell_type": "code",
   "execution_count": 14,
   "metadata": {},
   "outputs": [],
   "source": [
    "def Electric(t,n,m,g,Lam,L,k):\n",
    "    eig_val, eig_vec=eigsh(Ham_0(m,g, Lam,L), k=1, which=\"SA\")\n",
    "    idx = eig_val.argsort()[::1]\n",
    "    eig_val_sorted = eig_val[idx]\n",
    "    eig_vec_sorted =np.transpose(eig_vec[:,idx])\n",
    "    \n",
    "    u=eig_vec_sorted[0]#/float(np.sqrt(np.dot(np.conjugate(eig_vec_sorted[0]),eig_vec_sorted[0])))\n",
    "    \n",
    "    #return np.dot(np.conjugate(eig_vec_sorted[0]),np.dot(commn, eig_vec_sorted[0]))\n",
    "    \n",
    "    psi=np.dot(evolv(t,m,g,Lam,L,k), u)\n",
    "    \n",
    "    return ((-1)**n)*np.dot(np.conjugate(psi),dot(Q(n,t,g,Lam,L),psi))"
   ]
  },
  {
   "cell_type": "code",
   "execution_count": 15,
   "metadata": {},
   "outputs": [],
   "source": [
    "def Electric_tot(t,m,g,Lam,L,k):\n",
    "    EE=Electric(t,L,m,g,Lam,L,k)\n",
    "    for n in range(1,L):\n",
    "        EE+=Electric(t,n,m,g,Lam,L,k)\n",
    "    \n",
    "    return EE"
   ]
  },
  {
   "cell_type": "code",
   "execution_count": null,
   "metadata": {},
   "outputs": [],
   "source": []
  },
  {
   "cell_type": "code",
   "execution_count": 16,
   "metadata": {},
   "outputs": [
    {
     "name": "stderr",
     "output_type": "stream",
     "text": [
      "100%|██████████| 24/24 [00:21<00:00,  1.11it/s]\n"
     ]
    }
   ],
   "source": [
    "x_E=[0.2*s for s in range(24)]\n",
    "y_E=[Electric_tot(0.2*s,1,1,1,4,3) for s in tqdm(range(24))]"
   ]
  },
  {
   "cell_type": "code",
   "execution_count": 17,
   "metadata": {},
   "outputs": [
    {
     "name": "stderr",
     "output_type": "stream",
     "text": [
      "No artists with labels found to put in legend.  Note that artists whose label start with an underscore are ignored when legend() is called with no argument.\n"
     ]
    },
    {
     "data": {
      "text/plain": [
       "<matplotlib.legend.Legend at 0x155516dd5e50>"
      ]
     },
     "execution_count": 17,
     "metadata": {},
     "output_type": "execute_result"
    },
    {
     "data": {
      "image/png": "[encoded data removed]",
      "text/plain": [
       "<Figure size 432x288 with 1 Axes>"
      ]
     },
     "metadata": {
      "needs_background": "light"
     },
     "output_type": "display_data"
    }
   ],
   "source": [
    "plt.plot(x_E,y_E)\n",
    "plt.xlabel(\"$t$\")\n",
    "\n",
    "plt.title(r'Particle Number Density')\n",
    "plt.legend()\n",
    "#plt.savefig(\"ParticleNumberDensity.pdf\")"
   ]
  },
  {
   "cell_type": "code",
   "execution_count": null,
   "metadata": {},
   "outputs": [],
   "source": []
  }
 ],
 "metadata": {
  "kernelspec": {
   "display_name": "cuQuantum",
   "language": "python",
   "name": "cuquantum"
  },
  "language_info": {
   "codemirror_mode": {
    "name": "ipython",
    "version": 3
   },
   "file_extension": ".py",
   "mimetype": "text/x-python",
   "name": "python",
   "nbconvert_exporter": "python",
   "pygments_lexer": "ipython3",
   "version": "3.7.11"
  }
 },
 "nbformat": 4,
 "nbformat_minor": 4
}
